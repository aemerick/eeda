{
 "cells": [
  {
   "cell_type": "code",
   "execution_count": 23,
   "metadata": {},
   "outputs": [],
   "source": [
    "%matplotlib inline\n",
    "import matplotlib.pyplot as plt\n",
    "import numpy as np\n",
    "import pandas as pd"
   ]
  },
  {
   "cell_type": "markdown",
   "metadata": {},
   "source": [
    "Given the background in the Google doc, lets begin by loading and exploring the data. \n",
    "\n",
    "1) What features are available and what do a few data points look like?\n",
    "\n",
    "2) Are there any NULL values?\n",
    "\n",
    "3) What are the basic statistics of the features?"
   ]
  },
  {
   "cell_type": "markdown",
   "metadata": {},
   "source": [
    "**There is a nice summary of this analysis with takeaways at the end of this notebook**"
   ]
  },
  {
   "cell_type": "code",
   "execution_count": 13,
   "metadata": {},
   "outputs": [
    {
     "name": "stdout",
     "output_type": "stream",
     "text": [
      "  country  age  new_user source  total_pages_visited  converted\n",
      "0      UK   25         1    Ads                    1          0\n",
      "1      US   23         1    Seo                    5          0\n",
      "2      US   28         1    Seo                    4          0\n",
      "3   China   39         1    Seo                    5          0\n",
      "4      US   30         1    Seo                    6          0 \n",
      "\n",
      "\n",
      "---------------------------\n",
      "Number of null values: \n",
      "country                0\n",
      "age                    0\n",
      "new_user               0\n",
      "source                 0\n",
      "total_pages_visited    0\n",
      "converted              0\n",
      "dtype: int64\n",
      "---------------------------\n",
      "\n",
      "\n"
     ]
    },
    {
     "data": {
      "text/html": [
       "<div>\n",
       "<style scoped>\n",
       "    .dataframe tbody tr th:only-of-type {\n",
       "        vertical-align: middle;\n",
       "    }\n",
       "\n",
       "    .dataframe tbody tr th {\n",
       "        vertical-align: top;\n",
       "    }\n",
       "\n",
       "    .dataframe thead th {\n",
       "        text-align: right;\n",
       "    }\n",
       "</style>\n",
       "<table border=\"1\" class=\"dataframe\">\n",
       "  <thead>\n",
       "    <tr style=\"text-align: right;\">\n",
       "      <th></th>\n",
       "      <th>age</th>\n",
       "      <th>new_user</th>\n",
       "      <th>total_pages_visited</th>\n",
       "      <th>converted</th>\n",
       "    </tr>\n",
       "  </thead>\n",
       "  <tbody>\n",
       "    <tr>\n",
       "      <th>count</th>\n",
       "      <td>316200.000000</td>\n",
       "      <td>316200.000000</td>\n",
       "      <td>316200.000000</td>\n",
       "      <td>316200.000000</td>\n",
       "    </tr>\n",
       "    <tr>\n",
       "      <th>mean</th>\n",
       "      <td>30.569858</td>\n",
       "      <td>0.685465</td>\n",
       "      <td>4.872966</td>\n",
       "      <td>0.032258</td>\n",
       "    </tr>\n",
       "    <tr>\n",
       "      <th>std</th>\n",
       "      <td>8.271802</td>\n",
       "      <td>0.464331</td>\n",
       "      <td>3.341104</td>\n",
       "      <td>0.176685</td>\n",
       "    </tr>\n",
       "    <tr>\n",
       "      <th>min</th>\n",
       "      <td>17.000000</td>\n",
       "      <td>0.000000</td>\n",
       "      <td>1.000000</td>\n",
       "      <td>0.000000</td>\n",
       "    </tr>\n",
       "    <tr>\n",
       "      <th>25%</th>\n",
       "      <td>24.000000</td>\n",
       "      <td>0.000000</td>\n",
       "      <td>2.000000</td>\n",
       "      <td>0.000000</td>\n",
       "    </tr>\n",
       "    <tr>\n",
       "      <th>50%</th>\n",
       "      <td>30.000000</td>\n",
       "      <td>1.000000</td>\n",
       "      <td>4.000000</td>\n",
       "      <td>0.000000</td>\n",
       "    </tr>\n",
       "    <tr>\n",
       "      <th>75%</th>\n",
       "      <td>36.000000</td>\n",
       "      <td>1.000000</td>\n",
       "      <td>7.000000</td>\n",
       "      <td>0.000000</td>\n",
       "    </tr>\n",
       "    <tr>\n",
       "      <th>max</th>\n",
       "      <td>123.000000</td>\n",
       "      <td>1.000000</td>\n",
       "      <td>29.000000</td>\n",
       "      <td>1.000000</td>\n",
       "    </tr>\n",
       "  </tbody>\n",
       "</table>\n",
       "</div>"
      ],
      "text/plain": [
       "                 age       new_user  total_pages_visited      converted\n",
       "count  316200.000000  316200.000000        316200.000000  316200.000000\n",
       "mean       30.569858       0.685465             4.872966       0.032258\n",
       "std         8.271802       0.464331             3.341104       0.176685\n",
       "min        17.000000       0.000000             1.000000       0.000000\n",
       "25%        24.000000       0.000000             2.000000       0.000000\n",
       "50%        30.000000       1.000000             4.000000       0.000000\n",
       "75%        36.000000       1.000000             7.000000       0.000000\n",
       "max       123.000000       1.000000            29.000000       1.000000"
      ]
     },
     "execution_count": 13,
     "metadata": {},
     "output_type": "execute_result"
    }
   ],
   "source": [
    "df = pd.read_csv('./input/conversion_data.csv')\n",
    "\n",
    "print(df.head(5),'\\n\\n')\n",
    "print('---------------------------')\n",
    "print(\"Number of null values: \")\n",
    "print(df.isnull().sum())\n",
    "print('---------------------------\\n\\n')\n",
    "df.describe()\n"
   ]
  },
  {
   "cell_type": "markdown",
   "metadata": {},
   "source": [
    "There are five features (age, country, source, new_user, and total_pages_visited) and one target (converted). Age and total_pages_visited are numerical features, new_user is a binary categorical feature, and country and source are multi-class categorical.\n",
    "\n",
    "Lets explore these features in more detail to see if there are any interesting patterns / correlations between the features and target:"
   ]
  },
  {
   "cell_type": "code",
   "execution_count": 51,
   "metadata": {},
   "outputs": [
    {
     "data": {
      "text/plain": [
       "0    0.967742\n",
       "1    0.032258\n",
       "Name: converted, dtype: float64"
      ]
     },
     "execution_count": 51,
     "metadata": {},
     "output_type": "execute_result"
    }
   ],
   "source": [
    "# but first, lets check and see what fraction\n",
    "# of the users convert to get an idea of how balanced this \n",
    "# target is / is not:\n",
    "df['converted'].value_counts() / df['converted'].count()"
   ]
  },
  {
   "cell_type": "code",
   "execution_count": 167,
   "metadata": {},
   "outputs": [
    {
     "name": "stdout",
     "output_type": "stream",
     "text": [
      "1    0.685465\n",
      "0    0.314535\n",
      "Name: new_user, dtype: float64\n"
     ]
    },
    {
     "data": {
      "text/plain": [
       "new_user  converted\n",
       "0         0            0.927998\n",
       "          1            0.072002\n",
       "1         0            0.985979\n",
       "          1            0.014021\n",
       "dtype: float64"
      ]
     },
     "execution_count": 167,
     "metadata": {},
     "output_type": "execute_result"
    }
   ],
   "source": [
    "# and while we're at it, lets check and see fraction of new users\n",
    "print(df['new_user'].value_counts() / df['new_user'].count())\n",
    "df.groupby(['new_user','converted']).size() / df.groupby(['new_user']).size()"
   ]
  },
  {
   "cell_type": "markdown",
   "metadata": {},
   "source": [
    "Clearly a majority of the traffic DOES NOT yield a conversion, with only 3.23% of the users converting. \n",
    "\n",
    "It is interesting to note that a majority of the sample are new users. More on this later, but this may suggest there could be more done to increase return traffic (under the assumption that this isn't just driven by a particularly strong / exponential growth in new user traffic). This is especially true given that a higher fraction of returning users are converted than new users."
   ]
  },
  {
   "cell_type": "markdown",
   "metadata": {},
   "source": [
    "## Age"
   ]
  },
  {
   "cell_type": "markdown",
   "metadata": {},
   "source": [
    "There is clearly a wide range of users ages (up to 123! but it is probable safe to assume that the oldest human alive did not visit the website and that this particular value is not real)."
   ]
  },
  {
   "cell_type": "code",
   "execution_count": 42,
   "metadata": {},
   "outputs": [
    {
     "data": {
      "text/plain": [
       "52.0"
      ]
     },
     "execution_count": 42,
     "metadata": {},
     "output_type": "execute_result"
    }
   ],
   "source": [
    "df['age'].quantile(0.99)"
   ]
  },
  {
   "cell_type": "code",
   "execution_count": 48,
   "metadata": {},
   "outputs": [
    {
     "name": "stderr",
     "output_type": "stream",
     "text": [
      "/home/aemerick/anaconda3/lib/python3.7/site-packages/ipykernel_launcher.py:20: RuntimeWarning: invalid value encountered in true_divide\n",
      "/home/aemerick/anaconda3/lib/python3.7/site-packages/ipykernel_launcher.py:22: RuntimeWarning: invalid value encountered in true_divide\n"
     ]
    },
    {
     "data": {
      "image/png": "[encoded data removed]",
      "text/plain": [
       "<Figure size 720x360 with 2 Axes>"
      ]
     },
     "metadata": {
      "needs_background": "light"
     },
     "output_type": "display_data"
    }
   ],
   "source": [
    "#\n",
    "# Looking at age, but cutting off distribution around 99% \n",
    "# (rather than all the way up to 100).\n",
    "#\n",
    "bins = np.arange(15, 65, 2)\n",
    "converted, bins = np.histogram(df['age'], weights=df['converted'],\n",
    "                          bins = bins)\n",
    "not_converted, bins = np.histogram(df['age'],\n",
    "                                   weights=np.abs(df['converted']-1),\n",
    "                                   bins = bins)\n",
    "cent = 0.5*(bins[1:]+bins[:-1])\n",
    "total = converted+not_converted\n",
    "\n",
    "fig,ax = plt.subplots(1,2)\n",
    "fig.set_size_inches(10,5)\n",
    "\n",
    "ax[0].hist(df['age'],bins=bins)\n",
    "ax[0].set_ylabel('Count')\n",
    "\n",
    "f_c = converted/total\n",
    "f_c[total==0] = np.nan\n",
    "f_nc = not_converted/total\n",
    "f_nc[total==0] = np.nan\n",
    "\n",
    "ax[1].plot(cent, f_c, lw = 3, color = 'C0', label = 'Converted')\n",
    "ax[1].plot(cent, f_nc, lw=3,color = 'C1', label = 'Not-converted')\n",
    "ax[1].semilogy()\n",
    "ax[1].set_ylabel(\"Fraction\")\n",
    "ax[1].legend(loc='best')\n",
    "\n",
    "for a in ax:\n",
    "    a.set_xlabel('User Age')\n",
    "    a.set_xlim(15,65)\n",
    "\n",
    "plt.tight_layout()"
   ]
  },
  {
   "cell_type": "markdown",
   "metadata": {},
   "source": [
    "Here we see that the age distribution looks somewhat gaussian. A majority of the users are in their 20's and early-mid 30's. Given that a majority of users do not convert, it is not surprising that the conversion fraction in each age interval (right panel) is large, but there is a very clear trend of fraction of converted users with age. There is a deacreasing power-law of conversion fraction with increasing age, up until an age of about 52, where there is a (roughly) power-law increase again (there does seem to be sufficient users (>1000) that this is a real feature and not a small number statistics issue)."
   ]
  },
  {
   "cell_type": "code",
   "execution_count": 56,
   "metadata": {},
   "outputs": [
    {
     "data": {
      "text/plain": [
       "1156"
      ]
     },
     "execution_count": 56,
     "metadata": {},
     "output_type": "execute_result"
    }
   ],
   "source": [
    "df['age'][df['age']>55].count() "
   ]
  },
  {
   "cell_type": "markdown",
   "metadata": {},
   "source": [
    "The question to be asked is: why are the younger users converting at a higher rate? \n",
    "\n",
    "First, lets sanity check and check the number of "
   ]
  },
  {
   "cell_type": "code",
   "execution_count": 64,
   "metadata": {},
   "outputs": [
    {
     "name": "stderr",
     "output_type": "stream",
     "text": [
      "/home/aemerick/anaconda3/lib/python3.7/site-packages/ipykernel_launcher.py:18: RuntimeWarning: invalid value encountered in true_divide\n",
      "/home/aemerick/anaconda3/lib/python3.7/site-packages/ipykernel_launcher.py:20: RuntimeWarning: invalid value encountered in true_divide\n"
     ]
    },
    {
     "data": {
      "image/png": "[encoded data removed]",
      "text/plain": [
       "<Figure size 720x360 with 2 Axes>"
      ]
     },
     "metadata": {
      "needs_background": "light"
     },
     "output_type": "display_data"
    }
   ],
   "source": [
    "bins = np.arange(15, 65, 2)\n",
    "nu, bins = np.histogram(df['age'], weights=df['new_user'],\n",
    "                          bins = bins)\n",
    "not_nu, bins = np.histogram(df['age'],\n",
    "                                   weights=np.abs(df['new_user']-1),\n",
    "                                   bins = bins)\n",
    "cent = 0.5*(bins[1:]+bins[:-1])\n",
    "total = nu+not_nu\n",
    "\n",
    "fig,ax = plt.subplots(1,2)\n",
    "fig.set_size_inches(10,5)\n",
    "\n",
    "ax[0].plot(cent, converted, lw = 3, color = 'C0', label = \"Converted\")\n",
    "ax[0].plot(cent, not_converted, lw = 3, color = 'C1', label = \"Not-Converted\")\n",
    "ax[0].legend(loc='best')\n",
    "ax[0].semilogy()\n",
    "\n",
    "f_nu = nu/total\n",
    "f_nu[total==0] = np.nan\n",
    "f_notnu = not_nu/total\n",
    "f_notnu[total==0] = np.nan\n",
    "\n",
    "ax[1].plot(cent, f_nu, lw = 3, color = 'C2', label = 'New User')\n",
    "ax[1].plot(cent, f_notnu, lw=3,color = 'C3', label = 'Not New User')\n",
    "#ax[1].semilogy()\n",
    "ax[1].set_ylabel(\"Fraction\")\n",
    "ax[1].legend(loc='best')\n",
    "\n",
    "for a in ax:\n",
    "    a.set_xlabel('User Age')\n",
    "    a.set_xlim(15,65)\n",
    "\n",
    "plt.tight_layout()"
   ]
  },
  {
   "cell_type": "markdown",
   "metadata": {},
   "source": [
    "The left panel here is somewhat redundant with before, but this illustrates that there is indeed a decreasing trend of conversion with increasing age, but this does point out another feature that the initial descrease in conversion fraction with age over 20-30 year olds is due mostly to an increase in the non-conversion fraction from before while the total number of converted users remains roughly fixed over this range.\n",
    "\n",
    "There does not appear to be a significant correlation with new / not new users and user age, as the fractional distributions for each are roughly flat with age. However, there is a very slight increase in new usership for older users, with a noticeable uptick around the age of 50+."
   ]
  },
  {
   "cell_type": "markdown",
   "metadata": {},
   "source": [
    "## Pages Viewed"
   ]
  },
  {
   "cell_type": "code",
   "execution_count": null,
   "metadata": {},
   "outputs": [],
   "source": []
  },
  {
   "cell_type": "code",
   "execution_count": 84,
   "metadata": {
    "scrolled": false
   },
   "outputs": [
    {
     "data": {
      "image/png": "[encoded data removed]",
      "text/plain": [
       "<Figure size 1296x432 with 3 Axes>"
      ]
     },
     "metadata": {
      "needs_background": "light"
     },
     "output_type": "display_data"
    }
   ],
   "source": [
    "#\n",
    "# Looking at age, but cutting off distribution around 99% \n",
    "# (rather than all the way up to 100).\n",
    "#\n",
    "bins = np.arange(1,30,1)\n",
    "converted, bins = np.histogram(df['total_pages_visited'], weights=df['converted'],\n",
    "                          bins = bins)\n",
    "not_converted, bins = np.histogram(df['total_pages_visited'],\n",
    "                                   weights=np.abs(df['converted']-1),\n",
    "                                   bins = bins)\n",
    "cent = 0.5*(bins[1:]+bins[:-1])\n",
    "total = converted+not_converted\n",
    "\n",
    "fig,ax = plt.subplots(1,3)\n",
    "fig.set_size_inches(18,6)\n",
    "\n",
    "ax[0].hist(df['total_pages_visited'],bins=bins)\n",
    "ax[0].set_ylabel('Count')\n",
    "\n",
    "f_c = converted/total\n",
    "f_c[total==0] = np.nan\n",
    "f_nc = not_converted/total\n",
    "f_nc[total==0] = np.nan\n",
    "\n",
    "ax[1].plot(cent, f_c, lw = 3, color = 'C0', label = 'Converted')\n",
    "ax[1].plot(cent, f_nc, lw=3,color = 'C1', label = 'Not-converted')\n",
    "ax[1].semilogy()\n",
    "ax[1].set_ylabel(\"Fraction\")\n",
    "ax[1].legend(loc='best')\n",
    "\n",
    "ax[2].plot(cent, converted, lw = 3, color = 'C0', label = 'Converted')\n",
    "ax[2].plot(cent, not_converted, lw=3,color = 'C1', label = 'Not-converted')\n",
    "ax[2].semilogy()\n",
    "ax[2].set_ylabel(\"Count\")\n",
    "ax[2].legend(loc='best')\n",
    "\n",
    "for a in ax:\n",
    "    a.set_xlabel('Total Pages Visited')\n",
    "    a.set_xlim(1,30)\n",
    "\n",
    "plt.tight_layout()"
   ]
  },
  {
   "cell_type": "markdown",
   "metadata": {},
   "source": [
    "There is a wide range of pages viewed, but again looks somewhat gaussian (truncated) with a long tail to up to 29 pages! The majoriy are in the few to several range. However, looking at the right hand plot, it is clear that the conversion fraction does something intersting at around 12 pages viewed. Above this point a majority of users are converted, below this point they are not (by fraction).\n",
    "\n",
    "Again, lets look at the raw numbers to double check what is happening here. Here we see somehing intersting, that the total number of converted users does not increase monotonically with toal pages viewed. This descreases again after about 16 pages, but the fraction remains high since nearly everyone beyond this point still converts (the non-conversion count drops much faster)."
   ]
  },
  {
   "cell_type": "code",
   "execution_count": 96,
   "metadata": {},
   "outputs": [
    {
     "data": {
      "text/plain": [
       "Text(0.5, 0, 'Total Pages Viewed')"
      ]
     },
     "execution_count": 96,
     "metadata": {},
     "output_type": "execute_result"
    },
    {
     "data": {
      "image/png": "[encoded data removed]",
      "text/plain": [
       "<Figure size 432x288 with 1 Axes>"
      ]
     },
     "metadata": {
      "needs_background": "light"
     },
     "output_type": "display_data"
    }
   ],
   "source": [
    "temp_age = np.array(['       ']*df['age'].count())\n",
    "val = np.arange(15,66,10)\n",
    "for i in np.arange(len(val)-1):\n",
    "    temp_age[(df['age'] < val[i+1])*(df['age']>=val[i])] = \"%02i-%02i\"%(val[i],val[i+1])\n",
    "\n",
    "df['binned_age'] = temp_age\n",
    "\n",
    "(df.groupby(['total_pages_visited','binned_age']).size()/df.groupby(['total_pages_visited']).size()).unstack().plot(kind='bar',\n",
    "                                                                       stacked=True)\n",
    "plt.ylabel('Fraction of Users')\n",
    "plt.xlabel('Total Pages Viewed')\n",
    "#plt.semilogy()\n",
    "#plt.ylim(0.95,1)"
   ]
  },
  {
   "cell_type": "markdown",
   "metadata": {},
   "source": [
    "Out of curiosity, it does appear to be that there is also a correlation with total pages viewed and age. Younger viewers (those likely to convert) are also those that view more pages. It is likely then that the trend here in total pages viewed is driven by the fact that younger users are more likely to view more pages."
   ]
  },
  {
   "cell_type": "markdown",
   "metadata": {},
   "source": [
    "However, this is not as obvious as a trend for the oldest population (55-65) which does not seem to reach the same page-view levels as the younger population but still has that uptick in conversion as a function of age. This is maybe an additional interesting population to look at. "
   ]
  },
  {
   "cell_type": "markdown",
   "metadata": {},
   "source": [
    "## Source"
   ]
  },
  {
   "cell_type": "markdown",
   "metadata": {},
   "source": [
    "Source represents where the users came from before the website. Lets look at the fraction of users converted in each category, keeping in mind that the mean for conversion for this dataset is that 3.22% of users convert. "
   ]
  },
  {
   "cell_type": "code",
   "execution_count": 113,
   "metadata": {},
   "outputs": [
    {
     "name": "stdout",
     "output_type": "stream",
     "text": [
      "source\n",
      "Ads        88740\n",
      "Direct     72420\n",
      "Seo       155040\n",
      "dtype: int64\n",
      "------------  Fraction converted by source -----------------\n"
     ]
    },
    {
     "data": {
      "text/plain": [
       "source  converted\n",
       "Ads     0            0.965517\n",
       "        1            0.034483\n",
       "Direct  0            0.971831\n",
       "        1            0.028169\n",
       "Seo     0            0.967105\n",
       "        1            0.032895\n",
       "dtype: float64"
      ]
     },
     "execution_count": 113,
     "metadata": {},
     "output_type": "execute_result"
    }
   ],
   "source": [
    "print(df.groupby(['source']).size())\n",
    "print('------------  Fraction converted by source -----------------')\n",
    "df.groupby(['source','converted']).size() / df.groupby(['source']).size()"
   ]
  },
  {
   "cell_type": "markdown",
   "metadata": {},
   "source": [
    "It looks like there is a very slightly better change of conversion (3.4%) for users coming from Ads than Direct, while search engine results are in-line with the mean (this makes sense since it is a majority of the users)."
   ]
  },
  {
   "cell_type": "code",
   "execution_count": 181,
   "metadata": {},
   "outputs": [
    {
     "name": "stdout",
     "output_type": "stream",
     "text": [
      "------------  Fraction new users by source ------------------\n"
     ]
    },
    {
     "data": {
      "text/plain": [
       "source  new_user\n",
       "Ads     0           0.314300\n",
       "        1           0.685700\n",
       "Direct  0           0.313146\n",
       "        1           0.686854\n",
       "Seo     0           0.315319\n",
       "        1           0.684681\n",
       "dtype: float64"
      ]
     },
     "execution_count": 181,
     "metadata": {},
     "output_type": "execute_result"
    }
   ],
   "source": [
    "print('------------  Fraction new users by source ------------------')\n",
    "df.groupby(['source','new_user']).size() / df.groupby(['source']).size()"
   ]
  },
  {
   "cell_type": "markdown",
   "metadata": {},
   "source": [
    "## Country"
   ]
  },
  {
   "cell_type": "code",
   "execution_count": 125,
   "metadata": {},
   "outputs": [
    {
     "name": "stdout",
     "output_type": "stream",
     "text": [
      "country\n",
      "China      0.242258\n",
      "Germany    0.041290\n",
      "UK         0.153226\n",
      "US         0.563226\n",
      "dtype: float64\n",
      "------------  Fraction converted by country ------------------\n"
     ]
    },
    {
     "data": {
      "text/plain": [
       "country  converted\n",
       "China    0            0.998668\n",
       "         1            0.001332\n",
       "Germany  0            0.937500\n",
       "         1            0.062500\n",
       "UK       0            0.947368\n",
       "         1            0.052632\n",
       "US       0            0.962199\n",
       "         1            0.037801\n",
       "dtype: float64"
      ]
     },
     "execution_count": 125,
     "metadata": {},
     "output_type": "execute_result"
    }
   ],
   "source": [
    "print(df.groupby(['country']).size() / df['country'].count())\n",
    "print('------------  Fraction converted by country ------------------')\n",
    "df.groupby(['country','converted']).size() / df.groupby(['country']).size()"
   ]
  },
  {
   "cell_type": "markdown",
   "metadata": {},
   "source": [
    "A majority of the users come from the US (a little over half), with China making up the second largest userbase. Unsurprisingly, since the US is the majority category here its conversion fraction is most similar to the mean of the dataset -- however, it is a bit higher than the mean. It is clear that China's very low (0.1%) conversion rate is what drops the mean, and this is an obvious userbase to target to drive up conversion rate. Interestingly, Germany and UK's conversion rates are quite high, indicating that whatever the company is doing works the best in those two areas."
   ]
  },
  {
   "cell_type": "code",
   "execution_count": 165,
   "metadata": {},
   "outputs": [
    {
     "name": "stdout",
     "output_type": "stream",
     "text": [
      "------------  Fraction new users by country ------------------\n"
     ]
    },
    {
     "data": {
      "text/plain": [
       "country  new_user\n",
       "China    0           0.301480\n",
       "         1           0.698520\n",
       "Germany  0           0.322763\n",
       "         1           0.677237\n",
       "UK       0           0.320165\n",
       "         1           0.679835\n",
       "US       0           0.318015\n",
       "         1           0.681985\n",
       "dtype: float64"
      ]
     },
     "execution_count": 165,
     "metadata": {},
     "output_type": "execute_result"
    }
   ],
   "source": [
    "print('------------  Fraction new users by country ------------------')\n",
    "df.groupby(['country','new_user']).size() / df.groupby(['country']).size()"
   ]
  },
  {
   "cell_type": "markdown",
   "metadata": {},
   "source": [
    "And looking at the above, the increase in conversion for Germany and UK is not because there happens to be more returning users there than the US."
   ]
  },
  {
   "cell_type": "markdown",
   "metadata": {},
   "source": [
    "# Model"
   ]
  },
  {
   "cell_type": "markdown",
   "metadata": {},
   "source": [
    "Now we can construct a quick model to try and predict conversion rate. We have a few key things to keep in mind here:\n",
    "\n",
    "1) The features are of mixed types: continuous (age), integers (total pages viewd), binary categorical (new user), and categorical (country, source). Something like a SVM would not work well here. \n",
    "\n",
    "2) The target class is unbalanced. Accuracy would be a bad performance metric here. In addition, we would likely rather adopt a metric geared towards limiting the number of false positives to be pessimistic. This ultimately depends somewhat on the business and goals, but it is likely better to have more false negatives in this case and be pleasantly surprised when a user converts that we predicted would not, than the opposite, particularly if this model is important in setting budget expectations. \n",
    "\n",
    "Due to the inbalanced classes, F1 scoring is a good obtion to evaluate the performance of the model."
   ]
  },
  {
   "cell_type": "code",
   "execution_count": null,
   "metadata": {},
   "outputs": [],
   "source": []
  },
  {
   "cell_type": "code",
   "execution_count": 154,
   "metadata": {},
   "outputs": [],
   "source": [
    "# given the above, I've decided to try a gradient boosted decision tree\n",
    "# which tends to give good results out-of-the-box\n",
    "from sklearn.model_selection import train_test_split, GridSearchCV\n",
    "from sklearn.ensemble import GradientBoostingClassifier\n",
    "from sklearn.dummy import DummyClassifier\n",
    "from sklearn.metrics import f1_score\n",
    "\n",
    "#\n",
    "# First we need to split the data into training and test\n",
    "#\n",
    "df = pd.read_csv('./input/conversion_data.csv')\n",
    "\n",
    "\n",
    "X_train, X_test, y_train, y_test = train_test_split(df.drop('converted',axis=1),\n",
    "                                                    df['converted'],\n",
    "                                                    random_state = 0)"
   ]
  },
  {
   "cell_type": "code",
   "execution_count": 155,
   "metadata": {},
   "outputs": [],
   "source": [
    "#\n",
    "# To handle the country and source categories, we need to do one-hot-coding\n",
    "# of the country and source features.\n",
    "#\n",
    "# This is OK to do in this case since the number of features generated is \n",
    "# not too overbearing for memory as there are only 3 source categories\n",
    "# and 4 country categories. 100's would potentially require additional \n",
    "# solutions and further feature engineering.\n",
    "#\n",
    "def one_hot_code_categories(data):\n",
    "    \n",
    "    data = pd.concat([data, pd.get_dummies(data['country'],prefix='country')],axis=1)\n",
    "    data = pd.concat([data, pd.get_dummies(data['source'],prefix='source')],axis=1)\n",
    "\n",
    "    \n",
    "    # and strip originals\n",
    "    data.drop('country',axis=1,inplace=True)\n",
    "    data.drop('source',axis=1,inplace=True)\n",
    "    \n",
    "    return data\n",
    "\n",
    "X_train = one_hot_code_categories(X_train)\n",
    "X_test  = one_hot_code_categories(X_test)"
   ]
  },
  {
   "cell_type": "code",
   "execution_count": null,
   "metadata": {},
   "outputs": [],
   "source": []
  },
  {
   "cell_type": "code",
   "execution_count": 162,
   "metadata": {},
   "outputs": [],
   "source": [
    "#\n",
    "# define a function to train and test a classifier and \n",
    "# return useful information on its performance. This\n",
    "# will be used later.\n",
    "#\n",
    "def train_and_test_model(_X_train, _X_test, _y_train, _y_test, **kwargs):\n",
    "\n",
    "    clf = GradientBoostingClassifier(random_state=0, **kwargs)\n",
    "    clf.fit(X_train,y_train)\n",
    "    train_f1    = f1_score(_y_train, clf.predict(_X_train))\n",
    "    test_f1     = f1_score(_y_test, clf.predict(_X_test))\n",
    "    train_acc   = clf.score(_X_train, _y_train)\n",
    "    test_acc    = clf.score(_X_test, _y_test)\n",
    "    \n",
    "    print(\"Training Accuracy: %5.5f\"%(train_acc))\n",
    "    print(\"Test Accuracy: %5.5f\"%(test_acc))    \n",
    "    print(\"Training F1 score: %5.5f\"%(train_f1))\n",
    "    print(\"Test F1 score: %5.5f\"%(test_f1))\n",
    "    \n",
    "    return clf, train_f1, test_f1"
   ]
  },
  {
   "cell_type": "code",
   "execution_count": null,
   "metadata": {},
   "outputs": [],
   "source": []
  },
  {
   "cell_type": "code",
   "execution_count": 164,
   "metadata": {},
   "outputs": [
    {
     "name": "stdout",
     "output_type": "stream",
     "text": [
      "Dummy Classifier training accuracy: 0.96794\n",
      "Dummy Classifier test accuracy: 0.96715\n",
      "\n",
      "\n",
      "\n",
      "Training Accuracy: 0.98628\n",
      "Test Accuracy: 0.98559\n",
      "Training F1 score: 0.76137\n",
      "Test F1 score: 0.75330\n"
     ]
    }
   ],
   "source": [
    "# define a dummy classifier to get a baseline idea of what\n",
    "# we MUST be able to beat to say we accomplished anything\n",
    "dummy_clf = DummyClassifier(strategy = 'most_frequent').fit(X_train, y_train)\n",
    "dummy_train_acc = dummy_clf.score(X_train, y_train)\n",
    "dummy_test_acc  = dummy_clf.score(X_test, y_test)\n",
    "print(\"Dummy Classifier training accuracy: %5.5f\"%(dummy_train_acc))\n",
    "print(\"Dummy Classifier test accuracy: %5.5f\"%(dummy_test_acc))\n",
    "print(\"\\n\\n\")\n",
    "\n",
    "\n",
    "# define a default GB classifier to get a baseline idea of performance\n",
    "default_clf, default_train_f1, default_test_f1 = train_and_test_model(X_train,X_test,y_train,y_test)"
   ]
  },
  {
   "cell_type": "markdown",
   "metadata": {},
   "source": [
    "Default parameters do fairly well and do have an improvement on accuracy over the dummy classifier. The F1 score on the training data and the test data are similar and fairly high (0.76 and 0.75). This is likely a good choice model, but we may be able to do a little bit better with some parameter tuning:"
   ]
  },
  {
   "cell_type": "code",
   "execution_count": 179,
   "metadata": {},
   "outputs": [
    {
     "data": {
      "text/plain": [
       "GridSearchCV(cv=3, error_score='raise-deprecating',\n",
       "             estimator=GradientBoostingClassifier(criterion='friedman_mse',\n",
       "                                                  init=None, learning_rate=0.1,\n",
       "                                                  loss='deviance', max_depth=3,\n",
       "                                                  max_features=None,\n",
       "                                                  max_leaf_nodes=None,\n",
       "                                                  min_impurity_decrease=0.0,\n",
       "                                                  min_impurity_split=None,\n",
       "                                                  min_samples_leaf=1,\n",
       "                                                  min_samples_split=2,\n",
       "                                                  min_weight_fraction_leaf=0.0,\n",
       "                                                  n_estimators=100,\n",
       "                                                  n_iter_no...ge=None,\n",
       "                                                  presort='auto',\n",
       "                                                  random_state=0, subsample=1.0,\n",
       "                                                  tol=0.0001,\n",
       "                                                  validation_fraction=0.1,\n",
       "                                                  verbose=0, warm_start=False),\n",
       "             iid='warn', n_jobs=-1,\n",
       "             param_grid={'learning_rate': [0.01, 0.05, 0.1, 0.2],\n",
       "                         'max_depth': [3, 5, 8], 'min_samples_leaf': [1, 10],\n",
       "                         'min_samples_split': [2, 10, 100, 1000]},\n",
       "             pre_dispatch='2*n_jobs', refit=True, return_train_score=False,\n",
       "             scoring='f1', verbose=0)"
      ]
     },
     "execution_count": 179,
     "metadata": {},
     "output_type": "execute_result"
    }
   ],
   "source": [
    "#\n",
    "#\n",
    "# For time reasons, I am just going to do a simple and quick sequence\n",
    "# of parameter tuning, iterating over a few of the most-likely to effect\n",
    "# improvement \n",
    "#\n",
    "num_values = len(df)\n",
    "\n",
    "\n",
    "parameters = { 'learning_rate' : [0.01, 0.05, 0.1,0.2],\n",
    "               'min_samples_split' : [2, 10, 100, 1000],\n",
    "               'min_samples_leaf' : [1,10],\n",
    "               'max_depth' : [3,5,8]}\n",
    "\n",
    "grid_search = GridSearchCV( GradientBoostingClassifier(random_state=0),\n",
    "                            param_grid = parameters,\n",
    "                            scoring = 'f1',  # f1 scoring\n",
    "                            cv     = 3,      # num of cross validations - 3 to make this quicker\n",
    "                            n_jobs = -1      # use all cores available\n",
    "                          )\n",
    "\n",
    "grid_search.fit(X_train, y_train)\n",
    "              "
   ]
  },
  {
   "cell_type": "code",
   "execution_count": 183,
   "metadata": {
    "scrolled": false
   },
   "outputs": [
    {
     "name": "stdout",
     "output_type": "stream",
     "text": [
      "{'learning_rate': 0.05, 'max_depth': 5, 'min_samples_leaf': 10, 'min_samples_split': 100}\n",
      "------------------------\n",
      "0.7637001312711852\n"
     ]
    }
   ],
   "source": [
    "#print(grid_search.cv_results_)\n",
    "#print(\"------------------------\")\n",
    "print(grid_search.best_params_)\n",
    "print(\"------------------------\")\n",
    "print(grid_search.best_score_)"
   ]
  },
  {
   "cell_type": "code",
   "execution_count": 182,
   "metadata": {},
   "outputs": [
    {
     "name": "stdout",
     "output_type": "stream",
     "text": [
      "Training Accuracy: 0.98654\n",
      "Test Accuracy: 0.98567\n",
      "Training F1 score: 0.77017\n",
      "Test F1 score: 0.75878\n"
     ]
    }
   ],
   "source": [
    "# now lets train a model using the best parameters \n",
    "# \n",
    "# Best parameters : {'learning_rate': 0.05, 'max_depth': 5, 'min_samples_leaf': 10, 'min_samples_split': 100}\n",
    "#\n",
    "\n",
    "\n",
    "tuned_clf, tuned_train_f1, tuned_test_f1 = train_and_test_model(X_train,X_test,y_train,y_test,\n",
    "                                                                **grid_search.best_params_)"
   ]
  },
  {
   "cell_type": "markdown",
   "metadata": {},
   "source": [
    "It appears that doing this parameter tuning did indeed generate a set of parameters that improved the classifier, but only by a VERY VERY small amount. With more time / resources this can be done a bit better with a more iterative process tuning certain parameters while fixing others, but it is possible that this suggests a different model should be tested to see if the results could be improved first before dedicating more time into squeeze out a few more hundredths of a percent. \n",
    "\n",
    "However, this is sufficient for this exercise."
   ]
  },
  {
   "cell_type": "markdown",
   "metadata": {},
   "source": [
    "# Summary and Takeaways"
   ]
  },
  {
   "cell_type": "markdown",
   "metadata": {},
   "source": [
    "Based on the exploratory analysis and model building, the following is a summary of key things learned about this dataset and possible avenues for improving conversion going forward:\n",
    "\n",
    "- Younger users -- by fraction -- convert more than older users, though there is a population in the 55-65 year age range that seems to convert at a higher-than-expected rate (though not more than younger users).\n",
    "\n",
    "- Returning users convert more than new users, though most of the traffic is from new users. The ratio of new to returning users does not seem to depend significantly on country of origin.\n",
    "\n",
    "- A majority of the users come from the U.S., but China makes up the second largest user base and has the lowest (by far) conversion rate. Germany and the UK both have higher conversion rates than the US.\n",
    "\n",
    "- Time spent on the website (by number of page views) is a strong predictor of conversion, with those viewing more than ~12 pages converting at a higher rate than not. \n",
    "\n",
    "- There is not a dramatic difference in conversion rate across sources, though direct link users convert at a lower rate (this is mostly because these are more returning users).\n",
    "\n",
    "Given this above, this suggests the following may be good strategies and questions to ask for the company to pursue to improve conversion:\n",
    "\n",
    "- **Improve Conversion Rate in China**: The abismal conversion rate in China is an obvious place to start. More should be done to better market product to Chinese costumers. This may pose significant logistical challenges -- however -- depending on the details of the company (e.g. shipping, customs, local legal restrictions). \n",
    "\n",
    "\n",
    "- **Increase Time Spent on the Website.** There could be multiple strategies to do this depending on the company, but placing more frequent and more enticing links to additional internal pages is one viable option. Even better if this is done by providing clear, attractive links to other pages of interest that are either directly related to the one currently viewed based on keywords, or based on previous users behaviors / interests. This is an obvious place where A/B testing could be done to demonstrate improvement between website design / features.\n",
    "\n",
    "\n",
    "- **Decrease Churn**: New users make up the bulk web traffic but returning users are more likely to convert. While it may be the case that this website is seeing a sudden increase in growth of traffic and there just has not been enough time for the new users to return, this could also suggest that more should be done to decrease churn. It would be worthwhile to investigate (pontentially with a survey to returning users) why users come to the website in the first place and why users return to understand what can be done to convince more users to return.\n",
    "\n",
    "\n",
    "- **Learn from Germany and the UK**: Conversion rate in Germany and the UK is higher than average. The company should examine why their performance here is better than in the US and China to try and better translate this success to existing (and new) markets."
   ]
  },
  {
   "cell_type": "code",
   "execution_count": null,
   "metadata": {},
   "outputs": [],
   "source": []
  }
 ],
 "metadata": {
  "kernelspec": {
   "display_name": "Python 3",
   "language": "python",
   "name": "python3"
  },
  "language_info": {
   "codemirror_mode": {
    "name": "ipython",
    "version": 3
   },
   "file_extension": ".py",
   "mimetype": "text/x-python",
   "name": "python",
   "nbconvert_exporter": "python",
   "pygments_lexer": "ipython3",
   "version": "3.7.3"
  }
 },
 "nbformat": 4,
 "nbformat_minor": 2
}
