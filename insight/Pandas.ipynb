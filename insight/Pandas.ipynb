{
 "cells": [
  {
   "cell_type": "markdown",
   "metadata": {
    "colab_type": "text",
    "id": "-4gr26tJFbg6"
   },
   "source": [
    "# Pandas and Exploratory Data Analysis (EDA)"
   ]
  },
  {
   "cell_type": "markdown",
   "metadata": {
    "colab_type": "text",
    "id": "nG1qwwpVFbg8"
   },
   "source": [
    "It's important that you hone your Pandas and exploratory data analysis (EDA) skills before the session starts. If you are having trouble, Google is your best friend! If you are still having problems, ask your fellow Fellows for help through the Platform. Good luck!\n",
    "<br> <br>\n",
    "Begin by downloading the Crunchbase dataset on start-up investments, which can be found [here](https://drive.google.com/file/d/1zsjN1tGWdXPb4wf4eTM62usMciSV-0sX/view)."
   ]
  },
  {
   "cell_type": "markdown",
   "metadata": {
    "colab_type": "text",
    "id": "GwK-b_KMFbg9"
   },
   "source": [
    "**Exercise:**\n",
    "The first thing we should do is import the Pandas library. It will probably be helpful to give this library an alias, too. Then, import the dataset and give it a name!"
   ]
  },
  {
   "cell_type": "code",
   "execution_count": 1,
   "metadata": {
    "colab": {},
    "colab_type": "code",
    "id": "1mXvrnK2Fbg_",
    "scrolled": true
   },
   "outputs": [],
   "source": [
    "import pandas as pd"
   ]
  },
  {
   "cell_type": "markdown",
   "metadata": {
    "colab_type": "text",
    "id": "6TFhcHVVFbhI"
   },
   "source": [
    "Some of you may have experienced a problem already - thats ok! We can deal.\n",
    "<br><br>\n",
    "The problem here is that the dataset is encoded in Latin-1, but Pandas has defaulted to UTF-8 encoding. Bad, pandas! But it's ok, you can correct for this by specifying the encoding in your command. <br><br>\n",
    "*Pro tip:* If you're having trouble, try Googling your error messages. You are probably not the first to encounter any particular error."
   ]
  },
  {
   "cell_type": "code",
   "execution_count": 2,
   "metadata": {
    "colab": {
     "base_uri": "https://localhost:8080/",
     "height": 306
    },
    "colab_type": "code",
    "id": "kXmLvm0gFbhJ",
    "outputId": "d7384b11-a3cf-4252-ef40-4e20054f0956"
   },
   "outputs": [],
   "source": [
    "df = pd.read_csv('./input/Crunchbase_Startup_Investment_Data.csv', encoding='latin1')"
   ]
  },
  {
   "cell_type": "markdown",
   "metadata": {
    "colab_type": "text",
    "id": "cAh6GX0DFbhM"
   },
   "source": [
    "Now that we have successfully imported the data, let's do some Exploratory Data Analysis! \n",
    "\n",
    "**Exercise:**<br>\n",
    "Let's begin by displaying the first 5 rows of each column. <br>(*Hint: there is a special command for this!*)"
   ]
  },
  {
   "cell_type": "code",
   "execution_count": 4,
   "metadata": {
    "colab": {},
    "colab_type": "code",
    "id": "1NyRT2qCFbhO"
   },
   "outputs": [
    {
     "data": {
      "text/html": [
       "<div>\n",
       "<style scoped>\n",
       "    .dataframe tbody tr th:only-of-type {\n",
       "        vertical-align: middle;\n",
       "    }\n",
       "\n",
       "    .dataframe tbody tr th {\n",
       "        vertical-align: top;\n",
       "    }\n",
       "\n",
       "    .dataframe thead th {\n",
       "        text-align: right;\n",
       "    }\n",
       "</style>\n",
       "<table border=\"1\" class=\"dataframe\">\n",
       "  <thead>\n",
       "    <tr style=\"text-align: right;\">\n",
       "      <th></th>\n",
       "      <th>company_permalink</th>\n",
       "      <th>company_name</th>\n",
       "      <th>company_category_list</th>\n",
       "      <th>company_market</th>\n",
       "      <th>company_country_code</th>\n",
       "      <th>company_state_code</th>\n",
       "      <th>company_region</th>\n",
       "      <th>company_city</th>\n",
       "      <th>investor_permalink</th>\n",
       "      <th>investor_name</th>\n",
       "      <th>...</th>\n",
       "      <th>investor_city</th>\n",
       "      <th>funding_round_permalink</th>\n",
       "      <th>funding_round_type</th>\n",
       "      <th>funding_round_code</th>\n",
       "      <th>funded_at</th>\n",
       "      <th>funded_month</th>\n",
       "      <th>funded_quarter</th>\n",
       "      <th>funded_year</th>\n",
       "      <th>raised_amount_total_usd</th>\n",
       "      <th>raised_amount_each</th>\n",
       "    </tr>\n",
       "  </thead>\n",
       "  <tbody>\n",
       "    <tr>\n",
       "      <th>0</th>\n",
       "      <td>/organization/andrewburnett-com-ltd</td>\n",
       "      <td>AndrewBurnett.com Ltd</td>\n",
       "      <td>|Internet|SEO|Services|Public Relations|Social...</td>\n",
       "      <td>Internet</td>\n",
       "      <td>GBR</td>\n",
       "      <td>NaN</td>\n",
       "      <td>Edinburgh</td>\n",
       "      <td>Edinburgh</td>\n",
       "      <td>/organization/ekaf</td>\n",
       "      <td>Ekaf</td>\n",
       "      <td>...</td>\n",
       "      <td>NaN</td>\n",
       "      <td>/funding-round/14fe2864e02d0f15ddc3ec8eacdc8e1b</td>\n",
       "      <td>seed</td>\n",
       "      <td>NaN</td>\n",
       "      <td>1974-01-01</td>\n",
       "      <td>1974-01</td>\n",
       "      <td>1974-Q1</td>\n",
       "      <td>1974</td>\n",
       "      <td>NaN</td>\n",
       "      <td>-</td>\n",
       "    </tr>\n",
       "    <tr>\n",
       "      <th>1</th>\n",
       "      <td>/organization/abo-data</td>\n",
       "      <td>ABO Data</td>\n",
       "      <td>|Enterprise Software|</td>\n",
       "      <td>Enterprise Software</td>\n",
       "      <td>USA</td>\n",
       "      <td>TX</td>\n",
       "      <td>TX - Other</td>\n",
       "      <td>Italy</td>\n",
       "      <td>/person/antonio-murroni</td>\n",
       "      <td>ANTONIO MURRONI</td>\n",
       "      <td>...</td>\n",
       "      <td>NaN</td>\n",
       "      <td>/funding-round/809e211b969c3f66440fc15ffcd29385</td>\n",
       "      <td>seed</td>\n",
       "      <td>NaN</td>\n",
       "      <td>1979-01-01</td>\n",
       "      <td>1979-01</td>\n",
       "      <td>1979-Q1</td>\n",
       "      <td>1979</td>\n",
       "      <td>1,000,000</td>\n",
       "      <td>#DIV/0!</td>\n",
       "    </tr>\n",
       "    <tr>\n",
       "      <th>2</th>\n",
       "      <td>/organization/abo-data</td>\n",
       "      <td>ABO Data</td>\n",
       "      <td>|Enterprise Software|</td>\n",
       "      <td>Enterprise Software</td>\n",
       "      <td>USA</td>\n",
       "      <td>TX</td>\n",
       "      <td>TX - Other</td>\n",
       "      <td>Italy</td>\n",
       "      <td>/person/filippo-murroni</td>\n",
       "      <td>FILIPPO Murroni</td>\n",
       "      <td>...</td>\n",
       "      <td>NaN</td>\n",
       "      <td>/funding-round/809e211b969c3f66440fc15ffcd29385</td>\n",
       "      <td>seed</td>\n",
       "      <td>NaN</td>\n",
       "      <td>1979-01-01</td>\n",
       "      <td>1979-01</td>\n",
       "      <td>1979-Q1</td>\n",
       "      <td>1979</td>\n",
       "      <td>1,000,000</td>\n",
       "      <td>#DIV/0!</td>\n",
       "    </tr>\n",
       "    <tr>\n",
       "      <th>3</th>\n",
       "      <td>/organization/ikro</td>\n",
       "      <td>Ikro</td>\n",
       "      <td>NaN</td>\n",
       "      <td>NaN</td>\n",
       "      <td>BRA</td>\n",
       "      <td>NaN</td>\n",
       "      <td>BRA - Other</td>\n",
       "      <td>Canoas</td>\n",
       "      <td>/organization/crp-companhia-de-participacoes</td>\n",
       "      <td>CRP Companhia de Participac?o?es</td>\n",
       "      <td>...</td>\n",
       "      <td>NaN</td>\n",
       "      <td>/funding-round/46c353a8249170cc4b6ab89a522fefdc</td>\n",
       "      <td>venture</td>\n",
       "      <td>A</td>\n",
       "      <td>1982-06-01</td>\n",
       "      <td>1982-06</td>\n",
       "      <td>1982-Q2</td>\n",
       "      <td>1982</td>\n",
       "      <td>724,000</td>\n",
       "      <td>#DIV/0!</td>\n",
       "    </tr>\n",
       "    <tr>\n",
       "      <th>4</th>\n",
       "      <td>/organization/indelsul</td>\n",
       "      <td>Indelsul</td>\n",
       "      <td>NaN</td>\n",
       "      <td>NaN</td>\n",
       "      <td>NaN</td>\n",
       "      <td>NaN</td>\n",
       "      <td>NaN</td>\n",
       "      <td>NaN</td>\n",
       "      <td>/organization/crp-companhia-de-participacoes</td>\n",
       "      <td>CRP Companhia de Participac?o?es</td>\n",
       "      <td>...</td>\n",
       "      <td>NaN</td>\n",
       "      <td>/funding-round/48e8db0d90f95934831603622cb3f46a</td>\n",
       "      <td>venture</td>\n",
       "      <td>A</td>\n",
       "      <td>1982-12-01</td>\n",
       "      <td>1982-12</td>\n",
       "      <td>1982-Q4</td>\n",
       "      <td>1982</td>\n",
       "      <td>165,000</td>\n",
       "      <td>#DIV/0!</td>\n",
       "    </tr>\n",
       "  </tbody>\n",
       "</table>\n",
       "<p>5 rows × 25 columns</p>\n",
       "</div>"
      ],
      "text/plain": [
       "                     company_permalink           company_name  \\\n",
       "0  /organization/andrewburnett-com-ltd  AndrewBurnett.com Ltd   \n",
       "1               /organization/abo-data               ABO Data   \n",
       "2               /organization/abo-data               ABO Data   \n",
       "3                   /organization/ikro                   Ikro   \n",
       "4               /organization/indelsul               Indelsul   \n",
       "\n",
       "                               company_category_list       company_market  \\\n",
       "0  |Internet|SEO|Services|Public Relations|Social...             Internet   \n",
       "1                              |Enterprise Software|  Enterprise Software   \n",
       "2                              |Enterprise Software|  Enterprise Software   \n",
       "3                                                NaN                  NaN   \n",
       "4                                                NaN                  NaN   \n",
       "\n",
       "  company_country_code company_state_code company_region company_city  \\\n",
       "0                  GBR                NaN      Edinburgh    Edinburgh   \n",
       "1                  USA                 TX     TX - Other        Italy   \n",
       "2                  USA                 TX     TX - Other        Italy   \n",
       "3                  BRA                NaN    BRA - Other       Canoas   \n",
       "4                  NaN                NaN            NaN          NaN   \n",
       "\n",
       "                             investor_permalink  \\\n",
       "0                            /organization/ekaf   \n",
       "1                       /person/antonio-murroni   \n",
       "2                       /person/filippo-murroni   \n",
       "3  /organization/crp-companhia-de-participacoes   \n",
       "4  /organization/crp-companhia-de-participacoes   \n",
       "\n",
       "                      investor_name  ... investor_city  \\\n",
       "0                              Ekaf  ...           NaN   \n",
       "1                   ANTONIO MURRONI  ...           NaN   \n",
       "2                   FILIPPO Murroni  ...           NaN   \n",
       "3  CRP Companhia de Participac?o?es  ...           NaN   \n",
       "4  CRP Companhia de Participac?o?es  ...           NaN   \n",
       "\n",
       "                           funding_round_permalink funding_round_type  \\\n",
       "0  /funding-round/14fe2864e02d0f15ddc3ec8eacdc8e1b               seed   \n",
       "1  /funding-round/809e211b969c3f66440fc15ffcd29385               seed   \n",
       "2  /funding-round/809e211b969c3f66440fc15ffcd29385               seed   \n",
       "3  /funding-round/46c353a8249170cc4b6ab89a522fefdc            venture   \n",
       "4  /funding-round/48e8db0d90f95934831603622cb3f46a            venture   \n",
       "\n",
       "  funding_round_code   funded_at funded_month funded_quarter funded_year  \\\n",
       "0                NaN  1974-01-01      1974-01        1974-Q1        1974   \n",
       "1                NaN  1979-01-01      1979-01        1979-Q1        1979   \n",
       "2                NaN  1979-01-01      1979-01        1979-Q1        1979   \n",
       "3                  A  1982-06-01      1982-06        1982-Q2        1982   \n",
       "4                  A  1982-12-01      1982-12        1982-Q4        1982   \n",
       "\n",
       "  raised_amount_total_usd raised_amount_each  \n",
       "0                     NaN               -     \n",
       "1              1,000,000             #DIV/0!  \n",
       "2              1,000,000             #DIV/0!  \n",
       "3                724,000             #DIV/0!  \n",
       "4                165,000             #DIV/0!  \n",
       "\n",
       "[5 rows x 25 columns]"
      ]
     },
     "execution_count": 4,
     "metadata": {},
     "output_type": "execute_result"
    }
   ],
   "source": [
    "df.head(5)"
   ]
  },
  {
   "cell_type": "markdown",
   "metadata": {
    "colab_type": "text",
    "id": "8CzgyRDxFbhT"
   },
   "source": [
    "**Question:**<br>\n",
    "How many columns are in this dataset? How many rows?"
   ]
  },
  {
   "cell_type": "code",
   "execution_count": 6,
   "metadata": {
    "colab": {},
    "colab_type": "code",
    "id": "laPNW9a5FbhU"
   },
   "outputs": [
    {
     "name": "stdout",
     "output_type": "stream",
     "text": [
      "Columns:  25\n",
      "Rows:  114505\n"
     ]
    }
   ],
   "source": [
    "print(\"Columns: \", len(df.columns))\n",
    "print(\"Rows: \", len(df))"
   ]
  },
  {
   "cell_type": "markdown",
   "metadata": {
    "colab_type": "text",
    "id": "WZSTCh8WFbhZ"
   },
   "source": [
    "**Exercise:**<br>\n",
    "You'll probably notice that the command above actually truncates the number of columns it shows. This is to make display easier. However, we will definitely want to see each of the column names so that we know what kinds of data are available to us. Try pulling out all of the column names."
   ]
  },
  {
   "cell_type": "code",
   "execution_count": 7,
   "metadata": {
    "colab": {},
    "colab_type": "code",
    "id": "IbduZJmkFbha"
   },
   "outputs": [
    {
     "data": {
      "text/plain": [
       "Index(['company_permalink', 'company_name', 'company_category_list',\n",
       "       'company_market', 'company_country_code', 'company_state_code',\n",
       "       'company_region', 'company_city', 'investor_permalink', 'investor_name',\n",
       "       'investor_category_list', 'investor_market', 'investor_country_code',\n",
       "       'investor_state_code', 'investor_region', 'investor_city',\n",
       "       'funding_round_permalink', 'funding_round_type', 'funding_round_code',\n",
       "       'funded_at', 'funded_month', 'funded_quarter', 'funded_year',\n",
       "       'raised_amount_total_usd', 'raised_amount_each'],\n",
       "      dtype='object')"
      ]
     },
     "execution_count": 7,
     "metadata": {},
     "output_type": "execute_result"
    }
   ],
   "source": [
    "df.columns"
   ]
  },
  {
   "cell_type": "markdown",
   "metadata": {
    "colab_type": "text",
    "id": "UaaweiK-Fbhe"
   },
   "source": [
    "**Question:**<br>\n",
    "What are the data types in each column?"
   ]
  },
  {
   "cell_type": "code",
   "execution_count": 9,
   "metadata": {
    "colab": {},
    "colab_type": "code",
    "id": "IdltHuv2Fbhe",
    "scrolled": true
   },
   "outputs": [
    {
     "name": "stdout",
     "output_type": "stream",
     "text": [
      "<class 'pandas.core.frame.DataFrame'>\n",
      "RangeIndex: 114505 entries, 0 to 114504\n",
      "Data columns (total 25 columns):\n",
      "company_permalink          114505 non-null object\n",
      "company_name               114504 non-null object\n",
      "company_category_list      111242 non-null object\n",
      "company_market             111240 non-null object\n",
      "company_country_code       107146 non-null object\n",
      "company_state_code         79158 non-null object\n",
      "company_region             107146 non-null object\n",
      "company_city               105800 non-null object\n",
      "investor_permalink         114439 non-null object\n",
      "investor_name              114439 non-null object\n",
      "investor_category_list     30507 non-null object\n",
      "investor_market            30455 non-null object\n",
      "investor_country_code      86521 non-null object\n",
      "investor_state_code        62274 non-null object\n",
      "investor_region            86521 non-null object\n",
      "investor_city              86007 non-null object\n",
      "funding_round_permalink    114505 non-null object\n",
      "funding_round_type         114505 non-null object\n",
      "funding_round_code         54669 non-null object\n",
      "funded_at                  114505 non-null object\n",
      "funded_month               114505 non-null object\n",
      "funded_quarter             114505 non-null object\n",
      "funded_year                114505 non-null int64\n",
      "raised_amount_total_usd    101154 non-null object\n",
      "raised_amount_each         114505 non-null object\n",
      "dtypes: int64(1), object(24)\n",
      "memory usage: 21.8+ MB\n"
     ]
    }
   ],
   "source": [
    "df.info()"
   ]
  },
  {
   "cell_type": "markdown",
   "metadata": {
    "colab_type": "text",
    "id": "eTNbnBtPFbhk"
   },
   "source": [
    "One of the inevitable frustrations in working with large datasets is that they can be messy. Often, values can be missing. Values might be missing because they don't apply, or simply because they got lost in the shuffle (e.g. wasn't recorded, data was corrupted, etc.) Missing values can take different forms in different datasets - and sometimes even multiple forms! One typical form is NaN, which is an acronym for Not A Number. <br><br>\n",
    "**Question:**<br>\n",
    "How many NaN's appear in each column? How many total across columns?"
   ]
  },
  {
   "cell_type": "code",
   "execution_count": 16,
   "metadata": {
    "colab": {},
    "colab_type": "code",
    "id": "A2slm7OHFbhm"
   },
   "outputs": [
    {
     "name": "stdout",
     "output_type": "stream",
     "text": [
      "company_permalink              0\n",
      "company_name                   1\n",
      "company_category_list       3263\n",
      "company_market              3265\n",
      "company_country_code        7359\n",
      "company_state_code         35347\n",
      "company_region              7359\n",
      "company_city                8705\n",
      "investor_permalink            66\n",
      "investor_name                 66\n",
      "investor_category_list     83998\n",
      "investor_market            84050\n",
      "investor_country_code      27984\n",
      "investor_state_code        52231\n",
      "investor_region            27984\n",
      "investor_city              28498\n",
      "funding_round_permalink        0\n",
      "funding_round_type             0\n",
      "funding_round_code         59836\n",
      "funded_at                      0\n",
      "funded_month                   0\n",
      "funded_quarter                 0\n",
      "funded_year                    0\n",
      "raised_amount_total_usd    13351\n",
      "raised_amount_each             0\n",
      "dtype: int64\n",
      "Total Number:  443363\n"
     ]
    }
   ],
   "source": [
    "x = df.isna().sum()\n",
    "print(x)\n",
    "print(\"Total Number: \", x.values.sum())"
   ]
  },
  {
   "cell_type": "code",
   "execution_count": null,
   "metadata": {},
   "outputs": [],
   "source": []
  },
  {
   "cell_type": "markdown",
   "metadata": {
    "colab_type": "text",
    "id": "rMSMEQE0Fbhp"
   },
   "source": [
    "**Exercise:**<br>\n",
    "Let's take a look at all the columns that pertain to the amounts of money each company has raised. How many columns are relevant? Can you pull them all out at once?"
   ]
  },
  {
   "cell_type": "code",
   "execution_count": 17,
   "metadata": {
    "colab": {},
    "colab_type": "code",
    "id": "HIPIwfl0Fbhq",
    "scrolled": true
   },
   "outputs": [
    {
     "data": {
      "text/html": [
       "<div>\n",
       "<style scoped>\n",
       "    .dataframe tbody tr th:only-of-type {\n",
       "        vertical-align: middle;\n",
       "    }\n",
       "\n",
       "    .dataframe tbody tr th {\n",
       "        vertical-align: top;\n",
       "    }\n",
       "\n",
       "    .dataframe thead th {\n",
       "        text-align: right;\n",
       "    }\n",
       "</style>\n",
       "<table border=\"1\" class=\"dataframe\">\n",
       "  <thead>\n",
       "    <tr style=\"text-align: right;\">\n",
       "      <th></th>\n",
       "      <th>raised_amount_total_usd</th>\n",
       "      <th>raised_amount_each</th>\n",
       "    </tr>\n",
       "  </thead>\n",
       "  <tbody>\n",
       "    <tr>\n",
       "      <th>0</th>\n",
       "      <td>NaN</td>\n",
       "      <td>-</td>\n",
       "    </tr>\n",
       "    <tr>\n",
       "      <th>1</th>\n",
       "      <td>1,000,000</td>\n",
       "      <td>#DIV/0!</td>\n",
       "    </tr>\n",
       "    <tr>\n",
       "      <th>2</th>\n",
       "      <td>1,000,000</td>\n",
       "      <td>#DIV/0!</td>\n",
       "    </tr>\n",
       "    <tr>\n",
       "      <th>3</th>\n",
       "      <td>724,000</td>\n",
       "      <td>#DIV/0!</td>\n",
       "    </tr>\n",
       "    <tr>\n",
       "      <th>4</th>\n",
       "      <td>165,000</td>\n",
       "      <td>#DIV/0!</td>\n",
       "    </tr>\n",
       "    <tr>\n",
       "      <th>5</th>\n",
       "      <td>155,000</td>\n",
       "      <td>#DIV/0!</td>\n",
       "    </tr>\n",
       "    <tr>\n",
       "      <th>6</th>\n",
       "      <td>94,000</td>\n",
       "      <td>#DIV/0!</td>\n",
       "    </tr>\n",
       "    <tr>\n",
       "      <th>7</th>\n",
       "      <td>NaN</td>\n",
       "      <td>-</td>\n",
       "    </tr>\n",
       "    <tr>\n",
       "      <th>8</th>\n",
       "      <td>NaN</td>\n",
       "      <td>-</td>\n",
       "    </tr>\n",
       "    <tr>\n",
       "      <th>9</th>\n",
       "      <td>243,000</td>\n",
       "      <td>#DIV/0!</td>\n",
       "    </tr>\n",
       "    <tr>\n",
       "      <th>10</th>\n",
       "      <td>666,000</td>\n",
       "      <td>#DIV/0!</td>\n",
       "    </tr>\n",
       "    <tr>\n",
       "      <th>11</th>\n",
       "      <td>169,000</td>\n",
       "      <td>#DIV/0!</td>\n",
       "    </tr>\n",
       "    <tr>\n",
       "      <th>12</th>\n",
       "      <td>NaN</td>\n",
       "      <td>-</td>\n",
       "    </tr>\n",
       "    <tr>\n",
       "      <th>13</th>\n",
       "      <td>NaN</td>\n",
       "      <td>-</td>\n",
       "    </tr>\n",
       "    <tr>\n",
       "      <th>14</th>\n",
       "      <td>NaN</td>\n",
       "      <td>-</td>\n",
       "    </tr>\n",
       "    <tr>\n",
       "      <th>15</th>\n",
       "      <td>NaN</td>\n",
       "      <td>-</td>\n",
       "    </tr>\n",
       "    <tr>\n",
       "      <th>16</th>\n",
       "      <td>NaN</td>\n",
       "      <td>-</td>\n",
       "    </tr>\n",
       "    <tr>\n",
       "      <th>17</th>\n",
       "      <td>NaN</td>\n",
       "      <td>-</td>\n",
       "    </tr>\n",
       "    <tr>\n",
       "      <th>18</th>\n",
       "      <td>2,500,000</td>\n",
       "      <td>#DIV/0!</td>\n",
       "    </tr>\n",
       "    <tr>\n",
       "      <th>19</th>\n",
       "      <td>NaN</td>\n",
       "      <td>-</td>\n",
       "    </tr>\n",
       "    <tr>\n",
       "      <th>20</th>\n",
       "      <td>NaN</td>\n",
       "      <td>-</td>\n",
       "    </tr>\n",
       "    <tr>\n",
       "      <th>21</th>\n",
       "      <td>NaN</td>\n",
       "      <td>-</td>\n",
       "    </tr>\n",
       "    <tr>\n",
       "      <th>22</th>\n",
       "      <td>NaN</td>\n",
       "      <td>-</td>\n",
       "    </tr>\n",
       "    <tr>\n",
       "      <th>23</th>\n",
       "      <td>476,000</td>\n",
       "      <td>#DIV/0!</td>\n",
       "    </tr>\n",
       "    <tr>\n",
       "      <th>24</th>\n",
       "      <td>NaN</td>\n",
       "      <td>-</td>\n",
       "    </tr>\n",
       "    <tr>\n",
       "      <th>25</th>\n",
       "      <td>NaN</td>\n",
       "      <td>-</td>\n",
       "    </tr>\n",
       "    <tr>\n",
       "      <th>26</th>\n",
       "      <td>NaN</td>\n",
       "      <td>-</td>\n",
       "    </tr>\n",
       "    <tr>\n",
       "      <th>27</th>\n",
       "      <td>NaN</td>\n",
       "      <td>-</td>\n",
       "    </tr>\n",
       "    <tr>\n",
       "      <th>28</th>\n",
       "      <td>NaN</td>\n",
       "      <td>-</td>\n",
       "    </tr>\n",
       "    <tr>\n",
       "      <th>29</th>\n",
       "      <td>NaN</td>\n",
       "      <td>-</td>\n",
       "    </tr>\n",
       "    <tr>\n",
       "      <th>...</th>\n",
       "      <td>...</td>\n",
       "      <td>...</td>\n",
       "    </tr>\n",
       "    <tr>\n",
       "      <th>114475</th>\n",
       "      <td>5,000,000</td>\n",
       "      <td>#DIV/0!</td>\n",
       "    </tr>\n",
       "    <tr>\n",
       "      <th>114476</th>\n",
       "      <td>8,450,000</td>\n",
       "      <td>#DIV/0!</td>\n",
       "    </tr>\n",
       "    <tr>\n",
       "      <th>114477</th>\n",
       "      <td>8,450,000</td>\n",
       "      <td>#DIV/0!</td>\n",
       "    </tr>\n",
       "    <tr>\n",
       "      <th>114478</th>\n",
       "      <td>8,450,000</td>\n",
       "      <td>#DIV/0!</td>\n",
       "    </tr>\n",
       "    <tr>\n",
       "      <th>114479</th>\n",
       "      <td>8,450,000</td>\n",
       "      <td>#DIV/0!</td>\n",
       "    </tr>\n",
       "    <tr>\n",
       "      <th>114480</th>\n",
       "      <td>8,450,000</td>\n",
       "      <td>#DIV/0!</td>\n",
       "    </tr>\n",
       "    <tr>\n",
       "      <th>114481</th>\n",
       "      <td>6,230,684</td>\n",
       "      <td>#DIV/0!</td>\n",
       "    </tr>\n",
       "    <tr>\n",
       "      <th>114482</th>\n",
       "      <td>7,000,000</td>\n",
       "      <td>#DIV/0!</td>\n",
       "    </tr>\n",
       "    <tr>\n",
       "      <th>114483</th>\n",
       "      <td>100,000,000</td>\n",
       "      <td>#DIV/0!</td>\n",
       "    </tr>\n",
       "    <tr>\n",
       "      <th>114484</th>\n",
       "      <td>20,000,000</td>\n",
       "      <td>#DIV/0!</td>\n",
       "    </tr>\n",
       "    <tr>\n",
       "      <th>114485</th>\n",
       "      <td>20,000,000</td>\n",
       "      <td>#DIV/0!</td>\n",
       "    </tr>\n",
       "    <tr>\n",
       "      <th>114486</th>\n",
       "      <td>20,000,000</td>\n",
       "      <td>#DIV/0!</td>\n",
       "    </tr>\n",
       "    <tr>\n",
       "      <th>114487</th>\n",
       "      <td>5,500,000</td>\n",
       "      <td>#DIV/0!</td>\n",
       "    </tr>\n",
       "    <tr>\n",
       "      <th>114488</th>\n",
       "      <td>5,500,000</td>\n",
       "      <td>#DIV/0!</td>\n",
       "    </tr>\n",
       "    <tr>\n",
       "      <th>114489</th>\n",
       "      <td>1,200,000</td>\n",
       "      <td>#DIV/0!</td>\n",
       "    </tr>\n",
       "    <tr>\n",
       "      <th>114490</th>\n",
       "      <td>1,200,000</td>\n",
       "      <td>#DIV/0!</td>\n",
       "    </tr>\n",
       "    <tr>\n",
       "      <th>114491</th>\n",
       "      <td>1,200,000</td>\n",
       "      <td>#DIV/0!</td>\n",
       "    </tr>\n",
       "    <tr>\n",
       "      <th>114492</th>\n",
       "      <td>1,200,000</td>\n",
       "      <td>#DIV/0!</td>\n",
       "    </tr>\n",
       "    <tr>\n",
       "      <th>114493</th>\n",
       "      <td>1,200,000</td>\n",
       "      <td>#DIV/0!</td>\n",
       "    </tr>\n",
       "    <tr>\n",
       "      <th>114494</th>\n",
       "      <td>1,200,000</td>\n",
       "      <td>#DIV/0!</td>\n",
       "    </tr>\n",
       "    <tr>\n",
       "      <th>114495</th>\n",
       "      <td>4,900,000</td>\n",
       "      <td>#DIV/0!</td>\n",
       "    </tr>\n",
       "    <tr>\n",
       "      <th>114496</th>\n",
       "      <td>4,900,000</td>\n",
       "      <td>#DIV/0!</td>\n",
       "    </tr>\n",
       "    <tr>\n",
       "      <th>114497</th>\n",
       "      <td>4,900,000</td>\n",
       "      <td>#DIV/0!</td>\n",
       "    </tr>\n",
       "    <tr>\n",
       "      <th>114498</th>\n",
       "      <td>12,500,000</td>\n",
       "      <td>#DIV/0!</td>\n",
       "    </tr>\n",
       "    <tr>\n",
       "      <th>114499</th>\n",
       "      <td>12,500,000</td>\n",
       "      <td>#DIV/0!</td>\n",
       "    </tr>\n",
       "    <tr>\n",
       "      <th>114500</th>\n",
       "      <td>12,500,000</td>\n",
       "      <td>#DIV/0!</td>\n",
       "    </tr>\n",
       "    <tr>\n",
       "      <th>114501</th>\n",
       "      <td>34,000,000</td>\n",
       "      <td>#DIV/0!</td>\n",
       "    </tr>\n",
       "    <tr>\n",
       "      <th>114502</th>\n",
       "      <td>34,000,000</td>\n",
       "      <td>#DIV/0!</td>\n",
       "    </tr>\n",
       "    <tr>\n",
       "      <th>114503</th>\n",
       "      <td>34,000,000</td>\n",
       "      <td>#DIV/0!</td>\n",
       "    </tr>\n",
       "    <tr>\n",
       "      <th>114504</th>\n",
       "      <td>-</td>\n",
       "      <td>#DIV/0!</td>\n",
       "    </tr>\n",
       "  </tbody>\n",
       "</table>\n",
       "<p>114505 rows × 2 columns</p>\n",
       "</div>"
      ],
      "text/plain": [
       "       raised_amount_total_usd raised_amount_each\n",
       "0                          NaN               -   \n",
       "1                   1,000,000             #DIV/0!\n",
       "2                   1,000,000             #DIV/0!\n",
       "3                     724,000             #DIV/0!\n",
       "4                     165,000             #DIV/0!\n",
       "5                     155,000             #DIV/0!\n",
       "6                      94,000             #DIV/0!\n",
       "7                          NaN               -   \n",
       "8                          NaN               -   \n",
       "9                     243,000             #DIV/0!\n",
       "10                    666,000             #DIV/0!\n",
       "11                    169,000             #DIV/0!\n",
       "12                         NaN               -   \n",
       "13                         NaN               -   \n",
       "14                         NaN               -   \n",
       "15                         NaN               -   \n",
       "16                         NaN               -   \n",
       "17                         NaN               -   \n",
       "18                  2,500,000             #DIV/0!\n",
       "19                         NaN               -   \n",
       "20                         NaN               -   \n",
       "21                         NaN               -   \n",
       "22                         NaN               -   \n",
       "23                    476,000             #DIV/0!\n",
       "24                         NaN               -   \n",
       "25                         NaN               -   \n",
       "26                         NaN               -   \n",
       "27                         NaN               -   \n",
       "28                         NaN               -   \n",
       "29                         NaN               -   \n",
       "...                        ...                ...\n",
       "114475              5,000,000             #DIV/0!\n",
       "114476              8,450,000             #DIV/0!\n",
       "114477              8,450,000             #DIV/0!\n",
       "114478              8,450,000             #DIV/0!\n",
       "114479              8,450,000             #DIV/0!\n",
       "114480              8,450,000             #DIV/0!\n",
       "114481              6,230,684             #DIV/0!\n",
       "114482              7,000,000             #DIV/0!\n",
       "114483            100,000,000             #DIV/0!\n",
       "114484             20,000,000             #DIV/0!\n",
       "114485             20,000,000             #DIV/0!\n",
       "114486             20,000,000             #DIV/0!\n",
       "114487              5,500,000             #DIV/0!\n",
       "114488              5,500,000             #DIV/0!\n",
       "114489              1,200,000             #DIV/0!\n",
       "114490              1,200,000             #DIV/0!\n",
       "114491              1,200,000             #DIV/0!\n",
       "114492              1,200,000             #DIV/0!\n",
       "114493              1,200,000             #DIV/0!\n",
       "114494              1,200,000             #DIV/0!\n",
       "114495              4,900,000             #DIV/0!\n",
       "114496              4,900,000             #DIV/0!\n",
       "114497              4,900,000             #DIV/0!\n",
       "114498             12,500,000             #DIV/0!\n",
       "114499             12,500,000             #DIV/0!\n",
       "114500             12,500,000             #DIV/0!\n",
       "114501             34,000,000             #DIV/0!\n",
       "114502             34,000,000             #DIV/0!\n",
       "114503             34,000,000             #DIV/0!\n",
       "114504                    -               #DIV/0!\n",
       "\n",
       "[114505 rows x 2 columns]"
      ]
     },
     "execution_count": 17,
     "metadata": {},
     "output_type": "execute_result"
    }
   ],
   "source": [
    "col_list = ['raised_amount_total_usd','raised_amount_each']\n",
    "df[col_list]"
   ]
  },
  {
   "cell_type": "markdown",
   "metadata": {
    "colab_type": "text",
    "id": "txuuFZLMFbht"
   },
   "source": [
    "\n",
    "One of the first things that you should notice is that the column 'raised_amount_each' is completely useless. This kind of thing is another unfortunate consequence of large datasets - they can be messy, and sometimes data doesn't get filled in correctly. \n",
    "\n",
    "Luckily, there is another column that can help us out here. Let's take a look at 'raised_amount_total_usd'.\n",
    "\n",
    "You've probably noticed that some rows contain numbers, while others contain NaN's.\n",
    "\n",
    "**Question:**<br>\n",
    "How many rows contain numbers?"
   ]
  },
  {
   "cell_type": "code",
   "execution_count": 20,
   "metadata": {
    "colab": {},
    "colab_type": "code",
    "id": "pCqR3C4uFbhu",
    "scrolled": true
   },
   "outputs": [
    {
     "name": "stdout",
     "output_type": "stream",
     "text": [
      "# with values:  101154\n",
      "# with nulls:  13351\n"
     ]
    }
   ],
   "source": [
    "print(\"# with values: \", df['raised_amount_total_usd'].notnull().sum())\n",
    "print(\"# with nulls: \", df['raised_amount_total_usd'].isnull().sum())"
   ]
  },
  {
   "cell_type": "markdown",
   "metadata": {
    "colab_type": "text",
    "id": "MR93DbFgFbhx"
   },
   "source": [
    "**Question:**<br>\n",
    "How much money in total was raised across every company in this dataset?"
   ]
  },
  {
   "cell_type": "code",
   "execution_count": 62,
   "metadata": {
    "colab": {},
    "colab_type": "code",
    "id": "FMIEZsk3Fbhz",
    "scrolled": false
   },
   "outputs": [
    {
     "data": {
      "text/plain": [
       "1280964574193.0"
      ]
     },
     "execution_count": 62,
     "metadata": {},
     "output_type": "execute_result"
    }
   ],
   "source": [
    "#df['raised_amount_total_usd'] = df['raised_amount_total_usd'].str.strip().str.replace(',','')\n",
    "#df['raised_amount_total_usd'][df['raised_amount_total_usd']=='-'] = 0.0\n",
    "#df['raised_amount_total_usd'] = df['raised_amount_total_usd'].astype(float)\n",
    "df.raised_amount_total_usd.sum()"
   ]
  },
  {
   "cell_type": "markdown",
   "metadata": {
    "colab_type": "text",
    "id": "YZ-_kvf_Fbh3"
   },
   "source": [
    "Did you get an error? Oh noooooo! Can you piece together what happened from the TypeError? What type of data appears in that column? What can you do to remedy it?\n",
    "\n",
    "(*Hint: you'll need to convert these values, but this may be a 2-step process. You may need to remove certain elements first.*)"
   ]
  },
  {
   "cell_type": "code",
   "execution_count": null,
   "metadata": {
    "colab": {},
    "colab_type": "code",
    "id": "eSBheM0WFbh5"
   },
   "outputs": [],
   "source": []
  },
  {
   "cell_type": "markdown",
   "metadata": {
    "colab_type": "text",
    "id": "ymXIuVRTFbiA"
   },
   "source": [
    "Ok, whew! Now that THAT'S done, we can return to our question.\n",
    "\n",
    "**Question:**<br>\n",
    "How much money in total was raised across every company in this dataset?"
   ]
  },
  {
   "cell_type": "code",
   "execution_count": null,
   "metadata": {
    "colab": {},
    "colab_type": "code",
    "id": "m-0zlLeLFbiC"
   },
   "outputs": [],
   "source": []
  },
  {
   "cell_type": "markdown",
   "metadata": {
    "colab_type": "text",
    "id": "ULh6LgubFbiK"
   },
   "source": [
    "WOW! That's a lot of moola!! Does it make you want to start a business?? Let's pretend you said 'yes'. And, since you're no dummy, I'm sure you would do the appropriate market research before crafting a business model. \n",
    "\n",
    "**Question**:<br>\n",
    "How many unique types of company markets are there? What are they?"
   ]
  },
  {
   "cell_type": "code",
   "execution_count": 47,
   "metadata": {
    "colab": {},
    "colab_type": "code",
    "id": "abBXnUOyFbiM",
    "scrolled": false
   },
   "outputs": [
    {
     "data": {
      "text/plain": [
       "array(['Internet', 'Enterprise Software', 'Hardware',\n",
       "       'Hardware + Software', 'Semiconductors', 'Health Care', 'Software',\n",
       "       'News', 'Clean Technology', 'E-Commerce', 'Games', 'Social Media',\n",
       "       'Advertising', 'Hospitality', 'Pets', 'Financial Services',\n",
       "       'Security', 'Consulting', 'Business Information Systems', 'Retail',\n",
       "       'Medical Devices', 'Sporting Goods', 'Web Hosting', 'Television',\n",
       "       'Photography', 'Restaurants', 'Consumer Goods', 'Mobile',\n",
       "       'Public Relations', 'VoIP', 'Finance', 'Biotechnology', 'Media',\n",
       "       'Technology', 'Telecommunications', 'Information Technology',\n",
       "       'Digital Media', 'Business Services', 'Networking',\n",
       "       'Health and Wellness', 'Curated Web',\n",
       "       'Reviews and Recommendations', 'Analytics', 'Auctions', 'Search',\n",
       "       'Local Businesses', 'Music', 'Logistics Company', 'Banking',\n",
       "       'Manufacturing', 'Web Design', 'Human Resources', 'Medical',\n",
       "       'Payments', 'Recipes', 'Market Research', 'Travel', 'Computers',\n",
       "       'Services', 'Hotels', 'Marketing Automation',\n",
       "       'Consumer Electronics', 'Investment Management', 'Messaging',\n",
       "       'Shopping', 'Advertising Platforms', 'Education', 'Real Estate',\n",
       "       'Travel & Tourism', 'Wireless', 'Customer Service', 'Nonprofits',\n",
       "       'App Marketing', 'Digital Rights Management',\n",
       "       'Information Security', 'Online Shopping',\n",
       "       'Communications Infrastructure', 'Fashion', 'Trading',\n",
       "       'Information Services', 'Enterprises', 'Search Marketing',\n",
       "       'Cloud Computing', 'Transportation', 'Business Intelligence',\n",
       "       'Forums', 'Internet Marketing', 'Big Data Analytics',\n",
       "       'Mobile Analytics', 'Shipping', 'Online Video Advertising',\n",
       "       'Design', 'Commodities', 'Web Tools', 'Physicians',\n",
       "       'Event Management', 'Storage', 'Application Platforms', 'Email',\n",
       "       'Handmade', 'Women', 'Medical Professionals', 'Automotive',\n",
       "       'Nanotechnology', 'Pharmaceuticals', 'Databases', 'Web CMS',\n",
       "       'Sports', 'Electronics', 'Real Time', 'Sales and Marketing',\n",
       "       'PaaS', 'SaaS', 'Content Delivery', 'Video Games', 'Audio',\n",
       "       'Solar', 'Cloud Management', 'Entertainment', 'Data Security',\n",
       "       'Public Transportation', 'Web Development', 'Sensors', 'Creative',\n",
       "       'Open Source', 'Mobile Security', 'Innovation Engineering',\n",
       "       'Advertising Networks', 'Insurance', 'Beauty', 'Android',\n",
       "       'Cosmetics', 'Cable', 'Mobile Games', 'Employer Benefits Programs',\n",
       "       'Communications Hardware', 'Flash Storage', 'Clean Energy',\n",
       "       'iPhone', 'Healthcare Services', 'Broadcasting',\n",
       "       'Trusted Networks', 'iOS', 'Video', 'Hospitals',\n",
       "       'Personal Branding', 'SMS', 'Publishing', 'E-Commerce Platforms',\n",
       "       'Communities', 'Linux', 'Navigation', 'Network Security',\n",
       "       'Batteries', 'FreetoPlay Gaming', 'Employment', 'Agriculture',\n",
       "       'Freelancers', 'Fitness', 'Doctors', 'Coupons',\n",
       "       'Browser Extensions', 'Peer-to-Peer', 'SEO', 'Ticketing',\n",
       "       'Social Network Media', 'Content', 'Virtualization',\n",
       "       'Optimization', 'Data Integration', 'Semantic Web', 'CRM',\n",
       "       'Marketplaces', 'Legal', 'Local', 'Local Based Services',\n",
       "       'Cloud Data Services', 'Classifieds', 'Personal Finance',\n",
       "       'Crowdsourcing', 'Unifed Communications', 'Privacy', 'Outsourcing',\n",
       "       'Chat', 'Social Search', 'Internet of Things', 'Aerospace',\n",
       "       'Mobile Devices', 'Displays', 'Graphics', 'IT Management',\n",
       "       'Collaboration', 'Therapeutics', 'Video Streaming',\n",
       "       'Visual Search', 'Video on Demand', 'Portals', 'Data Centers',\n",
       "       'Fraud Detection', 'Identity Management', 'Contact Management',\n",
       "       'Infrastructure', 'Mobile Payments', 'File Sharing', 'B2B', 'RFID',\n",
       "       'Local Advertising', 'Digital Signage', 'Lighting',\n",
       "       'Photo Editing', 'Energy', 'Cloud Security', 'MMO Games',\n",
       "       'Engineering Firms', 'Maps', 'Productivity Software',\n",
       "       'Demographies', 'Customer Support Tools', 'Email Marketing',\n",
       "       'Genetic Testing', 'Photo Sharing', 'Test and Measurement',\n",
       "       'Point of Sale', 'Content Creators', 'Online Scheduling', 'Guides',\n",
       "       'Governments', 'Gps', 'Tracking', 'Testing',\n",
       "       'Social Media Advertising', 'Online Dating', 'Credit',\n",
       "       'Brand Marketing', 'Entrepreneur', 'Virtual Workforces',\n",
       "       'Risk Management', 'Brokers', 'Diagnostics', 'Consumer Internet',\n",
       "       'Predictive Analytics', 'Document Management', 'Social Games',\n",
       "       'Big Data', 'Meeting Software', 'Life Sciences',\n",
       "       'Environmental Innovation', 'Facebook Applications', 'Ediscovery',\n",
       "       'Supply Chain Management', 'Personalization', 'Toys',\n",
       "       'Price Comparison', 'Celebrity', 'Telephony', 'Direct Marketing',\n",
       "       'Simulation', 'Kinect', 'App Stores', 'Finance Technology',\n",
       "       'Service Providers', 'Career Management', 'Corporate Training',\n",
       "       'Colleges', 'Blogging Platforms', 'Group SMS', 'Enterprise Search',\n",
       "       'M2M', 'Cyber Security', 'Web Browsers', 'Social Bookmarking',\n",
       "       'Social Opinion Platform', 'Politics', 'Construction', 'Startups',\n",
       "       'Tech Field Support', 'Mobile Software Tools', 'Identity',\n",
       "       'Chemicals', 'Training', 'Events', 'Image Recognition',\n",
       "       'Social Business', 'Film', 'Semiconductor Manufacturing Equipment',\n",
       "       'Logistics', 'Consumers', 'Semantic Search', 'Developer APIs',\n",
       "       'Data Visualization', 'Apps', 'Creative Industries', 'Advice',\n",
       "       'Private Social Networking', 'Gambling', 'Online Rental',\n",
       "       'Virtual Worlds', 'Personal Health', 'Religion', 'Home & Garden',\n",
       "       'All Markets', 'Lead Generation', 'Surveys', 'Vacation Rentals',\n",
       "       'Speech Recognition', 'Usability', 'Monetization',\n",
       "       'World Domination', 'Licensing', 'Location Based Services',\n",
       "       'Cloud Infrastructure', 'Enterprise 2.0', 'Neuroscience',\n",
       "       'Home Decor', 'Data Mining', 'Opinions', 'Game',\n",
       "       'Business Development', 'Cyber', 'Game Mechanics', 'Online Gaming',\n",
       "       'Discounts', 'Energy Management', 'Venture Capital',\n",
       "       'Social Buying', 'Advertising Exchanges', 'Artists Globally',\n",
       "       'Enterprise Resource Planning', 'Concerts', 'Mobile Enterprise',\n",
       "       'Mobility', 'Auto', 'Twitter Applications', 'Synchronization',\n",
       "       'Wind', 'Tea', 'Task Management', 'iPad', 'WebOS', 'Recruiting',\n",
       "       'Art', 'Advanced Materials', 'Small and Medium Businesses',\n",
       "       'Elder Care', 'Plumbers', 'Social CRM', 'Gift Card', 'Farming',\n",
       "       'Health Care Information Technology', 'Mobile Commerce',\n",
       "       'Sales Automation', 'Loyalty Programs', 'Universities',\n",
       "       'Windows Phone 7', 'Content Discovery', 'Property Management',\n",
       "       'Non Profit', 'Artificial Intelligence', 'Archiving',\n",
       "       'Sustainability', 'Coworking', 'Electronic Health Records',\n",
       "       'Online Travel', 'Social Media Marketing', 'IT and Cybersecurity',\n",
       "       'MicroBlogging', 'Presentations', 'Internet Radio Market',\n",
       "       'Performance Marketing', 'Charity', 'Promotional', 'Robotics',\n",
       "       'Language Learning', 'Cars', 'Psychology', 'Tutoring',\n",
       "       'Match-Making', 'Kids', 'NFC', 'Rapidly Expanding',\n",
       "       'Twin-Tip Skis', 'Teenagers', 'Mobile Advertising', 'Smart Grid',\n",
       "       'Billing', 'Google Apps', 'Ad Targeting', 'Mining Technologies',\n",
       "       'Subscription Businesses', 'Leisure', 'Project Management',\n",
       "       'Lead Management', 'Organic Food', 'All Students',\n",
       "       'Homeland Security', 'Architecture', 'Career Planning',\n",
       "       'Business Productivity', 'Commercial Solar', 'Cosmetic Surgery',\n",
       "       'Specialty Chemicals', 'Oil', 'Printing', 'Nutrition',\n",
       "       'Social Media Monitoring', 'Craigslist Killers', 'Journalism',\n",
       "       'Incentives', 'Virtual Goods', '3D', 'Translation', 'Lifestyle',\n",
       "       'Reputation', 'Green', 'Accounting', 'Renewable Energies',\n",
       "       'Weddings', 'QR Codes', 'Recycling', 'Retail Technology',\n",
       "       'Machine Learning', 'Developer Tools', 'Wealth Management',\n",
       "       'Mobile Video', 'Flash Sales', 'Utilities', 'Charter Schools',\n",
       "       'Online Auctions', 'Staffing Firms', 'Dental', 'Fantasy Sports',\n",
       "       'Sunglasses', 'Software Compliance', 'Distributed Generation',\n",
       "       'SNS', 'Cooking', 'Contests', 'Young Adults',\n",
       "       'New Product Development', 'Shoes', 'Credit Cards',\n",
       "       'Stock Exchanges', 'Water', 'DOD/Military', 'Energy Efficiency',\n",
       "       'Data Center Automation', 'Green Consumer Goods', 'Direct Sales',\n",
       "       'Flowers', 'Mobile Health', 'Taxis',\n",
       "       'Application Performance Monitoring', 'Development Platforms',\n",
       "       'P2P Money Transfer', 'Data Privacy', 'Mobile Shopping',\n",
       "       'Sponsorship', 'Social Commerce', 'Mobile Social', 'Local Search',\n",
       "       'High Schools', 'Online Reservations', 'Professional Networking',\n",
       "       'Adventure Travel', 'Interest Graph', 'Group Buying',\n",
       "       'User Experience Design', 'Online Identity',\n",
       "       'Collaborative Consumption', 'Diabetes', 'Financial Exchanges',\n",
       "       'Skill Assessment', 'Business Analytics', 'Residential Solar',\n",
       "       'Embedded Hardware and Software', 'Social Fundraising',\n",
       "       'Algorithms', 'IaaS', 'Internet Service Providers', 'Spas',\n",
       "       'Tablets', 'Governance', 'K-12 Education', 'Gamification',\n",
       "       'Homeless Shelter', 'Visualization', 'Emerging Markets',\n",
       "       'Film Production', 'Systems', 'Lingerie', 'Music Services',\n",
       "       'Natural Resources', 'Polling', 'DIY', 'Social Media Platforms',\n",
       "       'Proximity Internet', 'Outdoor Advertising', 'Enterprise Security',\n",
       "       'BPO Services', 'Incubators', 'Space Travel',\n",
       "       'Enterprise Application', 'Babies', 'Home Automation',\n",
       "       'Nightclubs', 'Law Enforcement', 'Organic', 'Low Bid Auctions',\n",
       "       'Tourism', 'Enterprise Purchasing', 'Jewelry', 'Domains',\n",
       "       'Crowdfunding', 'B2B Express Delivery', 'Corporate Wellness',\n",
       "       'Bioinformatics', 'Social Recruiting',\n",
       "       'Bridging Online and Offline', 'Industrial Automation',\n",
       "       'Franchises', 'Consumer Behavior', 'Product Development Services',\n",
       "       'Certification Test', 'In-Flight Entertainment',\n",
       "       'Government Innovation', 'Industrial Energy Efficiency',\n",
       "       'Baby Boomers', 'Textbooks', 'Natural Language Processing',\n",
       "       'Human Resource Automation', 'Augmented Reality',\n",
       "       'Data Center Infrastructure', 'Moneymaking', 'Geospatial',\n",
       "       'Health and Insurance', 'Internet Infrastructure', 'Mac',\n",
       "       'E-Books', 'Transaction Processing', 'mHealth', 'Parenting',\n",
       "       'Offline Businesses', 'App Discovery', 'Heavy Industry',\n",
       "       'Social Media Management', 'High Tech', 'Bitcoin', 'Groceries',\n",
       "       'Video Chat', 'Food Processing', 'Home Owners', 'Computer Vision',\n",
       "       'Internet TV', 'Commercial Real Estate', 'Collectibles',\n",
       "       'Registrars', 'Mass Customization', 'Distribution',\n",
       "       'Estimation and Quoting', 'Water Purification', 'Mobile Coupons',\n",
       "       'Interface Design', '3D Printing', 'Material Science',\n",
       "       'College Recruiting', 'Intellectual Property',\n",
       "       'Human Computer Interaction', 'Weird Hardware', 'Coffee',\n",
       "       'Educational Games', 'Intelligent Systems',\n",
       "       'Electrical Distribution', 'Clean Technology IT',\n",
       "       'Infrastructure Builders', 'Specialty Foods',\n",
       "       'Deep Information Technology', 'Wholesale', 'Casual Games',\n",
       "       'Social + Mobile + Local', 'Wine And Spirits', 'Music Education',\n",
       "       'Comparison Shopping', 'Vertical Search', 'Oil & Gas',\n",
       "       'Product Design', 'Outdoors', 'University Students',\n",
       "       'Video Conferencing', 'Social Travel', 'Oil and Gas',\n",
       "       'Mobile Emergency&Health', 'Q&A', 'Mobile Infrastructure',\n",
       "       'Humanitarian', 'English-Speaking', 'Product Search', 'Soccer',\n",
       "       'Face Recognition', 'Drones', 'iPod Touch',\n",
       "       'Postal and Courier Services', 'Freemium', 'Debt Collecting',\n",
       "       'Remediation', 'Teachers', 'Defense', 'Health Services Industry',\n",
       "       'Energy IT', 'Self Development', 'Corporate IT', 'Social News',\n",
       "       'Social Innovation', 'Professional Services',\n",
       "       'Content Syndication', 'Unmanned Air Systems', 'Office Space',\n",
       "       'Lotteries', 'Public Safety', 'Cloud-Based Music', 'Biometrics',\n",
       "       'Gift Registries', 'Eyewear', 'Video Editing', 'Motion Capture',\n",
       "       'Innovation Management', 'Internet Technology', 'Hedge Funds',\n",
       "       'Families', 'EBooks', 'Service Industries', 'Comics',\n",
       "       'Rehabilitation', 'Bicycles', 'Fleet Management', 'Rental Housing',\n",
       "       'Indoor Positioning', 'Writers', 'Boating Industry', 'Designers',\n",
       "       'Lifestyle Products', 'Knowledge Management',\n",
       "       'Enterprise Hardware', 'New Technologies', 'Google Glass',\n",
       "       'Entertainment Industry', 'Gift Exchange',\n",
       "       'Intellectual Asset Management', 'Distributors',\n",
       "       'Electric Vehicles', 'College Campuses', 'Senior Citizens',\n",
       "       'Retirement', 'Home Renovation', 'Virtual Currency', 'Timeshares',\n",
       "       'Sex', '3D Technology', 'Technical Continuing Education',\n",
       "       'Lifestyle Businesses', 'Funeral Industry', 'Physical Security',\n",
       "       'Quantified Self', 'CAD', 'Carbon', 'Local Commerce', 'Industrial',\n",
       "       'Video Processing', 'Shared Services', 'Recreation', 'Resorts',\n",
       "       'Exercise', 'Self Storage', 'Lasers',\n",
       "       'Radical Breakthrough Startups', 'Social Television',\n",
       "       'Mechanical Solutions', 'Independent Music Labels',\n",
       "       'Real Estate Investors', 'Digital Entertainment',\n",
       "       'Interior Design', 'Minerals', 'Music Venues', 'Craft Beer',\n",
       "       'Bio-Pharm', 'Text Analytics', 'Animal Feed', 'Civil Engineers',\n",
       "       'Angels', 'Veterinary', 'PC Gaming', 'TV Production', 'Textiles',\n",
       "       'Farmers Market', 'Golf Equipment', 'Ventures for Good',\n",
       "       'Assisitive Technology', 'Clinical Trials',\n",
       "       'Call Center Automation', 'Alternative Medicine',\n",
       "       'Insurance Companies', 'Biomass Power Generation',\n",
       "       'Smart Building', 'Parking', 'Synthetic Biology', 'China Internet',\n",
       "       'Musical Instruments', 'Email Newsletters', 'Consumer Lending',\n",
       "       'Motors', 'Green Building', 'Musicians',\n",
       "       'General Public Worldwide'], dtype=object)"
      ]
     },
     "execution_count": 47,
     "metadata": {},
     "output_type": "execute_result"
    }
   ],
   "source": [
    "df.company_market.dropna().unique()"
   ]
  },
  {
   "cell_type": "markdown",
   "metadata": {
    "colab_type": "text",
    "id": "JgBdjFaIFbiU"
   },
   "source": [
    "As I'm sure you've guessed, not all of these markets received an equal share of investment money. Let's try breaking investment down by different markets!\n",
    "\n",
    "**Question:**<br>\n",
    "How much money was invested in each company market?\n",
    "\n",
    "(*Hint: You'll need to **group** the data **by** market type...*)"
   ]
  },
  {
   "cell_type": "code",
   "execution_count": 64,
   "metadata": {
    "colab": {},
    "colab_type": "code",
    "id": "cO-jFacjNffP",
    "scrolled": false
   },
   "outputs": [
    {
     "data": {
      "text/plain": [
       "company_market\n",
       "Biotechnology                     1.493952e+11\n",
       "Software                          8.670155e+10\n",
       "Clean Technology                  6.981941e+10\n",
       "Health Care                       6.005040e+10\n",
       "E-Commerce                        4.950532e+10\n",
       "Mobile                            4.221446e+10\n",
       "Enterprise Software               4.218186e+10\n",
       "Internet                          3.778165e+10\n",
       "Advertising                       3.453942e+10\n",
       "Semiconductors                    3.405033e+10\n",
       "Finance                           2.536415e+10\n",
       "Curated Web                       2.466805e+10\n",
       "Hardware + Software               2.428014e+10\n",
       "Technology                        2.299792e+10\n",
       "Web Hosting                       2.033463e+10\n",
       "Games                             1.864274e+10\n",
       "Analytics                         1.837448e+10\n",
       "Security                          1.649570e+10\n",
       "Health and Wellness               1.609550e+10\n",
       "Online Shopping                   1.588769e+10\n",
       "Transportation                    1.578754e+10\n",
       "Manufacturing                     1.206714e+10\n",
       "Travel                            1.035321e+10\n",
       "Education                         9.823306e+09\n",
       "Social Media                      8.972769e+09\n",
       "Fashion                           8.044176e+09\n",
       "Video                             8.034456e+09\n",
       "Search                            7.458406e+09\n",
       "SaaS                              7.209908e+09\n",
       "Medical Devices                   6.973417e+09\n",
       "                                      ...     \n",
       "Carbon                            5.184200e+04\n",
       "Email Newsletters                 5.000000e+04\n",
       "Video Processing                  4.500000e+04\n",
       "Comics                            4.000000e+04\n",
       "Unmanned Air Systems              4.000000e+04\n",
       "Intellectual Asset Management     3.999400e+04\n",
       "Clean Technology IT               3.881700e+04\n",
       "Veterinary                        3.462300e+04\n",
       "CAD                               2.800000e+04\n",
       "Motion Capture                    2.500000e+04\n",
       "Home Owners                       2.200000e+04\n",
       "Self Development                  2.000000e+04\n",
       "Direct Sales                      1.800000e+04\n",
       "Rehabilitation                    0.000000e+00\n",
       "Debt Collecting                   0.000000e+00\n",
       "Low Bid Auctions                  0.000000e+00\n",
       "Weird Hardware                    0.000000e+00\n",
       "Advanced Materials                0.000000e+00\n",
       "Estimation and Quoting            0.000000e+00\n",
       "Physical Security                 0.000000e+00\n",
       "Technical Continuing Education    0.000000e+00\n",
       "Synthetic Biology                 0.000000e+00\n",
       "Farmers Market                    0.000000e+00\n",
       "BPO Services                      0.000000e+00\n",
       "Lotteries                         0.000000e+00\n",
       "Gift Exchange                     0.000000e+00\n",
       "Lasers                            0.000000e+00\n",
       "Independent Music Labels          0.000000e+00\n",
       "Green Building                    0.000000e+00\n",
       "Social News                       0.000000e+00\n",
       "Name: raised_amount_total_usd, Length: 712, dtype: float64"
      ]
     },
     "execution_count": 64,
     "metadata": {},
     "output_type": "execute_result"
    }
   ],
   "source": [
    "df.groupby('company_market').raised_amount_total_usd.sum().sort_values(ascending=False)\n",
    "#x = x.dropna().str.strip().str.replace(',','')\n",
    "#x = x[x != '-']\n",
    "#x.astype(float).sum()"
   ]
  },
  {
   "cell_type": "markdown",
   "metadata": {
    "colab_type": "text",
    "id": "c8nAO0kKNffR"
   },
   "source": [
    "It's good to know how much investment each market saw, but we need a bit more organization here. We don't want to build our startup in just ANY market, we want the HOTTEST market!\n",
    "\n",
    "**Question:**<br>\n",
    "Which company markets received the most investment money? Find the top 10."
   ]
  },
  {
   "cell_type": "code",
   "execution_count": 65,
   "metadata": {
    "colab": {},
    "colab_type": "code",
    "id": "nCgsvj2kFbiV"
   },
   "outputs": [
    {
     "data": {
      "text/plain": [
       "company_market\n",
       "Biotechnology          1.493952e+11\n",
       "Software               8.670155e+10\n",
       "Clean Technology       6.981941e+10\n",
       "Health Care            6.005040e+10\n",
       "E-Commerce             4.950532e+10\n",
       "Mobile                 4.221446e+10\n",
       "Enterprise Software    4.218186e+10\n",
       "Internet               3.778165e+10\n",
       "Advertising            3.453942e+10\n",
       "Semiconductors         3.405033e+10\n",
       "Name: raised_amount_total_usd, dtype: float64"
      ]
     },
     "execution_count": 65,
     "metadata": {},
     "output_type": "execute_result"
    }
   ],
   "source": [
    "df.groupby('company_market').raised_amount_total_usd.sum().sort_values(ascending=False)[:10]"
   ]
  },
  {
   "cell_type": "markdown",
   "metadata": {
    "colab_type": "text",
    "id": "lpLIlLWWFbic"
   },
   "source": [
    "**Question:**<br>\n",
    "Which company markets received no investment money? Can you find the bottom 3 markets to recieve at least SOME investment money (aka more than $0)?"
   ]
  },
  {
   "cell_type": "code",
   "execution_count": 66,
   "metadata": {
    "colab": {},
    "colab_type": "code",
    "id": "QAT5iKHuFbig"
   },
   "outputs": [
    {
     "data": {
      "text/plain": [
       "company_market\n",
       "Direct Sales        18000.0\n",
       "Self Development    20000.0\n",
       "Home Owners         22000.0\n",
       "Name: raised_amount_total_usd, dtype: float64"
      ]
     },
     "execution_count": 66,
     "metadata": {},
     "output_type": "execute_result"
    }
   ],
   "source": [
    "x = df.groupby('company_market').raised_amount_total_usd.sum()\n",
    "x[x>0].sort_values(ascending=True)[:3]"
   ]
  },
  {
   "cell_type": "markdown",
   "metadata": {
    "colab_type": "text",
    "id": "FCvs42GUSmsV"
   },
   "source": [
    "Fantastic work! Now we know which company markets to avoid, and which to pursue. \n",
    "\n",
    "Next, we will want to narrow down WHERE to build our startup. After all, funding can change based on where our business is located!\n",
    "\n",
    "**Question:**<br>\n",
    "In which countries did startups in the top market recieve the most funding?"
   ]
  },
  {
   "cell_type": "code",
   "execution_count": 68,
   "metadata": {
    "colab": {},
    "colab_type": "code",
    "id": "SB32r4dvNffY"
   },
   "outputs": [
    {
     "data": {
      "text/plain": [
       "USA    5444\n",
       "GBR     730\n",
       "DEU     286\n",
       "CHE     212\n",
       "FRA     200\n",
       "CAN     198\n",
       "ISR     152\n",
       "NLD      91\n",
       "CHN      72\n",
       "ESP      66\n",
       "SWE      65\n",
       "DNK      60\n",
       "BEL      52\n",
       "IRL      40\n",
       "AUS      38\n",
       "JPN      37\n",
       "AUT      36\n",
       "IND      26\n",
       "NOR      26\n",
       "FIN      17\n",
       "SGP      12\n",
       "BRA      12\n",
       "ITA      11\n",
       "TUR       8\n",
       "CHL       6\n",
       "KOR       5\n",
       "MYS       4\n",
       "PRT       4\n",
       "HKG       3\n",
       "ARE       2\n",
       "NZL       2\n",
       "TWN       2\n",
       "POL       1\n",
       "MEX       1\n",
       "HUN       1\n",
       "CZE       1\n",
       "LVA       1\n",
       "ZAF       1\n",
       "ARG       1\n",
       "THA       1\n",
       "Name: company_country_code, dtype: int64"
      ]
     },
     "execution_count": 68,
     "metadata": {},
     "output_type": "execute_result"
    }
   ],
   "source": [
    "df['company_country_code'][ df['company_market'] == 'Biotechnology'].value_counts()"
   ]
  },
  {
   "cell_type": "markdown",
   "metadata": {
    "colab_type": "text",
    "id": "H4Q-ALMHNffa"
   },
   "source": [
    "Woohoo! Go USA! But should we start our business in Maine? In Florida? In Washington state? Let's try narrowing it down even further.\n",
    "\n",
    "**Question:**<br>\n",
    "Which state of the top country in the top company market recieved the most investment funding?"
   ]
  },
  {
   "cell_type": "code",
   "execution_count": 69,
   "metadata": {
    "colab": {},
    "colab_type": "code",
    "id": "UuHTXe-aNffa"
   },
   "outputs": [
    {
     "name": "stderr",
     "output_type": "stream",
     "text": [
      "/home/aemerick/anaconda3/lib/python3.7/site-packages/pandas/core/computation/expressions.py:183: UserWarning: evaluating in Python space because the '*' operator is not supported by numexpr for the bool dtype, use '&' instead\n",
      "  .format(op=op_str, alt_op=unsupported[op_str]))\n"
     ]
    },
    {
     "data": {
      "text/plain": [
       "CA    2225\n",
       "MA    1029\n",
       "PA     312\n",
       "NC     166\n",
       "NJ     140\n",
       "OH     128\n",
       "TX     123\n",
       "MD     120\n",
       "CT     112\n",
       "WA      95\n",
       "NY      83\n",
       "MI      76\n",
       "MO      71\n",
       "RI      59\n",
       "CO      57\n",
       "MN      56\n",
       "IL      55\n",
       "UT      52\n",
       "FL      51\n",
       "TN      46\n",
       "VA      45\n",
       "GA      43\n",
       "WI      40\n",
       "IN      34\n",
       "NM      30\n",
       "NE      30\n",
       "AZ      29\n",
       "KY      23\n",
       "NH      17\n",
       "ME      17\n",
       "AR      12\n",
       "AL      12\n",
       "OK      10\n",
       "SC       9\n",
       "OR       8\n",
       "LA       8\n",
       "DC       4\n",
       "MT       4\n",
       "DE       3\n",
       "KS       3\n",
       "ND       2\n",
       "WV       2\n",
       "IA       2\n",
       "NV       1\n",
       "Name: company_state_code, dtype: int64"
      ]
     },
     "execution_count": 69,
     "metadata": {},
     "output_type": "execute_result"
    }
   ],
   "source": [
    "df['company_state_code'][ (df['company_market'] == 'Biotechnology') * \n",
    "                            (df['company_country_code'] == 'USA')].value_counts()"
   ]
  },
  {
   "cell_type": "markdown",
   "metadata": {
    "colab_type": "text",
    "id": "FbTPT0dtNffc"
   },
   "source": [
    "Great! Now let's zoom in even further! \n",
    "\n",
    "**Quesiton:**<br>\n",
    "How about the cities in the top state?"
   ]
  },
  {
   "cell_type": "code",
   "execution_count": 70,
   "metadata": {
    "colab": {},
    "colab_type": "code",
    "id": "ylcqaiysNffc"
   },
   "outputs": [
    {
     "data": {
      "text/plain": [
       "San Diego              368\n",
       "South San Francisco    238\n",
       "San Francisco          191\n",
       "Menlo Park             166\n",
       "Redwood City           159\n",
       "Palo Alto              147\n",
       "La Jolla               103\n",
       "Mountain View          102\n",
       "Irvine                  69\n",
       "Hayward                 66\n",
       "Burlingame              40\n",
       "San Mateo               40\n",
       "San Carlos              39\n",
       "San Jose                36\n",
       "Santa Clara             36\n",
       "Fremont                 34\n",
       "Carlsbad                31\n",
       "Sunnyvale               28\n",
       "Alameda                 19\n",
       "Aliso Viejo             18\n",
       "Campbell                16\n",
       "Lucerne Valley          16\n",
       "Emeryville              15\n",
       "Foster City             14\n",
       "Thousand Oaks           14\n",
       "Tustin                  13\n",
       "Laguna Hills            13\n",
       "Santa Rosa              12\n",
       "Los Angeles             12\n",
       "Santa Monica            12\n",
       "                      ... \n",
       "Culver City              9\n",
       "Davis                    9\n",
       "Brisbane                 8\n",
       "Newark                   8\n",
       "Valencia                 7\n",
       "Encinitas                7\n",
       "San Bruno                7\n",
       "Los Altos                7\n",
       "Novato                   5\n",
       "Berkeley                 4\n",
       "Laguna Beach             3\n",
       "Pasadena                 3\n",
       "Santa Ana                3\n",
       "San Ramon                3\n",
       "City Of Industry         3\n",
       "Simi Valley              2\n",
       "Larkspur                 2\n",
       "Chino                    2\n",
       "Los Altos Hills          2\n",
       "Pittsburg                1\n",
       "Inglewood                1\n",
       "El Dorado Hills          1\n",
       "Newport Beach            1\n",
       "Livermore                1\n",
       "Beverly Hills            1\n",
       "Agoura Hills             1\n",
       "Milpitas                 1\n",
       "Oakland                  1\n",
       "Del Mar                  1\n",
       "Moraga                   1\n",
       "Name: company_city, Length: 65, dtype: int64"
      ]
     },
     "execution_count": 70,
     "metadata": {},
     "output_type": "execute_result"
    }
   ],
   "source": [
    "df['company_city'][ (df['company_market'] == 'Biotechnology') * (df['company_state_code']=='CA') *\n",
    "                            (df['company_country_code'] == 'USA')].value_counts()"
   ]
  },
  {
   "cell_type": "markdown",
   "metadata": {
    "colab_type": "text",
    "id": "bS0jq5zQNffe"
   },
   "source": [
    "Are you surprised by the city? It turns out that our cofounder, Investra Q. McMoney, **hates** the hot weather. But maybe there are other cities that would be good candidates for our startup... \n",
    "\n",
    "**Question:**<br>\n",
    "What are the top 5 cities in the USA for biotechnology company market investment funding?"
   ]
  },
  {
   "cell_type": "code",
   "execution_count": 72,
   "metadata": {
    "colab": {},
    "colab_type": "code",
    "id": "XPm0BWCfNffe",
    "scrolled": false
   },
   "outputs": [
    {
     "name": "stderr",
     "output_type": "stream",
     "text": [
      "/home/aemerick/anaconda3/lib/python3.7/site-packages/pandas/core/computation/expressions.py:183: UserWarning: evaluating in Python space because the '*' operator is not supported by numexpr for the bool dtype, use '&' instead\n",
      "  .format(op=op_str, alt_op=unsupported[op_str]))\n"
     ]
    },
    {
     "data": {
      "text/plain": [
       "company_city\n",
       "San Diego              9.189710e+09\n",
       "South San Francisco    5.948113e+09\n",
       "San Francisco          5.211797e+09\n",
       "Menlo Park             5.063562e+09\n",
       "Redwood City           4.244630e+09\n",
       "Palo Alto              3.813272e+09\n",
       "Mountain View          2.930499e+09\n",
       "Hayward                2.587115e+09\n",
       "La Jolla               1.881190e+09\n",
       "Burlingame             9.877457e+08\n",
       "Fremont                9.334300e+08\n",
       "Irvine                 8.047800e+08\n",
       "Santa Clara            7.797500e+08\n",
       "Carlsbad               7.630000e+08\n",
       "Lucerne Valley         7.040000e+08\n",
       "San Carlos             5.654018e+08\n",
       "Lake Forest            4.700000e+08\n",
       "San Mateo              4.239500e+08\n",
       "Sunnyvale              4.005347e+08\n",
       "Santa Monica           3.984000e+08\n",
       "Campbell               3.894000e+08\n",
       "Tustin                 3.868146e+08\n",
       "Alameda                3.374066e+08\n",
       "Thousand Oaks          3.345000e+08\n",
       "Cupertino              3.294190e+08\n",
       "Aliso Viejo            3.184545e+08\n",
       "Brisbane               3.170000e+08\n",
       "Laguna Hills           2.696000e+08\n",
       "Emeryville             2.419000e+08\n",
       "San Jose               2.415080e+08\n",
       "                           ...     \n",
       "Foster City            1.824260e+08\n",
       "Pleasanton             1.708000e+08\n",
       "Santa Barbara          1.432350e+08\n",
       "Los Altos              1.295000e+08\n",
       "Berkeley               1.292900e+08\n",
       "Los Gatos              1.060000e+08\n",
       "Encinitas              9.180000e+07\n",
       "San Bruno              7.848097e+07\n",
       "Novato                 7.500000e+07\n",
       "Pasadena               6.296000e+07\n",
       "Inglewood              6.000000e+07\n",
       "City Of Industry       2.804000e+07\n",
       "Chino                  2.500000e+07\n",
       "Culver City            2.130000e+07\n",
       "Laguna Beach           1.960000e+07\n",
       "Newport Beach          1.357000e+07\n",
       "Beverly Hills          9.200000e+06\n",
       "San Ramon              8.400000e+06\n",
       "Larkspur               8.347600e+06\n",
       "El Dorado Hills        8.000000e+06\n",
       "Oakland                7.400000e+06\n",
       "Los Altos Hills        4.700000e+06\n",
       "Moraga                 4.500000e+06\n",
       "Agoura Hills           2.200000e+06\n",
       "Pittsburg              2.000000e+06\n",
       "Livermore              1.500000e+06\n",
       "Santa Ana              1.006102e+06\n",
       "Del Mar                0.000000e+00\n",
       "Milpitas               0.000000e+00\n",
       "Simi Valley            0.000000e+00\n",
       "Name: raised_amount_total_usd, Length: 65, dtype: float64"
      ]
     },
     "execution_count": 72,
     "metadata": {},
     "output_type": "execute_result"
    }
   ],
   "source": [
    "df[ (df['company_market'] == 'Biotechnology') * (df['company_state_code']=='CA') *\n",
    "                            (df['company_country_code'] == 'USA')].groupby('company_city').raised_amount_total_usd.sum().sort_values(ascending=False)"
   ]
  },
  {
   "cell_type": "markdown",
   "metadata": {
    "colab_type": "text",
    "id": "A-SbfrjNNffh"
   },
   "source": [
    "Fantastic! Looks like we have at least a few locations to scout!\n",
    "\n",
    "In the meantime, we should consider the sources of funding. With that in mind, let's turn our attention to investor markets.\n",
    "\n",
    "**Question:**<br>\n",
    "Which investor markets raised the most money?"
   ]
  },
  {
   "cell_type": "code",
   "execution_count": 74,
   "metadata": {
    "colab": {},
    "colab_type": "code",
    "id": "tCEmnhHcNffh",
    "scrolled": true
   },
   "outputs": [
    {
     "data": {
      "text/plain": [
       "investor_market\n",
       "Venture Capital                  1.057116e+11\n",
       "Finance                          8.841049e+10\n",
       "Investment Management            3.523649e+10\n",
       "Software                         2.236290e+10\n",
       "Health Care                      1.492058e+10\n",
       "Technology                       1.250482e+10\n",
       "Media                            1.197075e+10\n",
       "Hardware + Software              7.846328e+09\n",
       "Mobile                           7.729133e+09\n",
       "Financial Services               7.161927e+09\n",
       "E-Commerce                       6.448765e+09\n",
       "Web Hosting                      6.168666e+09\n",
       "Biotechnology                    5.363902e+09\n",
       "Entrepreneur                     3.072037e+09\n",
       "Startups                         2.853168e+09\n",
       "Wireless                         2.584863e+09\n",
       "Market Research                  2.459280e+09\n",
       "Banking                          2.352453e+09\n",
       "Semiconductors                   2.343055e+09\n",
       "Enterprise Software              2.166754e+09\n",
       "Business Services                2.121592e+09\n",
       "Internet Marketing               1.769610e+09\n",
       "Public Relations                 1.562420e+09\n",
       "Photography                      1.400558e+09\n",
       "Clean Technology                 1.299886e+09\n",
       "Medical Devices                  1.226444e+09\n",
       "Life Sciences                    1.200611e+09\n",
       "Curated Web                      1.187090e+09\n",
       "Consumer Goods                   1.178150e+09\n",
       "Internet                         1.165680e+09\n",
       "                                     ...     \n",
       "Content                          7.500000e+05\n",
       "Logistics                        6.000000e+05\n",
       "West Africa                      5.800000e+05\n",
       "Maps                             5.429440e+05\n",
       "Internet TV                      5.000000e+05\n",
       "Web Design                       5.000000e+05\n",
       "Emerging Markets                 5.000000e+05\n",
       "Intellectual Property            3.250000e+05\n",
       "Natural Language Processing      2.750000e+05\n",
       "Colleges                         2.600000e+05\n",
       "iOS                              2.550000e+05\n",
       "Intellectual Asset Management    1.229810e+05\n",
       "Social Innovation                1.120000e+05\n",
       "Kids                             1.000000e+05\n",
       "Mobility                         8.263500e+04\n",
       "CRM                              6.000000e+04\n",
       "Office Space                     2.500000e+04\n",
       "Monetization                     0.000000e+00\n",
       "Local                            0.000000e+00\n",
       "Developer APIs                   0.000000e+00\n",
       "Innovation Management            0.000000e+00\n",
       "Home & Garden                    0.000000e+00\n",
       "App Marketing                    0.000000e+00\n",
       "High Tech                        0.000000e+00\n",
       "High Schools                     0.000000e+00\n",
       "Online Rental                    0.000000e+00\n",
       "Textbooks                        0.000000e+00\n",
       "Energy Efficiency                0.000000e+00\n",
       "Customer Service                 0.000000e+00\n",
       "Data Security                    0.000000e+00\n",
       "Name: raised_amount_total_usd, Length: 272, dtype: float64"
      ]
     },
     "execution_count": 74,
     "metadata": {},
     "output_type": "execute_result"
    }
   ],
   "source": [
    "df.groupby('investor_market').raised_amount_total_usd.sum().sort_values(ascending=False)"
   ]
  },
  {
   "cell_type": "markdown",
   "metadata": {
    "colab_type": "text",
    "id": "JBoSsworNffj"
   },
   "source": [
    "Are you surprised? How do you interpret the difference between company market investment and investment market investment? Why wouldn't these numbers be the same? Interpreting these types of apparent mis-matches is super important, especially when it comes to generating actionable insights.\n",
    "\n",
    "But we should go deeper here. Let's look at this data over time, shall we?\n",
    "\n",
    "**Question:**<br>\n",
    "What is the earliest year for which we have funding data?\n",
    "What is the latest year?"
   ]
  },
  {
   "cell_type": "code",
   "execution_count": 88,
   "metadata": {
    "colab": {},
    "colab_type": "code",
    "id": "BE5f-mb5Nffj"
   },
   "outputs": [
    {
     "data": {
      "text/plain": [
       "count    101090.000000\n",
       "mean       2010.677673\n",
       "std           2.995215\n",
       "min        1979.000000\n",
       "25%        2009.000000\n",
       "50%        2011.000000\n",
       "75%        2013.000000\n",
       "max        2014.000000\n",
       "Name: funded_year, dtype: float64"
      ]
     },
     "execution_count": 88,
     "metadata": {},
     "output_type": "execute_result"
    }
   ],
   "source": [
    "df[ df['raised_amount_total_usd'].notna() ].funded_year.describe()\n",
    "# 1974 - 2014"
   ]
  },
  {
   "cell_type": "markdown",
   "metadata": {
    "colab_type": "text",
    "id": "DCXz0EX3Nffl"
   },
   "source": [
    "Let's take a look at how the investor market has changed over time. We don't want to get ourselves ensnared in a bubble!\n",
    "\n",
    "**Question:**<br>\n",
    "What investor market raised the most money in the earliest year for which we have data?"
   ]
  },
  {
   "cell_type": "code",
   "execution_count": 90,
   "metadata": {},
   "outputs": [
    {
     "data": {
      "text/html": [
       "<div>\n",
       "<style scoped>\n",
       "    .dataframe tbody tr th:only-of-type {\n",
       "        vertical-align: middle;\n",
       "    }\n",
       "\n",
       "    .dataframe tbody tr th {\n",
       "        vertical-align: top;\n",
       "    }\n",
       "\n",
       "    .dataframe thead th {\n",
       "        text-align: right;\n",
       "    }\n",
       "</style>\n",
       "<table border=\"1\" class=\"dataframe\">\n",
       "  <thead>\n",
       "    <tr style=\"text-align: right;\">\n",
       "      <th></th>\n",
       "      <th>company_permalink</th>\n",
       "      <th>company_name</th>\n",
       "      <th>company_category_list</th>\n",
       "      <th>company_market</th>\n",
       "      <th>company_country_code</th>\n",
       "      <th>company_state_code</th>\n",
       "      <th>company_region</th>\n",
       "      <th>company_city</th>\n",
       "      <th>investor_permalink</th>\n",
       "      <th>investor_name</th>\n",
       "      <th>...</th>\n",
       "      <th>investor_city</th>\n",
       "      <th>funding_round_permalink</th>\n",
       "      <th>funding_round_type</th>\n",
       "      <th>funding_round_code</th>\n",
       "      <th>funded_at</th>\n",
       "      <th>funded_month</th>\n",
       "      <th>funded_quarter</th>\n",
       "      <th>funded_year</th>\n",
       "      <th>raised_amount_total_usd</th>\n",
       "      <th>raised_amount_each</th>\n",
       "    </tr>\n",
       "  </thead>\n",
       "  <tbody>\n",
       "    <tr>\n",
       "      <th>1</th>\n",
       "      <td>/organization/abo-data</td>\n",
       "      <td>ABO Data</td>\n",
       "      <td>|Enterprise Software|</td>\n",
       "      <td>Enterprise Software</td>\n",
       "      <td>USA</td>\n",
       "      <td>TX</td>\n",
       "      <td>TX - Other</td>\n",
       "      <td>Italy</td>\n",
       "      <td>/person/antonio-murroni</td>\n",
       "      <td>ANTONIO MURRONI</td>\n",
       "      <td>...</td>\n",
       "      <td>NaN</td>\n",
       "      <td>/funding-round/809e211b969c3f66440fc15ffcd29385</td>\n",
       "      <td>seed</td>\n",
       "      <td>NaN</td>\n",
       "      <td>1979-01-01</td>\n",
       "      <td>1979-01</td>\n",
       "      <td>1979-Q1</td>\n",
       "      <td>1979</td>\n",
       "      <td>1000000.0</td>\n",
       "      <td>#DIV/0!</td>\n",
       "    </tr>\n",
       "    <tr>\n",
       "      <th>2</th>\n",
       "      <td>/organization/abo-data</td>\n",
       "      <td>ABO Data</td>\n",
       "      <td>|Enterprise Software|</td>\n",
       "      <td>Enterprise Software</td>\n",
       "      <td>USA</td>\n",
       "      <td>TX</td>\n",
       "      <td>TX - Other</td>\n",
       "      <td>Italy</td>\n",
       "      <td>/person/filippo-murroni</td>\n",
       "      <td>FILIPPO Murroni</td>\n",
       "      <td>...</td>\n",
       "      <td>NaN</td>\n",
       "      <td>/funding-round/809e211b969c3f66440fc15ffcd29385</td>\n",
       "      <td>seed</td>\n",
       "      <td>NaN</td>\n",
       "      <td>1979-01-01</td>\n",
       "      <td>1979-01</td>\n",
       "      <td>1979-Q1</td>\n",
       "      <td>1979</td>\n",
       "      <td>1000000.0</td>\n",
       "      <td>#DIV/0!</td>\n",
       "    </tr>\n",
       "  </tbody>\n",
       "</table>\n",
       "<p>2 rows × 25 columns</p>\n",
       "</div>"
      ],
      "text/plain": [
       "        company_permalink company_name  company_category_list  \\\n",
       "1  /organization/abo-data     ABO Data  |Enterprise Software|   \n",
       "2  /organization/abo-data     ABO Data  |Enterprise Software|   \n",
       "\n",
       "        company_market company_country_code company_state_code company_region  \\\n",
       "1  Enterprise Software                  USA                 TX     TX - Other   \n",
       "2  Enterprise Software                  USA                 TX     TX - Other   \n",
       "\n",
       "  company_city       investor_permalink    investor_name  ... investor_city  \\\n",
       "1        Italy  /person/antonio-murroni  ANTONIO MURRONI  ...           NaN   \n",
       "2        Italy  /person/filippo-murroni  FILIPPO Murroni  ...           NaN   \n",
       "\n",
       "                           funding_round_permalink funding_round_type  \\\n",
       "1  /funding-round/809e211b969c3f66440fc15ffcd29385               seed   \n",
       "2  /funding-round/809e211b969c3f66440fc15ffcd29385               seed   \n",
       "\n",
       "  funding_round_code   funded_at funded_month funded_quarter funded_year  \\\n",
       "1                NaN  1979-01-01      1979-01        1979-Q1        1979   \n",
       "2                NaN  1979-01-01      1979-01        1979-Q1        1979   \n",
       "\n",
       "  raised_amount_total_usd raised_amount_each  \n",
       "1               1000000.0            #DIV/0!  \n",
       "2               1000000.0            #DIV/0!  \n",
       "\n",
       "[2 rows x 25 columns]"
      ]
     },
     "execution_count": 90,
     "metadata": {},
     "output_type": "execute_result"
    }
   ],
   "source": [
    "df[df['funded_year']==1979]"
   ]
  },
  {
   "cell_type": "code",
   "execution_count": 97,
   "metadata": {
    "colab": {},
    "colab_type": "code",
    "id": "pOOgNhu8Nffl",
    "scrolled": true
   },
   "outputs": [
    {
     "data": {
      "text/plain": [
       "Series([], Name: raised_amount_total_usd, dtype: float64)"
      ]
     },
     "execution_count": 97,
     "metadata": {},
     "output_type": "execute_result"
    }
   ],
   "source": [
    "df[df['funded_year'] == 1979].groupby('investor_market').raised_amount_total_usd.sum() #.groupby('investor_market').raised_amount_total_usd.sum() #.sort_values(ascending=False)"
   ]
  },
  {
   "cell_type": "markdown",
   "metadata": {
    "colab_type": "text",
    "id": "UuPa5ksFNffn"
   },
   "source": [
    "Did you get any results? Wny not? Try to troubleshoot.\n",
    "\n",
    "This is another problem with big datasets. Sometimes they can be sparser than they appear.\n",
    "\n",
    "Any one particular year, especially earlier years in this dataset, may not have much representation in this dataset. One way to approach this problem, then, is to look at investor markets using larger temporal windows.\n",
    "\n",
    "**Exercise:**\n",
    "Look at money raised in different investor markets over larger windows of time. How have the investor markets changed over time? What used to be hot? Whats hot now?"
   ]
  },
  {
   "cell_type": "code",
   "execution_count": 100,
   "metadata": {
    "colab": {},
    "colab_type": "code",
    "id": "CaEUn59HNffn"
   },
   "outputs": [
    {
     "data": {
      "text/plain": [
       "investor_market\n",
       "Advertising               15800000.0\n",
       "Consulting                 7500000.0\n",
       "Content Creators          34800000.0\n",
       "Curated Web               19500000.0\n",
       "E-Commerce                15000000.0\n",
       "Education                 17550000.0\n",
       "Enterprise Software       15800000.0\n",
       "Finance                   50814204.0\n",
       "Financial Services        30500000.0\n",
       "Hardware + Software       53700000.0\n",
       "Health Care                4530000.0\n",
       "Hospitality                      0.0\n",
       "Investment Management     88999069.0\n",
       "Legal                     17550000.0\n",
       "Marketplaces               4800000.0\n",
       "Media                     95800000.0\n",
       "Mobile                     1500000.0\n",
       "Photography               25000000.0\n",
       "Public Relations          12000000.0\n",
       "Startups                  46000000.0\n",
       "Technology                15800000.0\n",
       "Venture Capital          223650000.0\n",
       "Video Games                      0.0\n",
       "Name: raised_amount_total_usd, dtype: float64"
      ]
     },
     "execution_count": 100,
     "metadata": {},
     "output_type": "execute_result"
    }
   ],
   "source": [
    "df[(df['funded_year'] > 1970) * (df['funded_year'] < 2000)].groupby('investor_market').raised_amount_total_usd.sum() #.groupby('investor_market').raised_amount_total_usd.sum() #.sort_values(ascending=False)"
   ]
  },
  {
   "cell_type": "markdown",
   "metadata": {
    "colab_type": "text",
    "id": "a8bqGkM3Nffp"
   },
   "source": [
    "Looks like some investor markets have changed, but others are very consistent!\n",
    "\n",
    "**Exercise:**<br>\n",
    "How does the investor market compare to company markets for these same windows of time?"
   ]
  },
  {
   "cell_type": "code",
   "execution_count": null,
   "metadata": {
    "colab": {},
    "colab_type": "code",
    "id": "emvzAXhCNffq"
   },
   "outputs": [],
   "source": []
  },
  {
   "cell_type": "markdown",
   "metadata": {
    "colab_type": "text",
    "id": "M5mw8S4xNffr"
   },
   "source": [
    "Congratulations, smarties! You've made it to the end of this introduction to Pandas!\n",
    "\n",
    "But this is really only where exploratory data analysis begins. The next step in EDA is data visualization. Try to come up with different data visualizations for these data. Data viz can often shed light on some surprising aspects of your data, and can inspire whole new analyses that you might not have otherwise expected.\n",
    "\n",
    "\n",
    "Here are some ideas for data stories you can tell using visualizatitons:<br>\n",
    "* Try plotting a time series of funding by company or investor market. \n",
    "* Which industries are receiving the most funding?<br> \n",
    "* Are there differences in the funding structures of different industries?<br>\n",
    "* What is the geographical distribution of funding?<br>\n",
    "* How has startup funding changed over time?<br>\n"
   ]
  },
  {
   "cell_type": "code",
   "execution_count": null,
   "metadata": {
    "colab": {},
    "colab_type": "code",
    "id": "syFWWnd8Nffs"
   },
   "outputs": [],
   "source": []
  },
  {
   "cell_type": "markdown",
   "metadata": {
    "colab_type": "text",
    "id": "0Tv6m7qKNfft"
   },
   "source": [
    "But EDA is really only the jumping off point for real Data Science. The bread and butter of DS is data analysis, to which none of you are strangers. Try your hand at some analysis! Begin by importing some additional libraries. What kind of machine learning algorithms can you apply? Think carefully about why you would user one ML technique over another. This is a critical skill: companies will care about how you think about data. Your advanced degree is a big leg-up here: you've had experience thinking deeply about complex problems and the appropriaite analyses to apply to them. What can you come up with?\n",
    "\n",
    "\n",
    "Here are some ideas of analyses or avenues of investigation:\n",
    "* How does early round funding impact the future success of a company?\n",
    "* Does goegraphical location affect the funding or future success of a company?\n",
    "* How significant are the results?\n",
    "* Does it qualitatively make sense?\n"
   ]
  },
  {
   "cell_type": "code",
   "execution_count": null,
   "metadata": {
    "colab": {},
    "colab_type": "code",
    "id": "q2iFhnJ-Nffu"
   },
   "outputs": [],
   "source": []
  },
  {
   "cell_type": "markdown",
   "metadata": {
    "colab_type": "text",
    "id": "q2D24Vl8Nffv"
   },
   "source": [
    "Discuss these topics with your fellow Fellows on the Platform:\n",
    "* Why are your results interesting?\n",
    "* Could you imagine a useful product on top of this?\n",
    "* From a technical point-of-view, what was challenging about dealing with this dataset?\n",
    "* What were the hardest points or roadblocks along the way?\n",
    "* Are there any secondary data sources you can call upon to gain further insight?\n",
    "* Where did you make wrong turns?\n",
    "* What aspects of analysis did you get stuck on?\n",
    "* How would you approach your workflow differently?\n",
    "* Could task sharing or communication be streamlined?\n"
   ]
  },
  {
   "cell_type": "code",
   "execution_count": 101,
   "metadata": {
    "colab": {},
    "colab_type": "code",
    "id": "UQDImWafNffv"
   },
   "outputs": [
    {
     "data": {
      "text/plain": [
       "zip"
      ]
     },
     "execution_count": 101,
     "metadata": {},
     "output_type": "execute_result"
    }
   ],
   "source": [
    "zip"
   ]
  },
  {
   "cell_type": "code",
   "execution_count": null,
   "metadata": {},
   "outputs": [],
   "source": []
  }
 ],
 "metadata": {
  "colab": {
   "name": "Pandas.ipynb",
   "provenance": []
  },
  "kernelspec": {
   "display_name": "Python 3",
   "language": "python",
   "name": "python3"
  },
  "language_info": {
   "codemirror_mode": {
    "name": "ipython",
    "version": 3
   },
   "file_extension": ".py",
   "mimetype": "text/x-python",
   "name": "python",
   "nbconvert_exporter": "python",
   "pygments_lexer": "ipython3",
   "version": "3.7.3"
  }
 },
 "nbformat": 4,
 "nbformat_minor": 1
}
