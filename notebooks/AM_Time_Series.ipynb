{
 "cells": [
  {
   "cell_type": "code",
   "execution_count": 1,
   "metadata": {
    "execution": {
     "iopub.execute_input": "2020-11-15T02:37:47.718858Z",
     "iopub.status.busy": "2020-11-15T02:37:47.718858Z",
     "iopub.status.idle": "2020-11-15T02:37:52.559762Z",
     "shell.execute_reply": "2020-11-15T02:37:52.559762Z",
     "shell.execute_reply.started": "2020-11-15T02:37:47.718858Z"
    },
    "slideshow": null
   },
   "outputs": [],
   "source": [
    "import seaborn as sns\n",
    "sns.set()"
   ]
  },
  {
   "cell_type": "code",
   "execution_count": 7,
   "metadata": {
    "execution": {
     "iopub.execute_input": "2020-11-15T02:43:29.328923Z",
     "iopub.status.busy": "2020-11-15T02:43:29.327909Z",
     "iopub.status.idle": "2020-11-15T02:43:30.582911Z",
     "shell.execute_reply": "2020-11-15T02:43:30.581910Z",
     "shell.execute_reply.started": "2020-11-15T02:43:29.328923Z"
    },
    "slideshow": null
   },
   "outputs": [],
   "source": [
    "import quandl\n",
    "import dill\n",
    "import numpy as np\n",
    "import scipy as sp\n",
    "import pandas as pd\n",
    "import sklearn.linear_model\n",
    "import sklearn.metrics\n",
    "import matplotlib.pyplot as plt\n",
    "from ipywidgets import interact"
   ]
  },
  {
   "cell_type": "markdown",
   "metadata": {
    "slideshow": null
   },
   "source": [
    "# Time Series\n",
    "<!-- requirement: images/ts_xval.png -->\n",
    "<!-- requirement: projects/timeseries-project -->\n",
    "<!-- requirement: small_data/quandl_oil.pkl -->\n",
    "<!-- requirement: small_data/quandl_ng_fut.pkl -->\n"
   ]
  },
  {
   "cell_type": "markdown",
   "metadata": {
    "slideshow": null
   },
   "source": [
    "Time series prediction or forecasting presents its own challenges which are different from machine-learning problems.  Like many other classes of problems, it also presents a number of special features which are common.\n",
    "\n",
    "In general, while we could use regression to make predictions, the goal of time series analysis is to take advantage of the temporal nature of the data to make more sophisticated models. To properly forecast events, we need to implement techniques to find and model the long term trends (**drift**), periodic signals (**seasonality**), and residual noise in our data. We will also need to preserve the order of our observations while cross-validating our model.\n",
    "\n",
    "We will follow this general procedure for modeling time series:\n",
    "1. Plot the time series. Look for trends, seasonality, and step changes.\n",
    "2. Model and remove drift and seasonal components. \n",
    "3. Fit a model to the residuals. \n",
    "4. Add drift and seasonality back into the model. \n"
   ]
  },
  {
   "cell_type": "markdown",
   "metadata": {
    "slideshow": null
   },
   "source": [
    "## Trends in time series data\n"
   ]
  },
  {
   "cell_type": "markdown",
   "metadata": {
    "slideshow": null
   },
   "source": [
    "As we explain these, let's first define our time-series as\n",
    "\n",
    "$$ \\{X_t, t = \\ldots, -1, 0, 1, \\ldots\\} \\, . $$\n",
    "\n",
    "We take $\\varepsilon \\sim N(0, \\sigma^2)$ to be i.i.d. normal errors.  \n",
    "1. **Stationarity**.  Informally, this means that the distribution of the $X_t$ is independent of time $t$.  Formally, a time-series is stationary if for all $k \\ge 0$ and $t$, the following two $k$-tuples have the same distribution:\n",
    "$$ (X_0,\\ldots,X_k) \\sim (X_t,\\ldots,X_{t+k}) $$\n",
    "1. **Drift**.  One reason a time-series might not be stationary is that it possess a drift.  For example, we know that prices tend to creep up with inflation.  Mathematically, we might represent the (log) prices as\n",
    "$$ X_t = \\mu t + \\varepsilon_t $$\n",
    "1. **Seasonality**.  Another reason a time-series might not be stationary is that it possesses a seasonal component.  For example, we know that the temperature increases in the summer and decreases in the winter.  A simple model of this might be\n",
    "$$ X_t = \\alpha \\sin(\\omega t) + \\beta \\cos(\\omega t)$$"
   ]
  },
  {
   "cell_type": "markdown",
   "metadata": {
    "slideshow": null
   },
   "source": [
    "## Cross-validation for time series"
   ]
  },
  {
   "cell_type": "markdown",
   "metadata": {
    "slideshow": null
   },
   "source": [
    "Cross validation is very different for time series than with other machine-learning problem classes.  In normal machine-learning, we select a random subset of data as a validation set to estimate accuracy of your measure.  In time series, we have to consider the problem that we are trying to solve is often to predict a value in the future.  Therefore, the validation data always has to occur *after* the training data.  As a simple example, consider that it would not be very useful to have a predictor of tomorrow's temperature that depended on the temperature the day after. In general:\n",
    "\n",
    "- We cannot just pick data points at random, because there might be lagged indicators / seasonal effects / etc. that force us to work with contiguous blocks of time.  \n",
    "- We cannot blindly chop by e.g., month or year without some thought: There could be seasonal effects so that Decembers are always different.  There could be systemic \"regime changes\" that mean that cutting at a given date is inappropriate, or known and time-limited effects that last a year (or fraction thereof).   For instance, the years 1991 and 2008 in this data set.\n",
    "- We cannot have our testing set occur before our training set."
   ]
  },
  {
   "cell_type": "markdown",
   "metadata": {
    "slideshow": null
   },
   "source": [
    "![ts cross-validation illustration](images/ts_xval.png)"
   ]
  },
  {
   "cell_type": "markdown",
   "metadata": {
    "slideshow": null
   },
   "source": [
    "We usually handle this by doing a **sliding-window validation method**.  That is, we train on the last $n$ data points and validate the prediction on the next $m$ data points, sliding the $n + m$ training / validation window in time.  In this way, we can estimate the parameters of our model.  To test the validity of the model, we might use a block of data at the end of our time series which is reserved for testing the model with the learned parameters.\n",
    "\n",
    "Another common technique is to use [**forward chaining**](http://stats.stackexchange.com/questions/14099/using-k-fold-cross-validation-for-time-series-model-selection).\n",
    "\n",
    "**Question:** What are the strengths and weaknesses of using a fixed vs. rolling window?"
   ]
  },
  {
   "cell_type": "markdown",
   "metadata": {
    "slideshow": null
   },
   "source": [
    "## Modeling drift\n"
   ]
  },
  {
   "cell_type": "markdown",
   "metadata": {
    "slideshow": null
   },
   "source": [
    "For examples, we will use two different data sets, weather and oil prices. The weather data is available locally in the `projects/` subdirectory, and the oil data retrieved from __[Quandl](https://www.quandl.com/)__.  Quandl is a website that has lots of financial data available (and some other data sets), such as stock prices and oil prices (as we are using here).  A lot of Quandl's data is available for free, you just need to get an authorization token to download it (after registering on the website).  "
   ]
  },
  {
   "cell_type": "code",
   "execution_count": 9,
   "metadata": {
    "execution": {
     "iopub.execute_input": "2020-11-15T02:47:56.400925Z",
     "iopub.status.busy": "2020-11-15T02:47:56.399920Z",
     "iopub.status.idle": "2020-11-15T02:47:58.995919Z",
     "shell.execute_reply": "2020-11-15T02:47:58.994914Z",
     "shell.execute_reply.started": "2020-11-15T02:47:56.400925Z"
    },
    "slideshow": null
   },
   "outputs": [],
   "source": [
    "# To properly use the Quandl API, you should get an authtoken.  Very limited usage doesn't require it.\n",
    "\n",
    "# authtoken = None\n",
    "authtoken = \"HSm5uz-kdzQgsbYBU-zS\"\n",
    "\n",
    "def get_quandl(what, authtoken=None):\n",
    "    \"\"\" \n",
    "    Wrapper around Quandl requests, using authtoken only if available\n",
    "    \"\"\"\n",
    "    if authtoken:\n",
    "        return quandl.get(what, authtoken=authtoken)\n",
    "    else:\n",
    "        return quandl.get(what)\n",
    "    \n",
    "oil = get_quandl(\"EIA/PET_RWTC_D\", authtoken)  #  This would require an API authtoken to get the full set of data.  "
   ]
  },
  {
   "cell_type": "code",
   "execution_count": 10,
   "metadata": {
    "execution": {
     "iopub.execute_input": "2020-11-15T02:48:07.395530Z",
     "iopub.status.busy": "2020-11-15T02:48:07.395530Z",
     "iopub.status.idle": "2020-11-15T02:48:07.440526Z",
     "shell.execute_reply": "2020-11-15T02:48:07.439524Z",
     "shell.execute_reply.started": "2020-11-15T02:48:07.395530Z"
    }
   },
   "outputs": [
    {
     "name": "stdout",
     "output_type": "stream",
     "text": [
      "<class 'pandas.core.frame.DataFrame'>\n",
      "DatetimeIndex: 8809 entries, 1986-01-02 to 2020-11-11\n",
      "Data columns (total 1 columns):\n",
      " #   Column  Non-Null Count  Dtype  \n",
      "---  ------  --------------  -----  \n",
      " 0   Value   8809 non-null   float64\n",
      "dtypes: float64(1)\n",
      "memory usage: 137.6 KB\n"
     ]
    }
   ],
   "source": [
    "oil.info()"
   ]
  },
  {
   "cell_type": "code",
   "execution_count": 11,
   "metadata": {
    "execution": {
     "iopub.execute_input": "2020-11-15T02:48:20.799400Z",
     "iopub.status.busy": "2020-11-15T02:48:20.798405Z",
     "iopub.status.idle": "2020-11-15T02:48:20.817394Z",
     "shell.execute_reply": "2020-11-15T02:48:20.816410Z",
     "shell.execute_reply.started": "2020-11-15T02:48:20.799400Z"
    },
    "slideshow": null
   },
   "outputs": [],
   "source": [
    "with open('small_data/quandl_oil.pkl', 'wb') as f:\n",
    "    dill.dump(oil, f)"
   ]
  },
  {
   "cell_type": "code",
   "execution_count": 22,
   "metadata": {
    "execution": {
     "iopub.execute_input": "2020-11-15T03:40:02.137208Z",
     "iopub.status.busy": "2020-11-15T03:40:02.136206Z",
     "iopub.status.idle": "2020-11-15T03:40:02.151205Z",
     "shell.execute_reply": "2020-11-15T03:40:02.149210Z",
     "shell.execute_reply.started": "2020-11-15T03:40:02.137208Z"
    },
    "slideshow": null
   },
   "outputs": [],
   "source": [
    "#  We will use data that was previously retrieved from Quandl.\n",
    "with open(\"small_data/quandl_oil.pkl\", \"rb\") as fin:\n",
    "    oil = dill.load(fin)"
   ]
  },
  {
   "cell_type": "markdown",
   "metadata": {
    "slideshow": null
   },
   "source": [
    "We will start of by visually inspecting our time series. "
   ]
  },
  {
   "cell_type": "code",
   "execution_count": 23,
   "metadata": {
    "execution": {
     "iopub.execute_input": "2020-11-15T03:40:04.629852Z",
     "iopub.status.busy": "2020-11-15T03:40:04.628846Z",
     "iopub.status.idle": "2020-11-15T03:40:04.645840Z",
     "shell.execute_reply": "2020-11-15T03:40:04.644845Z",
     "shell.execute_reply.started": "2020-11-15T03:40:04.629852Z"
    },
    "slideshow": null
   },
   "outputs": [
    {
     "data": {
      "text/html": [
       "<div>\n",
       "<style scoped>\n",
       "    .dataframe tbody tr th:only-of-type {\n",
       "        vertical-align: middle;\n",
       "    }\n",
       "\n",
       "    .dataframe tbody tr th {\n",
       "        vertical-align: top;\n",
       "    }\n",
       "\n",
       "    .dataframe thead th {\n",
       "        text-align: right;\n",
       "    }\n",
       "</style>\n",
       "<table border=\"1\" class=\"dataframe\">\n",
       "  <thead>\n",
       "    <tr style=\"text-align: right;\">\n",
       "      <th></th>\n",
       "      <th>Value</th>\n",
       "    </tr>\n",
       "    <tr>\n",
       "      <th>Date</th>\n",
       "      <th></th>\n",
       "    </tr>\n",
       "  </thead>\n",
       "  <tbody>\n",
       "    <tr>\n",
       "      <th>1986-01-02</th>\n",
       "      <td>25.56</td>\n",
       "    </tr>\n",
       "    <tr>\n",
       "      <th>1986-01-03</th>\n",
       "      <td>26.00</td>\n",
       "    </tr>\n",
       "    <tr>\n",
       "      <th>1986-01-06</th>\n",
       "      <td>26.53</td>\n",
       "    </tr>\n",
       "    <tr>\n",
       "      <th>1986-01-07</th>\n",
       "      <td>25.85</td>\n",
       "    </tr>\n",
       "    <tr>\n",
       "      <th>1986-01-08</th>\n",
       "      <td>25.87</td>\n",
       "    </tr>\n",
       "  </tbody>\n",
       "</table>\n",
       "</div>"
      ],
      "text/plain": [
       "            Value\n",
       "Date             \n",
       "1986-01-02  25.56\n",
       "1986-01-03  26.00\n",
       "1986-01-06  26.53\n",
       "1986-01-07  25.85\n",
       "1986-01-08  25.87"
      ]
     },
     "execution_count": 23,
     "metadata": {},
     "output_type": "execute_result"
    }
   ],
   "source": [
    "oil.head()"
   ]
  },
  {
   "cell_type": "code",
   "execution_count": 24,
   "metadata": {
    "execution": {
     "iopub.execute_input": "2020-11-15T03:40:07.379590Z",
     "iopub.status.busy": "2020-11-15T03:40:07.379590Z",
     "iopub.status.idle": "2020-11-15T03:40:07.396586Z",
     "shell.execute_reply": "2020-11-15T03:40:07.395587Z",
     "shell.execute_reply.started": "2020-11-15T03:40:07.379590Z"
    }
   },
   "outputs": [
    {
     "data": {
      "text/html": [
       "<div>\n",
       "<style scoped>\n",
       "    .dataframe tbody tr th:only-of-type {\n",
       "        vertical-align: middle;\n",
       "    }\n",
       "\n",
       "    .dataframe tbody tr th {\n",
       "        vertical-align: top;\n",
       "    }\n",
       "\n",
       "    .dataframe thead th {\n",
       "        text-align: right;\n",
       "    }\n",
       "</style>\n",
       "<table border=\"1\" class=\"dataframe\">\n",
       "  <thead>\n",
       "    <tr style=\"text-align: right;\">\n",
       "      <th></th>\n",
       "      <th>Value</th>\n",
       "    </tr>\n",
       "    <tr>\n",
       "      <th>Date</th>\n",
       "      <th></th>\n",
       "    </tr>\n",
       "  </thead>\n",
       "  <tbody>\n",
       "    <tr>\n",
       "      <th>2020-04-20</th>\n",
       "      <td>-36.98</td>\n",
       "    </tr>\n",
       "    <tr>\n",
       "      <th>2020-04-21</th>\n",
       "      <td>8.91</td>\n",
       "    </tr>\n",
       "    <tr>\n",
       "      <th>1986-03-31</th>\n",
       "      <td>10.25</td>\n",
       "    </tr>\n",
       "    <tr>\n",
       "      <th>1998-12-10</th>\n",
       "      <td>10.82</td>\n",
       "    </tr>\n",
       "    <tr>\n",
       "      <th>1986-07-25</th>\n",
       "      <td>10.83</td>\n",
       "    </tr>\n",
       "  </tbody>\n",
       "</table>\n",
       "</div>"
      ],
      "text/plain": [
       "            Value\n",
       "Date             \n",
       "2020-04-20 -36.98\n",
       "2020-04-21   8.91\n",
       "1986-03-31  10.25\n",
       "1998-12-10  10.82\n",
       "1986-07-25  10.83"
      ]
     },
     "execution_count": 24,
     "metadata": {},
     "output_type": "execute_result"
    }
   ],
   "source": [
    "oil.sort_values('Value').head()"
   ]
  },
  {
   "cell_type": "code",
   "execution_count": 35,
   "metadata": {
    "execution": {
     "iopub.execute_input": "2020-11-15T03:46:31.169071Z",
     "iopub.status.busy": "2020-11-15T03:46:31.168075Z",
     "iopub.status.idle": "2020-11-15T03:46:31.192072Z",
     "shell.execute_reply": "2020-11-15T03:46:31.190071Z",
     "shell.execute_reply.started": "2020-11-15T03:46:31.169071Z"
    }
   },
   "outputs": [],
   "source": [
    "oil = oil.drop(np.datetime64('2020-04-20'))"
   ]
  },
  {
   "cell_type": "code",
   "execution_count": 36,
   "metadata": {
    "execution": {
     "iopub.execute_input": "2020-11-15T03:46:33.032073Z",
     "iopub.status.busy": "2020-11-15T03:46:33.032073Z",
     "iopub.status.idle": "2020-11-15T03:46:33.624076Z",
     "shell.execute_reply": "2020-11-15T03:46:33.623078Z",
     "shell.execute_reply.started": "2020-11-15T03:46:33.032073Z"
    },
    "slideshow": null
   },
   "outputs": [
    {
     "data": {
      "image/png": "[encoded data removed]",
      "text/plain": [
       "<Figure size 432x288 with 1 Axes>"
      ]
     },
     "metadata": {},
     "output_type": "display_data"
    }
   ],
   "source": [
    "oil.plot();"
   ]
  },
  {
   "cell_type": "markdown",
   "metadata": {
    "slideshow": null
   },
   "source": [
    "Looking at the plot of oil value over time, we see that the trend is exponential. We can model exponential trends using a linear regression model if we transform the data first. "
   ]
  },
  {
   "cell_type": "code",
   "execution_count": 37,
   "metadata": {
    "execution": {
     "iopub.execute_input": "2020-11-15T03:46:37.878074Z",
     "iopub.status.busy": "2020-11-15T03:46:37.877070Z",
     "iopub.status.idle": "2020-11-15T03:46:38.482074Z",
     "shell.execute_reply": "2020-11-15T03:46:38.481078Z",
     "shell.execute_reply.started": "2020-11-15T03:46:37.878074Z"
    },
    "slideshow": null
   },
   "outputs": [
    {
     "data": {
      "image/png": "[encoded data removed]",
      "text/plain": [
       "<Figure size 432x288 with 1 Axes>"
      ]
     },
     "metadata": {},
     "output_type": "display_data"
    }
   ],
   "source": [
    "np.log(oil).plot();"
   ]
  },
  {
   "cell_type": "code",
   "execution_count": 38,
   "metadata": {
    "execution": {
     "iopub.execute_input": "2020-11-15T03:46:41.512229Z",
     "iopub.status.busy": "2020-11-15T03:46:41.512229Z",
     "iopub.status.idle": "2020-11-15T03:46:41.519226Z",
     "shell.execute_reply": "2020-11-15T03:46:41.518225Z",
     "shell.execute_reply.started": "2020-11-15T03:46:41.512229Z"
    },
    "slideshow": null
   },
   "outputs": [],
   "source": [
    "# Add a constant field for the linear regression\n",
    "def add_constant(X):\n",
    "    X['const'] = pd.Series(np.ones(len(X.index)), index=X.index)\n",
    "    return X"
   ]
  },
  {
   "cell_type": "code",
   "execution_count": 39,
   "metadata": {
    "execution": {
     "iopub.execute_input": "2020-11-15T03:46:43.234231Z",
     "iopub.status.busy": "2020-11-15T03:46:43.234231Z",
     "iopub.status.idle": "2020-11-15T03:46:43.275225Z",
     "shell.execute_reply": "2020-11-15T03:46:43.270223Z",
     "shell.execute_reply.started": "2020-11-15T03:46:43.234231Z"
    },
    "slideshow": null
   },
   "outputs": [
    {
     "data": {
      "text/html": [
       "<div>\n",
       "<style scoped>\n",
       "    .dataframe tbody tr th:only-of-type {\n",
       "        vertical-align: middle;\n",
       "    }\n",
       "\n",
       "    .dataframe tbody tr th {\n",
       "        vertical-align: top;\n",
       "    }\n",
       "\n",
       "    .dataframe thead th {\n",
       "        text-align: right;\n",
       "    }\n",
       "</style>\n",
       "<table border=\"1\" class=\"dataframe\">\n",
       "  <thead>\n",
       "    <tr style=\"text-align: right;\">\n",
       "      <th></th>\n",
       "      <th>Value</th>\n",
       "      <th>Julian</th>\n",
       "      <th>const</th>\n",
       "    </tr>\n",
       "    <tr>\n",
       "      <th>Date</th>\n",
       "      <th></th>\n",
       "      <th></th>\n",
       "      <th></th>\n",
       "    </tr>\n",
       "  </thead>\n",
       "  <tbody>\n",
       "    <tr>\n",
       "      <th>1986-01-02</th>\n",
       "      <td>25.56</td>\n",
       "      <td>2446432.5</td>\n",
       "      <td>1.0</td>\n",
       "    </tr>\n",
       "    <tr>\n",
       "      <th>1986-01-03</th>\n",
       "      <td>26.00</td>\n",
       "      <td>2446433.5</td>\n",
       "      <td>1.0</td>\n",
       "    </tr>\n",
       "    <tr>\n",
       "      <th>1986-01-06</th>\n",
       "      <td>26.53</td>\n",
       "      <td>2446436.5</td>\n",
       "      <td>1.0</td>\n",
       "    </tr>\n",
       "    <tr>\n",
       "      <th>1986-01-07</th>\n",
       "      <td>25.85</td>\n",
       "      <td>2446437.5</td>\n",
       "      <td>1.0</td>\n",
       "    </tr>\n",
       "    <tr>\n",
       "      <th>1986-01-08</th>\n",
       "      <td>25.87</td>\n",
       "      <td>2446438.5</td>\n",
       "      <td>1.0</td>\n",
       "    </tr>\n",
       "  </tbody>\n",
       "</table>\n",
       "</div>"
      ],
      "text/plain": [
       "            Value     Julian  const\n",
       "Date                               \n",
       "1986-01-02  25.56  2446432.5    1.0\n",
       "1986-01-03  26.00  2446433.5    1.0\n",
       "1986-01-06  26.53  2446436.5    1.0\n",
       "1986-01-07  25.85  2446437.5    1.0\n",
       "1986-01-08  25.87  2446438.5    1.0"
      ]
     },
     "execution_count": 39,
     "metadata": {},
     "output_type": "execute_result"
    }
   ],
   "source": [
    "oil['Julian'] = oil.index.to_julian_date()\n",
    "oil = add_constant(oil) \n",
    "\n",
    "oil.head()"
   ]
  },
  {
   "cell_type": "code",
   "execution_count": 40,
   "metadata": {
    "execution": {
     "iopub.execute_input": "2020-11-15T03:46:45.568763Z",
     "iopub.status.busy": "2020-11-15T03:46:45.567771Z",
     "iopub.status.idle": "2020-11-15T03:46:45.652759Z",
     "shell.execute_reply": "2020-11-15T03:46:45.651759Z",
     "shell.execute_reply.started": "2020-11-15T03:46:45.568763Z"
    },
    "slideshow": null
   },
   "outputs": [
    {
     "data": {
      "text/plain": [
       "Ridge()"
      ]
     },
     "execution_count": 40,
     "metadata": {},
     "output_type": "execute_result"
    }
   ],
   "source": [
    "# We can actually train a simple exponential model using the log(value), then train further models on the error.\n",
    "exponential_model = sklearn.linear_model.Ridge().fit( \n",
    "    X=oil[['Julian', 'const']], \n",
    "    y=np.log(oil['Value'])\n",
    ")\n",
    "\n",
    "exponential_model"
   ]
  },
  {
   "cell_type": "code",
   "execution_count": 41,
   "metadata": {
    "execution": {
     "iopub.execute_input": "2020-11-15T03:47:13.278638Z",
     "iopub.status.busy": "2020-11-15T03:47:13.277638Z",
     "iopub.status.idle": "2020-11-15T03:47:13.317635Z",
     "shell.execute_reply": "2020-11-15T03:47:13.316636Z",
     "shell.execute_reply.started": "2020-11-15T03:47:13.278638Z"
    },
    "slideshow": null
   },
   "outputs": [
    {
     "data": {
      "text/html": [
       "<div>\n",
       "<style scoped>\n",
       "    .dataframe tbody tr th:only-of-type {\n",
       "        vertical-align: middle;\n",
       "    }\n",
       "\n",
       "    .dataframe tbody tr th {\n",
       "        vertical-align: top;\n",
       "    }\n",
       "\n",
       "    .dataframe thead th {\n",
       "        text-align: right;\n",
       "    }\n",
       "</style>\n",
       "<table border=\"1\" class=\"dataframe\">\n",
       "  <thead>\n",
       "    <tr style=\"text-align: right;\">\n",
       "      <th></th>\n",
       "      <th>Value</th>\n",
       "      <th>Julian</th>\n",
       "      <th>const</th>\n",
       "      <th>Exponential_Model</th>\n",
       "      <th>Log_Error_Exponential</th>\n",
       "    </tr>\n",
       "    <tr>\n",
       "      <th>Date</th>\n",
       "      <th></th>\n",
       "      <th></th>\n",
       "      <th></th>\n",
       "      <th></th>\n",
       "      <th></th>\n",
       "    </tr>\n",
       "  </thead>\n",
       "  <tbody>\n",
       "    <tr>\n",
       "      <th>1986-01-02</th>\n",
       "      <td>25.56</td>\n",
       "      <td>2446432.5</td>\n",
       "      <td>1.0</td>\n",
       "      <td>14.660441</td>\n",
       "      <td>0.555876</td>\n",
       "    </tr>\n",
       "    <tr>\n",
       "      <th>1986-01-03</th>\n",
       "      <td>26.00</td>\n",
       "      <td>2446433.5</td>\n",
       "      <td>1.0</td>\n",
       "      <td>14.662491</td>\n",
       "      <td>0.572804</td>\n",
       "    </tr>\n",
       "    <tr>\n",
       "      <th>1986-01-06</th>\n",
       "      <td>26.53</td>\n",
       "      <td>2446436.5</td>\n",
       "      <td>1.0</td>\n",
       "      <td>14.668642</td>\n",
       "      <td>0.592564</td>\n",
       "    </tr>\n",
       "    <tr>\n",
       "      <th>1986-01-07</th>\n",
       "      <td>25.85</td>\n",
       "      <td>2446437.5</td>\n",
       "      <td>1.0</td>\n",
       "      <td>14.670693</td>\n",
       "      <td>0.566459</td>\n",
       "    </tr>\n",
       "    <tr>\n",
       "      <th>1986-01-08</th>\n",
       "      <td>25.87</td>\n",
       "      <td>2446438.5</td>\n",
       "      <td>1.0</td>\n",
       "      <td>14.672745</td>\n",
       "      <td>0.567092</td>\n",
       "    </tr>\n",
       "  </tbody>\n",
       "</table>\n",
       "</div>"
      ],
      "text/plain": [
       "            Value     Julian  const  Exponential_Model  Log_Error_Exponential\n",
       "Date                                                                         \n",
       "1986-01-02  25.56  2446432.5    1.0          14.660441               0.555876\n",
       "1986-01-03  26.00  2446433.5    1.0          14.662491               0.572804\n",
       "1986-01-06  26.53  2446436.5    1.0          14.668642               0.592564\n",
       "1986-01-07  25.85  2446437.5    1.0          14.670693               0.566459\n",
       "1986-01-08  25.87  2446438.5    1.0          14.672745               0.567092"
      ]
     },
     "execution_count": 41,
     "metadata": {},
     "output_type": "execute_result"
    }
   ],
   "source": [
    "exp_model_df = oil\n",
    "exp_model_df['Exponential_Model'] = np.exp(exponential_model.predict(oil[['Julian', 'const']]))\n",
    "exp_model_df['Log_Error_Exponential'] = np.log(oil['Value'] / oil['Exponential_Model'])\n",
    "\n",
    "exp_model_df.head()"
   ]
  },
  {
   "cell_type": "code",
   "execution_count": 42,
   "metadata": {
    "execution": {
     "iopub.execute_input": "2020-11-15T04:10:20.280344Z",
     "iopub.status.busy": "2020-11-15T04:10:20.280344Z",
     "iopub.status.idle": "2020-11-15T04:10:20.992340Z",
     "shell.execute_reply": "2020-11-15T04:10:20.991340Z",
     "shell.execute_reply.started": "2020-11-15T04:10:20.280344Z"
    },
    "slideshow": null
   },
   "outputs": [
    {
     "data": {
      "image/png": "[encoded data removed]",
      "text/plain": [
       "<Figure size 432x288 with 1 Axes>"
      ]
     },
     "metadata": {},
     "output_type": "display_data"
    }
   ],
   "source": [
    "exp_model_df[['Value', 'Exponential_Model']].plot();"
   ]
  },
  {
   "cell_type": "markdown",
   "metadata": {
    "slideshow": null
   },
   "source": [
    "## Modeling seasonality\n"
   ]
  },
  {
   "cell_type": "markdown",
   "metadata": {
    "slideshow": null
   },
   "source": [
    "Let's take a look at the temperature data set and see if we can spot any periodic signals. "
   ]
  },
  {
   "cell_type": "code",
   "execution_count": 43,
   "metadata": {
    "execution": {
     "iopub.execute_input": "2020-11-15T04:10:32.732122Z",
     "iopub.status.busy": "2020-11-15T04:10:32.731084Z",
     "iopub.status.idle": "2020-11-15T04:10:34.497559Z",
     "shell.execute_reply": "2020-11-15T04:10:34.496656Z",
     "shell.execute_reply.started": "2020-11-15T04:10:32.732122Z"
    },
    "slideshow": null
   },
   "outputs": [],
   "source": [
    "import datetime\n",
    "temps = pd.read_csv(\"projects/timeseries-project/data/raw/temperatures.csv\", \n",
    "                    index_col=0,\n",
    "                    names=[\"Temperature\"],\n",
    "                    parse_dates=True,\n",
    "                    date_parser=lambda u: datetime.datetime.strptime(u, \"%Y-%m-%d %H:%M:%S\"))"
   ]
  },
  {
   "cell_type": "code",
   "execution_count": 44,
   "metadata": {
    "execution": {
     "iopub.execute_input": "2020-11-15T04:10:40.404247Z",
     "iopub.status.busy": "2020-11-15T04:10:40.403249Z",
     "iopub.status.idle": "2020-11-15T04:10:40.433248Z",
     "shell.execute_reply": "2020-11-15T04:10:40.431246Z",
     "shell.execute_reply.started": "2020-11-15T04:10:40.404247Z"
    }
   },
   "outputs": [
    {
     "data": {
      "text/html": [
       "<div>\n",
       "<style scoped>\n",
       "    .dataframe tbody tr th:only-of-type {\n",
       "        vertical-align: middle;\n",
       "    }\n",
       "\n",
       "    .dataframe tbody tr th {\n",
       "        vertical-align: top;\n",
       "    }\n",
       "\n",
       "    .dataframe thead th {\n",
       "        text-align: right;\n",
       "    }\n",
       "</style>\n",
       "<table border=\"1\" class=\"dataframe\">\n",
       "  <thead>\n",
       "    <tr style=\"text-align: right;\">\n",
       "      <th></th>\n",
       "      <th>Temperature</th>\n",
       "    </tr>\n",
       "  </thead>\n",
       "  <tbody>\n",
       "    <tr>\n",
       "      <th>2001-01-01 00:00:00</th>\n",
       "      <td>18</td>\n",
       "    </tr>\n",
       "    <tr>\n",
       "      <th>2001-01-01 01:00:00</th>\n",
       "      <td>18</td>\n",
       "    </tr>\n",
       "    <tr>\n",
       "      <th>2001-01-01 02:00:00</th>\n",
       "      <td>17</td>\n",
       "    </tr>\n",
       "    <tr>\n",
       "      <th>2001-01-01 03:00:00</th>\n",
       "      <td>20</td>\n",
       "    </tr>\n",
       "    <tr>\n",
       "      <th>2001-01-01 04:00:00</th>\n",
       "      <td>21</td>\n",
       "    </tr>\n",
       "  </tbody>\n",
       "</table>\n",
       "</div>"
      ],
      "text/plain": [
       "                     Temperature\n",
       "2001-01-01 00:00:00           18\n",
       "2001-01-01 01:00:00           18\n",
       "2001-01-01 02:00:00           17\n",
       "2001-01-01 03:00:00           20\n",
       "2001-01-01 04:00:00           21"
      ]
     },
     "execution_count": 44,
     "metadata": {},
     "output_type": "execute_result"
    }
   ],
   "source": [
    "temps.head()"
   ]
  },
  {
   "cell_type": "code",
   "execution_count": 45,
   "metadata": {
    "execution": {
     "iopub.execute_input": "2020-11-15T04:11:05.633019Z",
     "iopub.status.busy": "2020-11-15T04:11:05.633019Z",
     "iopub.status.idle": "2020-11-15T04:11:05.688015Z",
     "shell.execute_reply": "2020-11-15T04:11:05.687017Z",
     "shell.execute_reply.started": "2020-11-15T04:11:05.633019Z"
    },
    "slideshow": null
   },
   "outputs": [
    {
     "data": {
      "text/html": [
       "<div>\n",
       "<style scoped>\n",
       "    .dataframe tbody tr th:only-of-type {\n",
       "        vertical-align: middle;\n",
       "    }\n",
       "\n",
       "    .dataframe tbody tr th {\n",
       "        vertical-align: top;\n",
       "    }\n",
       "\n",
       "    .dataframe thead th {\n",
       "        text-align: right;\n",
       "    }\n",
       "</style>\n",
       "<table border=\"1\" class=\"dataframe\">\n",
       "  <thead>\n",
       "    <tr style=\"text-align: right;\">\n",
       "      <th></th>\n",
       "      <th>Temperature</th>\n",
       "    </tr>\n",
       "  </thead>\n",
       "  <tbody>\n",
       "    <tr>\n",
       "      <th>2001-01-01 00:00:00</th>\n",
       "      <td>18</td>\n",
       "    </tr>\n",
       "    <tr>\n",
       "      <th>2001-01-01 01:00:00</th>\n",
       "      <td>18</td>\n",
       "    </tr>\n",
       "    <tr>\n",
       "      <th>2001-01-01 02:00:00</th>\n",
       "      <td>17</td>\n",
       "    </tr>\n",
       "    <tr>\n",
       "      <th>2001-01-01 03:00:00</th>\n",
       "      <td>20</td>\n",
       "    </tr>\n",
       "    <tr>\n",
       "      <th>2001-01-01 04:00:00</th>\n",
       "      <td>21</td>\n",
       "    </tr>\n",
       "  </tbody>\n",
       "</table>\n",
       "</div>"
      ],
      "text/plain": [
       "                     Temperature\n",
       "2001-01-01 00:00:00           18\n",
       "2001-01-01 01:00:00           18\n",
       "2001-01-01 02:00:00           17\n",
       "2001-01-01 03:00:00           20\n",
       "2001-01-01 04:00:00           21"
      ]
     },
     "execution_count": 45,
     "metadata": {},
     "output_type": "execute_result"
    }
   ],
   "source": [
    "temps = temps.asfreq('60Min', method='ffill')\n",
    "# print(temps[:3])\n",
    "\n",
    "temps.head()"
   ]
  },
  {
   "cell_type": "code",
   "execution_count": 46,
   "metadata": {
    "execution": {
     "iopub.execute_input": "2020-11-15T04:11:31.200081Z",
     "iopub.status.busy": "2020-11-15T04:11:31.199075Z",
     "iopub.status.idle": "2020-11-15T04:11:38.088872Z",
     "shell.execute_reply": "2020-11-15T04:11:38.087871Z",
     "shell.execute_reply.started": "2020-11-15T04:11:31.200081Z"
    },
    "slideshow": null
   },
   "outputs": [
    {
     "data": {
      "image/png": "[encoded data removed]",
      "text/plain": [
       "<Figure size 432x288 with 1 Axes>"
      ]
     },
     "metadata": {},
     "output_type": "display_data"
    }
   ],
   "source": [
    "# Let's plot a few years of data \n",
    "temps[:365*24*4].plot();"
   ]
  },
  {
   "cell_type": "markdown",
   "metadata": {
    "slideshow": null
   },
   "source": [
    "We can clearly see that there is seasonality in our temperature data. In order to model or remove these signals from our time series, we need to determine their amplitudes and frequencies. Since we are all familiar with daily and yearly temperature swings, we can probably guess what those frequencies are. However, there is a formal approach we can take to find these frequencies. "
   ]
  },
  {
   "cell_type": "markdown",
   "metadata": {
    "slideshow": null
   },
   "source": [
    "### Fourier Analysis\n"
   ]
  },
  {
   "cell_type": "markdown",
   "metadata": {
    "slideshow": null
   },
   "source": [
    "Any periodic signal can be represented as the sum of a number of sine waves with varying amplitude, phase, and frequency.  A time series can be converted into its frequency components with the mathematical tool known as the *Fourier transform*.  As we are dealing with sampled data, we must use the discrete version.  \n",
    "\n",
    "For $N$ uniformly sampled data points $x_j$ ($j = 0$,...,$N-1$)\n",
    "\n",
    "$$ x_j = \\frac{1}{N} \\sum_{k=0}^{N-1} X_k e^{i2 \\pi jk/N} $$\n",
    "$$ X_k = \\sum_{j=0}^{N-1} x_j e^{-i2 \\pi jk/N} $$\n",
    "\n",
    "The common algorithm for computing discrete transforms is the *fast Fourier transform*, usually abbreviated *FFT*.\n",
    "\n",
    "The output of a FFT can be thought of as a representation of all the frequency components of your data. In some sense it is a histogram with each “frequency bin” corresponding to a particular frequency in your signal. Each frequency component has both an amplitude and phase, and is represented as a complex number. In the equations above, $X_k$ can be thought of as the \"amount\" of frequency $k$ in the signal $x$. Generally, we care only about the amplitude, given by the modulus of that complex term.  As we are dealing with discrete data, the signal is bounded, and interpretation of the axes requires some consideration.\n",
    "\n",
    "For our purposes, it's enough to know that any strong signals such as peaks in the frequency domain represent some periodic (sinusoidal) behavior in the time domain. You can then go through the process of determining the wavelength (periodicity) based on how the FFT was taken."
   ]
  },
  {
   "cell_type": "code",
   "execution_count": 47,
   "metadata": {
    "execution": {
     "iopub.execute_input": "2020-11-15T04:11:47.900087Z",
     "iopub.status.busy": "2020-11-15T04:11:47.900087Z",
     "iopub.status.idle": "2020-11-15T04:11:48.421101Z",
     "shell.execute_reply": "2020-11-15T04:11:48.420087Z",
     "shell.execute_reply.started": "2020-11-15T04:11:47.900087Z"
    }
   },
   "outputs": [
    {
     "data": {
      "text/plain": [
       "[<matplotlib.lines.Line2D at 0x1c24e747548>]"
      ]
     },
     "execution_count": 47,
     "metadata": {},
     "output_type": "execute_result"
    },
    {
     "data": {
      "image/png": "[encoded data removed]",
      "text/plain": [
       "<Figure size 432x288 with 1 Axes>"
      ]
     },
     "metadata": {},
     "output_type": "display_data"
    }
   ],
   "source": [
    "plt.plot(temps.Temperature)"
   ]
  },
  {
   "cell_type": "code",
   "execution_count": 48,
   "metadata": {
    "execution": {
     "iopub.execute_input": "2020-11-15T04:11:56.531241Z",
     "iopub.status.busy": "2020-11-15T04:11:56.531241Z",
     "iopub.status.idle": "2020-11-15T04:11:57.010237Z",
     "shell.execute_reply": "2020-11-15T04:11:57.009245Z",
     "shell.execute_reply.started": "2020-11-15T04:11:56.531241Z"
    }
   },
   "outputs": [
    {
     "data": {
      "text/plain": [
       "[<matplotlib.lines.Line2D at 0x1c24fe207c8>]"
      ]
     },
     "execution_count": 48,
     "metadata": {},
     "output_type": "execute_result"
    },
    {
     "data": {
      "image/png": "[encoded data removed]",
      "text/plain": [
       "<Figure size 432x288 with 1 Axes>"
      ]
     },
     "metadata": {},
     "output_type": "display_data"
    }
   ],
   "source": [
    "plt.plot(temps.Temperature - temps.Temperature.mean())"
   ]
  },
  {
   "cell_type": "code",
   "execution_count": 49,
   "metadata": {
    "execution": {
     "iopub.execute_input": "2020-11-15T04:12:08.345701Z",
     "iopub.status.busy": "2020-11-15T04:12:08.344704Z",
     "iopub.status.idle": "2020-11-15T04:12:08.855697Z",
     "shell.execute_reply": "2020-11-15T04:12:08.854697Z",
     "shell.execute_reply.started": "2020-11-15T04:12:08.345701Z"
    },
    "slideshow": null
   },
   "outputs": [
    {
     "data": {
      "image/png": "[encoded data removed]",
      "text/plain": [
       "<Figure size 432x288 with 1 Axes>"
      ]
     },
     "metadata": {},
     "output_type": "display_data"
    }
   ],
   "source": [
    "import scipy.fft\n",
    "\n",
    "fft = scipy.fft.fft((temps.Temperature - temps.Temperature.mean()).values)\n",
    "plt.plot(np.abs(fft))\n",
    "plt.title(\"FFT of temperature data\")\n",
    "plt.xlabel('# Cycles in full window of data (~13 years)');"
   ]
  },
  {
   "cell_type": "markdown",
   "metadata": {
    "slideshow": null
   },
   "source": [
    "Note that we subtract the mean before computing the FFT.  Otherwise, there would be a large zero-frequency component.\n",
    "\n",
    "The x-axis is showing frequency.  Low frequencies, corresponding to long times, are on the left; high frequencies and short times are on the right.  The lowest non-zero frequency measured has a single cycle over the full 13-year period, corresponding to a frequency of $1/13\\, y^{-1}$.  The highest frequency is that of the sampling, $1\\, h^{-1}$.\n",
    "\n",
    "The discrete Fourier transform of real data is symmetric about the center of its frequency range.  Due to the problem of *aliasing*, it cannot distinguish signals with a frequency above half its sampling frequency from those below.  This limiting frequency is called the **Nyquist frequency**, and the results of a FFT for frequencies above it should be ignored.\n",
    "\n",
    "More formally, the Nyquist frequency is the highest frequency that can be resolved given your sampling rate.\n",
    "\n",
    "$$ \\nu_N = \\frac{1}{2 \\Delta t} $$\n",
    "\n",
    "The following plot demonstrates that, with a sampling frequency of 1, it is impossible to distinguish between signals above and below the Nyquist frequency of 0.5."
   ]
  },
  {
   "cell_type": "code",
   "execution_count": 50,
   "metadata": {
    "execution": {
     "iopub.execute_input": "2020-11-15T04:12:43.304896Z",
     "iopub.status.busy": "2020-11-15T04:12:43.303896Z",
     "iopub.status.idle": "2020-11-15T04:12:44.109898Z",
     "shell.execute_reply": "2020-11-15T04:12:44.108901Z",
     "shell.execute_reply.started": "2020-11-15T04:12:43.304896Z"
    },
    "slideshow": null
   },
   "outputs": [
    {
     "data": {
      "application/vnd.jupyter.widget-view+json": {
       "model_id": "e5daf1fd05fb4d28bb74a19d61461ee8",
       "version_major": 2,
       "version_minor": 0
      },
      "text/plain": [
       "interactive(children=(FloatSlider(value=0.2, description='f', max=0.5, step=0.05), Output()), _dom_classes=('w…"
      ]
     },
     "metadata": {},
     "output_type": "display_data"
    }
   ],
   "source": [
    "def plot_alias(f=0.2):\n",
    "    t = np.linspace(0, 10, 1000)\n",
    "    ts = np.arange(0, 11)\n",
    "    plt.plot(t, np.sin(2*np.pi * f * t), label='f = %0.2f' % f)\n",
    "    plt.plot(t, -np.sin(2*np.pi * (1 - f) * t), label='f = %0.2f' % (1 - f))\n",
    "    ml, sl, bl = plt.stem(ts, np.sin(2*np.pi * f * ts), label='Sampled signal', use_line_collection=True)\n",
    "    plt.setp(ml, 'markerfacecolor', 'r')\n",
    "    plt.setp(sl, 'color', 'r')\n",
    "    plt.setp(bl, visible=False)\n",
    "    plt.xticks(ts)\n",
    "    plt.ylim(-2,2)\n",
    "    plt.legend()\n",
    "\n",
    "interact(plot_alias, f=(0,0.5,0.05));"
   ]
  },
  {
   "cell_type": "code",
   "execution_count": 51,
   "metadata": {
    "execution": {
     "iopub.execute_input": "2020-11-15T04:13:00.035899Z",
     "iopub.status.busy": "2020-11-15T04:13:00.035899Z",
     "iopub.status.idle": "2020-11-15T04:13:02.531894Z",
     "shell.execute_reply": "2020-11-15T04:13:02.530894Z",
     "shell.execute_reply.started": "2020-11-15T04:13:00.035899Z"
    },
    "slideshow": null
   },
   "outputs": [
    {
     "data": {
      "image/png": "[encoded data removed]",
      "text/plain": [
       "<Figure size 432x288 with 1 Axes>"
      ]
     },
     "metadata": {},
     "output_type": "display_data"
    }
   ],
   "source": [
    "plt.plot(1./13 * np.arange(len(fft)), np.abs(fft))\n",
    "plt.title(\"FFT of temperature data (Low Frequencies zoom)\")\n",
    "plt.xlim([0,5])\n",
    "plt.xlabel('Frequency ($y^{-1}$)');"
   ]
  },
  {
   "cell_type": "markdown",
   "metadata": {
    "slideshow": null
   },
   "source": [
    "**Question:** Is the above showing the yearly or daily seasonality?"
   ]
  },
  {
   "cell_type": "code",
   "execution_count": 52,
   "metadata": {
    "execution": {
     "iopub.execute_input": "2020-11-15T04:13:06.314903Z",
     "iopub.status.busy": "2020-11-15T04:13:06.313900Z",
     "iopub.status.idle": "2020-11-15T04:13:06.922900Z",
     "shell.execute_reply": "2020-11-15T04:13:06.921896Z",
     "shell.execute_reply.started": "2020-11-15T04:13:06.314903Z"
    },
    "slideshow": null
   },
   "outputs": [
    {
     "data": {
      "image/png": "[encoded data removed]",
      "text/plain": [
       "<Figure size 432x288 with 1 Axes>"
      ]
     },
     "metadata": {},
     "output_type": "display_data"
    }
   ],
   "source": [
    "daily_cycles_in_13_years = 13*365\n",
    "\n",
    "plt.plot(1./13 * np.arange(len(fft)), np.abs(fft))\n",
    "plt.title(\"FFT of temperature data (High Frequencies zoom)\")\n",
    "plt.ylim([0,400000])\n",
    "plt.xlim([365 - 30, 365 + 30])\n",
    "plt.xlabel('Frequency ($y^{-1}$)');"
   ]
  },
  {
   "cell_type": "markdown",
   "metadata": {
    "slideshow": null
   },
   "source": [
    "**Question:** What do you expect the FFT of the oil data to look like?"
   ]
  },
  {
   "cell_type": "code",
   "execution_count": 53,
   "metadata": {
    "execution": {
     "iopub.execute_input": "2020-11-15T04:13:10.150901Z",
     "iopub.status.busy": "2020-11-15T04:13:10.150901Z",
     "iopub.status.idle": "2020-11-15T04:13:10.695898Z",
     "shell.execute_reply": "2020-11-15T04:13:10.694895Z",
     "shell.execute_reply.started": "2020-11-15T04:13:10.150901Z"
    },
    "slideshow": null
   },
   "outputs": [
    {
     "data": {
      "image/png": "[encoded data removed]",
      "text/plain": [
       "<Figure size 432x288 with 1 Axes>"
      ]
     },
     "metadata": {},
     "output_type": "display_data"
    }
   ],
   "source": [
    "fft = scipy.fft.fft(oil['Log_Error_Exponential'][(oil.index.year > 1992) & (oil.index.year < 2010)].values)\n",
    "plt.plot(np.abs(fft))\n",
    "plt.ylim([0, 700])\n",
    "plt.xlim([0, 400])\n",
    "plt.title('FFT of Log Error in Oil Prices')\n",
    "plt.xlabel('# Cycles in window of data (~17 years)');"
   ]
  },
  {
   "cell_type": "markdown",
   "metadata": {
    "slideshow": null
   },
   "source": [
    "There are two ways to handle seasonality.  Seasonality features are nice because they are good at projecting arbitrarily far into the future.\n",
    "\n",
    "1. The simplest (and perhaps most robust) is to have a set of indicator variables for each month.\n",
    "\n",
    "  **Question**: Should month be a continuous or categorical variable?\n",
    "\n",
    "1. Since we know that temperature is roughly sinusoidal, we know that a reasonable model might be\n",
    "$$ y_t = k \\sin\\left( \\frac{t - t_0}{T} \\right) + \\epsilon$$\n",
    "where $k$ and $t_0$ are parameters to be learned and $T$ is one year for seasonal variation.  While this is linear in $k$, it is not linear in $t_0$.  However, we know from Fourier analysis, that the above is equivalent to \n",
    "$$ y_t = A \\sin\\left( \\frac{t}{T} \\right) + B \\cos\\left( \\frac{t}{T} \\right) + \\epsilon$$\n",
    "which is linear in $A$ and $B$.  This can be solved using a linear regression.\n",
    "\n",
    "**Question:** Does it always make sense to combine seasonal frequencies additively? When would it not?"
   ]
  },
  {
   "cell_type": "markdown",
   "metadata": {
    "slideshow": null
   },
   "source": [
    "### Example: Temperature data\n",
    "\n",
    "Suppose we want to predict the temperature 24 hours from now.  How will we do this?  We model the seasonality of the data as mentioned above.  Let's use yearly frequencies, biannual frequencies, and daily frequencies in the model we build.  "
   ]
  },
  {
   "cell_type": "code",
   "execution_count": 54,
   "metadata": {
    "execution": {
     "iopub.execute_input": "2020-11-15T04:13:18.013901Z",
     "iopub.status.busy": "2020-11-15T04:13:18.012900Z",
     "iopub.status.idle": "2020-11-15T04:13:18.217900Z",
     "shell.execute_reply": "2020-11-15T04:13:18.213899Z",
     "shell.execute_reply.started": "2020-11-15T04:13:18.013901Z"
    },
    "slideshow": null
   },
   "outputs": [],
   "source": [
    "temps['Julian'] = temps.index.to_julian_date()\n",
    "temps['const'] = 1\n",
    "temps['sin(year)'] = np.sin(temps['Julian'] / 365.25 * 2 * np.pi)\n",
    "temps['cos(year)'] = np.cos(temps['Julian'] / 365.25 * 2 * np.pi)\n",
    "temps['sin(6mo)'] = np.sin(temps['Julian'] / (365.25 / 2) * 2 * np.pi)\n",
    "temps['cos(6mo)'] = np.cos(temps['Julian'] / (365.25 / 2) * 2 * np.pi)\n",
    "temps['sin(day)'] = np.sin(temps.index.hour / 24.0 * 2* np.pi)\n",
    "temps['cos(day)'] = np.cos(temps.index.hour / 24.0 * 2* np.pi)"
   ]
  },
  {
   "cell_type": "code",
   "execution_count": 56,
   "metadata": {
    "execution": {
     "iopub.execute_input": "2020-11-15T04:13:31.716740Z",
     "iopub.status.busy": "2020-11-15T04:13:31.715738Z",
     "iopub.status.idle": "2020-11-15T04:13:31.745738Z",
     "shell.execute_reply": "2020-11-15T04:13:31.744734Z",
     "shell.execute_reply.started": "2020-11-15T04:13:31.716740Z"
    }
   },
   "outputs": [
    {
     "data": {
      "text/html": [
       "<div>\n",
       "<style scoped>\n",
       "    .dataframe tbody tr th:only-of-type {\n",
       "        vertical-align: middle;\n",
       "    }\n",
       "\n",
       "    .dataframe tbody tr th {\n",
       "        vertical-align: top;\n",
       "    }\n",
       "\n",
       "    .dataframe thead th {\n",
       "        text-align: right;\n",
       "    }\n",
       "</style>\n",
       "<table border=\"1\" class=\"dataframe\">\n",
       "  <thead>\n",
       "    <tr style=\"text-align: right;\">\n",
       "      <th></th>\n",
       "      <th>Temperature</th>\n",
       "      <th>Julian</th>\n",
       "      <th>const</th>\n",
       "      <th>sin(year)</th>\n",
       "      <th>cos(year)</th>\n",
       "      <th>sin(6mo)</th>\n",
       "      <th>cos(6mo)</th>\n",
       "      <th>sin(day)</th>\n",
       "      <th>cos(day)</th>\n",
       "    </tr>\n",
       "  </thead>\n",
       "  <tbody>\n",
       "    <tr>\n",
       "      <th>2001-01-01 00:00:00</th>\n",
       "      <td>18</td>\n",
       "      <td>2.451910e+06</td>\n",
       "      <td>1</td>\n",
       "      <td>-0.217577</td>\n",
       "      <td>0.976043</td>\n",
       "      <td>-0.424728</td>\n",
       "      <td>0.905321</td>\n",
       "      <td>0.000000</td>\n",
       "      <td>1.000000</td>\n",
       "    </tr>\n",
       "    <tr>\n",
       "      <th>2001-01-01 01:00:00</th>\n",
       "      <td>18</td>\n",
       "      <td>2.451911e+06</td>\n",
       "      <td>1</td>\n",
       "      <td>-0.216877</td>\n",
       "      <td>0.976199</td>\n",
       "      <td>-0.423430</td>\n",
       "      <td>0.905929</td>\n",
       "      <td>0.258819</td>\n",
       "      <td>0.965926</td>\n",
       "    </tr>\n",
       "    <tr>\n",
       "      <th>2001-01-01 02:00:00</th>\n",
       "      <td>17</td>\n",
       "      <td>2.451911e+06</td>\n",
       "      <td>1</td>\n",
       "      <td>-0.216177</td>\n",
       "      <td>0.976354</td>\n",
       "      <td>-0.422131</td>\n",
       "      <td>0.906535</td>\n",
       "      <td>0.500000</td>\n",
       "      <td>0.866025</td>\n",
       "    </tr>\n",
       "    <tr>\n",
       "      <th>2001-01-01 03:00:00</th>\n",
       "      <td>20</td>\n",
       "      <td>2.451911e+06</td>\n",
       "      <td>1</td>\n",
       "      <td>-0.215477</td>\n",
       "      <td>0.976509</td>\n",
       "      <td>-0.420831</td>\n",
       "      <td>0.907139</td>\n",
       "      <td>0.707107</td>\n",
       "      <td>0.707107</td>\n",
       "    </tr>\n",
       "    <tr>\n",
       "      <th>2001-01-01 04:00:00</th>\n",
       "      <td>21</td>\n",
       "      <td>2.451911e+06</td>\n",
       "      <td>1</td>\n",
       "      <td>-0.214777</td>\n",
       "      <td>0.976663</td>\n",
       "      <td>-0.419530</td>\n",
       "      <td>0.907741</td>\n",
       "      <td>0.866025</td>\n",
       "      <td>0.500000</td>\n",
       "    </tr>\n",
       "  </tbody>\n",
       "</table>\n",
       "</div>"
      ],
      "text/plain": [
       "                     Temperature        Julian  const  sin(year)  cos(year)  \\\n",
       "2001-01-01 00:00:00           18  2.451910e+06      1  -0.217577   0.976043   \n",
       "2001-01-01 01:00:00           18  2.451911e+06      1  -0.216877   0.976199   \n",
       "2001-01-01 02:00:00           17  2.451911e+06      1  -0.216177   0.976354   \n",
       "2001-01-01 03:00:00           20  2.451911e+06      1  -0.215477   0.976509   \n",
       "2001-01-01 04:00:00           21  2.451911e+06      1  -0.214777   0.976663   \n",
       "\n",
       "                     sin(6mo)  cos(6mo)  sin(day)  cos(day)  \n",
       "2001-01-01 00:00:00 -0.424728  0.905321  0.000000  1.000000  \n",
       "2001-01-01 01:00:00 -0.423430  0.905929  0.258819  0.965926  \n",
       "2001-01-01 02:00:00 -0.422131  0.906535  0.500000  0.866025  \n",
       "2001-01-01 03:00:00 -0.420831  0.907139  0.707107  0.707107  \n",
       "2001-01-01 04:00:00 -0.419530  0.907741  0.866025  0.500000  "
      ]
     },
     "execution_count": 56,
     "metadata": {},
     "output_type": "execute_result"
    }
   ],
   "source": [
    "temps.head()"
   ]
  },
  {
   "cell_type": "code",
   "execution_count": 57,
   "metadata": {
    "execution": {
     "iopub.execute_input": "2020-11-15T04:13:40.876736Z",
     "iopub.status.busy": "2020-11-15T04:13:40.875737Z",
     "iopub.status.idle": "2020-11-15T04:13:40.895735Z",
     "shell.execute_reply": "2020-11-15T04:13:40.894734Z",
     "shell.execute_reply.started": "2020-11-15T04:13:40.876736Z"
    },
    "slideshow": null
   },
   "outputs": [
    {
     "data": {
      "text/plain": [
       "2001-01-01 00:00:00    18\n",
       "2001-01-01 01:00:00    18\n",
       "2001-01-01 02:00:00    17\n",
       "2001-01-01 03:00:00    20\n",
       "2001-01-01 04:00:00    21\n",
       "Freq: 60T, Name: Temperature, dtype: int64"
      ]
     },
     "execution_count": 57,
     "metadata": {},
     "output_type": "execute_result"
    }
   ],
   "source": [
    "temps['Temperature'].head()"
   ]
  },
  {
   "cell_type": "code",
   "execution_count": 58,
   "metadata": {
    "execution": {
     "iopub.execute_input": "2020-11-15T04:13:41.754736Z",
     "iopub.status.busy": "2020-11-15T04:13:41.753738Z",
     "iopub.status.idle": "2020-11-15T04:13:41.779735Z",
     "shell.execute_reply": "2020-11-15T04:13:41.778739Z",
     "shell.execute_reply.started": "2020-11-15T04:13:41.754736Z"
    },
    "slideshow": null
   },
   "outputs": [
    {
     "data": {
      "text/plain": [
       "2001-01-01 00:00:00    18.0\n",
       "2001-01-01 01:00:00    17.0\n",
       "2001-01-01 02:00:00    20.0\n",
       "2001-01-01 03:00:00    21.0\n",
       "2001-01-01 04:00:00    21.0\n",
       "Freq: 60T, Name: Temperature, dtype: float64"
      ]
     },
     "execution_count": 58,
     "metadata": {},
     "output_type": "execute_result"
    }
   ],
   "source": [
    "temps['Temperature'].shift(-1).head()"
   ]
  },
  {
   "cell_type": "code",
   "execution_count": 59,
   "metadata": {
    "execution": {
     "iopub.execute_input": "2020-11-15T04:13:54.887984Z",
     "iopub.status.busy": "2020-11-15T04:13:54.887984Z",
     "iopub.status.idle": "2020-11-15T04:13:54.928981Z",
     "shell.execute_reply": "2020-11-15T04:13:54.927979Z",
     "shell.execute_reply.started": "2020-11-15T04:13:54.887984Z"
    },
    "slideshow": null
   },
   "outputs": [
    {
     "data": {
      "text/html": [
       "<div>\n",
       "<style scoped>\n",
       "    .dataframe tbody tr th:only-of-type {\n",
       "        vertical-align: middle;\n",
       "    }\n",
       "\n",
       "    .dataframe tbody tr th {\n",
       "        vertical-align: top;\n",
       "    }\n",
       "\n",
       "    .dataframe thead th {\n",
       "        text-align: right;\n",
       "    }\n",
       "</style>\n",
       "<table border=\"1\" class=\"dataframe\">\n",
       "  <thead>\n",
       "    <tr style=\"text-align: right;\">\n",
       "      <th></th>\n",
       "      <th>Temperature</th>\n",
       "      <th>Julian</th>\n",
       "      <th>const</th>\n",
       "      <th>sin(year)</th>\n",
       "      <th>cos(year)</th>\n",
       "      <th>sin(6mo)</th>\n",
       "      <th>cos(6mo)</th>\n",
       "      <th>sin(day)</th>\n",
       "      <th>cos(day)</th>\n",
       "      <th>Goal</th>\n",
       "    </tr>\n",
       "  </thead>\n",
       "  <tbody>\n",
       "    <tr>\n",
       "      <th>2001-01-01 00:00:00</th>\n",
       "      <td>18</td>\n",
       "      <td>2.451910e+06</td>\n",
       "      <td>1</td>\n",
       "      <td>-0.217577</td>\n",
       "      <td>0.976043</td>\n",
       "      <td>-0.424728</td>\n",
       "      <td>0.905321</td>\n",
       "      <td>0.000000</td>\n",
       "      <td>1.000000</td>\n",
       "      <td>20.0</td>\n",
       "    </tr>\n",
       "    <tr>\n",
       "      <th>2001-01-01 01:00:00</th>\n",
       "      <td>18</td>\n",
       "      <td>2.451911e+06</td>\n",
       "      <td>1</td>\n",
       "      <td>-0.216877</td>\n",
       "      <td>0.976199</td>\n",
       "      <td>-0.423430</td>\n",
       "      <td>0.905929</td>\n",
       "      <td>0.258819</td>\n",
       "      <td>0.965926</td>\n",
       "      <td>20.0</td>\n",
       "    </tr>\n",
       "    <tr>\n",
       "      <th>2001-01-01 02:00:00</th>\n",
       "      <td>17</td>\n",
       "      <td>2.451911e+06</td>\n",
       "      <td>1</td>\n",
       "      <td>-0.216177</td>\n",
       "      <td>0.976354</td>\n",
       "      <td>-0.422131</td>\n",
       "      <td>0.906535</td>\n",
       "      <td>0.500000</td>\n",
       "      <td>0.866025</td>\n",
       "      <td>18.0</td>\n",
       "    </tr>\n",
       "    <tr>\n",
       "      <th>2001-01-01 03:00:00</th>\n",
       "      <td>20</td>\n",
       "      <td>2.451911e+06</td>\n",
       "      <td>1</td>\n",
       "      <td>-0.215477</td>\n",
       "      <td>0.976509</td>\n",
       "      <td>-0.420831</td>\n",
       "      <td>0.907139</td>\n",
       "      <td>0.707107</td>\n",
       "      <td>0.707107</td>\n",
       "      <td>18.0</td>\n",
       "    </tr>\n",
       "    <tr>\n",
       "      <th>2001-01-01 04:00:00</th>\n",
       "      <td>21</td>\n",
       "      <td>2.451911e+06</td>\n",
       "      <td>1</td>\n",
       "      <td>-0.214777</td>\n",
       "      <td>0.976663</td>\n",
       "      <td>-0.419530</td>\n",
       "      <td>0.907741</td>\n",
       "      <td>0.866025</td>\n",
       "      <td>0.500000</td>\n",
       "      <td>17.0</td>\n",
       "    </tr>\n",
       "  </tbody>\n",
       "</table>\n",
       "</div>"
      ],
      "text/plain": [
       "                     Temperature        Julian  const  sin(year)  cos(year)  \\\n",
       "2001-01-01 00:00:00           18  2.451910e+06      1  -0.217577   0.976043   \n",
       "2001-01-01 01:00:00           18  2.451911e+06      1  -0.216877   0.976199   \n",
       "2001-01-01 02:00:00           17  2.451911e+06      1  -0.216177   0.976354   \n",
       "2001-01-01 03:00:00           20  2.451911e+06      1  -0.215477   0.976509   \n",
       "2001-01-01 04:00:00           21  2.451911e+06      1  -0.214777   0.976663   \n",
       "\n",
       "                     sin(6mo)  cos(6mo)  sin(day)  cos(day)  Goal  \n",
       "2001-01-01 00:00:00 -0.424728  0.905321  0.000000  1.000000  20.0  \n",
       "2001-01-01 01:00:00 -0.423430  0.905929  0.258819  0.965926  20.0  \n",
       "2001-01-01 02:00:00 -0.422131  0.906535  0.500000  0.866025  18.0  \n",
       "2001-01-01 03:00:00 -0.420831  0.907139  0.707107  0.707107  18.0  \n",
       "2001-01-01 04:00:00 -0.419530  0.907741  0.866025  0.500000  17.0  "
      ]
     },
     "execution_count": 59,
     "metadata": {},
     "output_type": "execute_result"
    }
   ],
   "source": [
    "# Notice that the goal (what we want to predict) is our temperature variable shifted by the desired period of time.\n",
    "temps['Goal'] = temps['Temperature'].shift(-24)\n",
    "\n",
    "temps.head()"
   ]
  },
  {
   "cell_type": "code",
   "execution_count": 60,
   "metadata": {
    "execution": {
     "iopub.execute_input": "2020-11-15T04:14:15.660996Z",
     "iopub.status.busy": "2020-11-15T04:14:15.660996Z",
     "iopub.status.idle": "2020-11-15T04:14:15.883995Z",
     "shell.execute_reply": "2020-11-15T04:14:15.881993Z",
     "shell.execute_reply.started": "2020-11-15T04:14:15.660996Z"
    },
    "slideshow": null
   },
   "outputs": [
    {
     "data": {
      "text/plain": [
       "LinearRegression()"
      ]
     },
     "execution_count": 60,
     "metadata": {},
     "output_type": "execute_result"
    }
   ],
   "source": [
    "cut_year = 2012\n",
    "\n",
    "train = temps[temps.index.year < cut_year].dropna(how='any')\n",
    "test  = temps[temps.index.year >= cut_year].dropna(how='any')\n",
    "\n",
    "regress = sklearn.linear_model.LinearRegression().fit( \n",
    "        X=train[['Temperature', 'sin(year)', 'cos(year)', 'sin(6mo)', 'cos(6mo)', 'sin(day)', 'cos(day)']], \n",
    "        y=train['Goal'])\n",
    "\n",
    "regress"
   ]
  },
  {
   "cell_type": "code",
   "execution_count": 61,
   "metadata": {
    "execution": {
     "iopub.execute_input": "2020-11-15T04:14:24.743999Z",
     "iopub.status.busy": "2020-11-15T04:14:24.743999Z",
     "iopub.status.idle": "2020-11-15T04:14:29.560995Z",
     "shell.execute_reply": "2020-11-15T04:14:29.558997Z",
     "shell.execute_reply.started": "2020-11-15T04:14:24.743999Z"
    },
    "slideshow": null
   },
   "outputs": [
    {
     "name": "stdout",
     "output_type": "stream",
     "text": [
      "60.461166926486975\n"
     ]
    },
    {
     "data": {
      "image/png": "[encoded data removed]",
      "text/plain": [
       "<Figure size 432x288 with 1 Axes>"
      ]
     },
     "metadata": {},
     "output_type": "display_data"
    }
   ],
   "source": [
    "test['Predicted_Value'] = regress.predict(X=test[['Temperature', 'sin(year)', 'cos(year)', 'sin(6mo)', 'cos(6mo)', 'sin(day)', 'cos(day)']] )\n",
    "\n",
    "(test['Goal'] - test['Predicted_Value']).plot()\n",
    "print(sklearn.metrics.mean_squared_error(test['Goal'], test['Predicted_Value']))"
   ]
  },
  {
   "cell_type": "markdown",
   "metadata": {
    "slideshow": null
   },
   "source": [
    "To remove these frequencies, you can apply a filter to your time series. Filters are discussed in further detail in the digital signals notebook. You can also check out [this](http://stackoverflow.com/questions/39799821/how-to-remove-frequency-from-signal) stack overflow post. "
   ]
  },
  {
   "cell_type": "markdown",
   "metadata": {
    "slideshow": null
   },
   "source": [
    "## Modeling \"noise\"\n"
   ]
  },
  {
   "cell_type": "markdown",
   "metadata": {
    "slideshow": null
   },
   "source": [
    "We can improve our temperature predictions by modeling the noise. In this context, the noise is caused by weather patterns that are superimposed on the background climatology. If you are trying to predict the temperature a few hours into the future (what is known as *nowcasting*), you can imagine that the weather from two months ago is not as good of an indicator as the weather from three hours ago. How far back in your time series should you look? You can autocorrelate your time series (with drift and seasonality removed) to find out."
   ]
  },
  {
   "cell_type": "markdown",
   "metadata": {
    "slideshow": null
   },
   "source": [
    "### Autocorrelation\n"
   ]
  },
  {
   "cell_type": "markdown",
   "metadata": {
    "slideshow": null
   },
   "source": [
    "Let's review some definitions from statistics:\n",
    "\n",
    "* **Covariance** ($s_{xy}$)\n",
    "\n",
    "$$ \\mbox{Cov}(X,Y) = E[(X - E(X))(Y - E(Y))] = \\frac{1}{N-1} \\sum_{i=1}^N (x_i - \\bar{x})(y_i - \\bar{y}) $$\n",
    "\n",
    "* **Variance** ($s_x^2$) is equal to $\\mbox{Cov}(X,X)$.\n",
    "\n",
    "$$ \\mbox{Var}(X) = E[(X - E(X))^2] = \\frac{1}{N-1} \\sum_{i=1}^N (x_i - \\bar{x})^2 $$\n",
    "\n",
    "* **Standard Deviation** ($s_x$) is the square root of the variance. \n",
    "* **Correlation** ($\\rho$)\n",
    "\n",
    "$$ \\mbox{Cor}(X,Y) = \\frac{s_{xy}}{s_x s_y} $$\n",
    "\n",
    "If we replace time series Y with a lagged version of X, we can compute the autocovariance and autocorrelation of X at that given lag, $k$. \n",
    "\n",
    "* **Autocovariance**\n",
    "\n",
    "$$ \\gamma_k = \\mbox{Cov}(X_t, X_{t+k}) $$\n",
    "\n",
    "* **Autocorrelation**\n",
    "\n",
    "$$ \\rho_k = \\frac{\\gamma_k}{\\gamma_0} = \\frac{\\gamma_k}{s_x^2}$$\n",
    "\n",
    "**Question**: The definitions above apply to data sampled from some parent population. How do the equations change if you consider the entire population?\n",
    "\n",
    "It is useful to plot the autocorrelation for different values of $k$. Pandas includes a function which will create an autocorrelation plot for any data series.  It includes lines showing the 95% (solid) and 99% (dashed) confidence levels of the zero-correlation hypothesis. Let's look at this plot for the oil data."
   ]
  },
  {
   "cell_type": "code",
   "execution_count": 62,
   "metadata": {
    "execution": {
     "iopub.execute_input": "2020-11-15T04:14:37.838313Z",
     "iopub.status.busy": "2020-11-15T04:14:37.837316Z",
     "iopub.status.idle": "2020-11-15T04:14:38.542304Z",
     "shell.execute_reply": "2020-11-15T04:14:38.541319Z",
     "shell.execute_reply.started": "2020-11-15T04:14:37.838313Z"
    },
    "slideshow": null
   },
   "outputs": [
    {
     "data": {
      "image/png": "[encoded data removed]",
      "text/plain": [
       "<Figure size 432x288 with 1 Axes>"
      ]
     },
     "metadata": {},
     "output_type": "display_data"
    }
   ],
   "source": [
    "from pandas.plotting import autocorrelation_plot\n",
    "\n",
    "autocorrelation_plot(oil['Log_Error_Exponential'])\n",
    "plt.xlabel('Lag (days)')\n",
    "plt.axvline(365, color = 'green');"
   ]
  },
  {
   "cell_type": "markdown",
   "metadata": {
    "slideshow": null
   },
   "source": [
    "Notice that the autocorrelation is one at zero lag. This will be true for every time series. Why? Also notice that the autocorrelation drops to zero at around 1500 days. We have discovered that if we want to predict future oil values, we should only consider \"noise\" up until 1500 days prior. The time associated with this zero crossing is called the characteristic time scale.\n"
   ]
  },
  {
   "cell_type": "markdown",
   "metadata": {
    "slideshow": null
   },
   "source": [
    "#### Seasonality\n"
   ]
  },
  {
   "cell_type": "markdown",
   "metadata": {
    "slideshow": null
   },
   "source": [
    "The autocorrelation can also reveal seasonality.  Here, the autocorrelation of the temperature data shows yearly peaks that indicate the yearly cycles."
   ]
  },
  {
   "cell_type": "code",
   "execution_count": 63,
   "metadata": {
    "execution": {
     "iopub.execute_input": "2020-11-15T04:14:44.654500Z",
     "iopub.status.busy": "2020-11-15T04:14:44.653499Z",
     "iopub.status.idle": "2020-11-15T04:14:48.712494Z",
     "shell.execute_reply": "2020-11-15T04:14:48.711494Z",
     "shell.execute_reply.started": "2020-11-15T04:14:44.654500Z"
    },
    "slideshow": null
   },
   "outputs": [
    {
     "data": {
      "image/png": "[encoded data removed]",
      "text/plain": [
       "<Figure size 432x288 with 1 Axes>"
      ]
     },
     "metadata": {},
     "output_type": "display_data"
    }
   ],
   "source": [
    "# Let's plot a few years of data\n",
    "f = plt.figure()\n",
    "ax = autocorrelation_plot(temps.Temperature[:365*24*4])\n",
    "plt.xlabel('Lag (hours)')\n",
    "plt.axvline(365*24, color = 'green');"
   ]
  },
  {
   "cell_type": "markdown",
   "metadata": {
    "slideshow": null
   },
   "source": [
    "If we zoom in to the short-time region, we can see several other patterns.  What is responsible for these?"
   ]
  },
  {
   "cell_type": "code",
   "execution_count": 64,
   "metadata": {
    "execution": {
     "iopub.execute_input": "2020-11-15T04:15:00.233160Z",
     "iopub.status.busy": "2020-11-15T04:15:00.233160Z",
     "iopub.status.idle": "2020-11-15T04:15:00.606159Z",
     "shell.execute_reply": "2020-11-15T04:15:00.604168Z",
     "shell.execute_reply.started": "2020-11-15T04:15:00.233160Z"
    },
    "slideshow": null
   },
   "outputs": [
    {
     "data": {
      "image/png": "[encoded data removed]",
      "text/plain": [
       "<Figure size 432x288 with 1 Axes>"
      ]
     },
     "execution_count": 64,
     "metadata": {},
     "output_type": "execute_result"
    }
   ],
   "source": [
    "ax.set_xlim(0, 24*7)\n",
    "f"
   ]
  },
  {
   "cell_type": "markdown",
   "metadata": {
    "slideshow": null
   },
   "source": [
    "While Fourier transforms are very good for detecting seasonality in truly periodic data, autocorrelations can be very helpful in detecting transient cyclic patterns, whose phase may not be consistent over time.\n"
   ]
  },
  {
   "cell_type": "markdown",
   "metadata": {
    "slideshow": null
   },
   "source": [
    "### Moving Average\n"
   ]
  },
  {
   "cell_type": "markdown",
   "metadata": {
    "slideshow": null
   },
   "source": [
    "Once we know how closely points in the time series are correlated with recent points, we can predict arbitrarily far into the future by substituting the moving average predictions in for values as necessary. For example, if we only knew the values up through time x, we would need to estimate Value[x + 1] before calculating Value[x + 2] = f(Value[x + 1], Value[x], Value[x - 1], ...).\n",
    "\n",
    "There are many types of [moving average](http://en.wikipedia.org/wiki/Moving_average). Simple variations on this include [exponential moving averages](https://en.wikipedia.org/wiki/Moving_average#Exponential_moving_average) and [rolling window averages](https://en.wikipedia.org/wiki/Moving_average#Cumulative_moving_average). While these features might give more accurate data, they are only useful for short-term projections (as compared to seasonality and longer-term trends). As you'll see, they're also quite good for smoothing purposes. We will be computing the exponentially weighted moving average here:\n",
    "\n",
    "$$E_t = \\alpha X_t + (1-\\alpha)E_{t-1} \\ \\ \\textrm{ where } 0 \\leq \\alpha \\leq 1.$$\n",
    "\n",
    "Note that as the smoothing factor $\\alpha$ increases, older observations are discounted faster. In Pandas, the `ewm()` method allows for specifying the decay as a function of $\\alpha$ in three ways:\n",
    "1. The center of mass (*com*), giving $\\alpha = \\frac{1}{1 + com}$\n",
    "2. The *span*, giving $\\alpha = \\frac{2}{1 + span}$\n",
    "3. The *halflife*, giving $\\alpha = 1 - \\exp({\\frac{\\log(0.5)}{\\textrm{halflife}}})$"
   ]
  },
  {
   "cell_type": "markdown",
   "metadata": {
    "slideshow": null
   },
   "source": [
    "### Example: Predicting Oil Prices\n"
   ]
  },
  {
   "cell_type": "markdown",
   "metadata": {
    "slideshow": null
   },
   "source": [
    "Let's pick up the oil price data using the residual after the exponential trend is removed. Since we know that something crazy happened in 2008 (financial meltdown) and something else crazy happened in 1992 (Iraq War), we'll restrict our analysis to between those two dates. We will attempt to build a model to predict oil prices 3 months in the future.  A column of oil prices shifted by in time by 3 months will serve as our labels for testing and training."
   ]
  },
  {
   "cell_type": "code",
   "execution_count": 65,
   "metadata": {
    "execution": {
     "iopub.execute_input": "2020-11-15T04:15:15.900053Z",
     "iopub.status.busy": "2020-11-15T04:15:15.900053Z",
     "iopub.status.idle": "2020-11-15T04:15:15.943045Z",
     "shell.execute_reply": "2020-11-15T04:15:15.941043Z",
     "shell.execute_reply.started": "2020-11-15T04:15:15.900053Z"
    },
    "slideshow": null
   },
   "outputs": [
    {
     "data": {
      "text/html": [
       "<div>\n",
       "<style scoped>\n",
       "    .dataframe tbody tr th:only-of-type {\n",
       "        vertical-align: middle;\n",
       "    }\n",
       "\n",
       "    .dataframe tbody tr th {\n",
       "        vertical-align: top;\n",
       "    }\n",
       "\n",
       "    .dataframe thead th {\n",
       "        text-align: right;\n",
       "    }\n",
       "</style>\n",
       "<table border=\"1\" class=\"dataframe\">\n",
       "  <thead>\n",
       "    <tr style=\"text-align: right;\">\n",
       "      <th></th>\n",
       "      <th>Value</th>\n",
       "      <th>Julian</th>\n",
       "      <th>const</th>\n",
       "      <th>Exponential_Model</th>\n",
       "      <th>Log_Error_Exponential</th>\n",
       "      <th>Actual</th>\n",
       "    </tr>\n",
       "    <tr>\n",
       "      <th>Date</th>\n",
       "      <th></th>\n",
       "      <th></th>\n",
       "      <th></th>\n",
       "      <th></th>\n",
       "      <th></th>\n",
       "      <th></th>\n",
       "    </tr>\n",
       "  </thead>\n",
       "  <tbody>\n",
       "    <tr>\n",
       "      <th>1986-01-02</th>\n",
       "      <td>25.56</td>\n",
       "      <td>2446432.5</td>\n",
       "      <td>1.0</td>\n",
       "      <td>14.660441</td>\n",
       "      <td>0.555876</td>\n",
       "      <td>10.25</td>\n",
       "    </tr>\n",
       "    <tr>\n",
       "      <th>1986-01-03</th>\n",
       "      <td>26.00</td>\n",
       "      <td>2446433.5</td>\n",
       "      <td>1.0</td>\n",
       "      <td>14.662491</td>\n",
       "      <td>0.572804</td>\n",
       "      <td>11.13</td>\n",
       "    </tr>\n",
       "    <tr>\n",
       "      <th>1986-01-06</th>\n",
       "      <td>26.53</td>\n",
       "      <td>2446436.5</td>\n",
       "      <td>1.0</td>\n",
       "      <td>14.668642</td>\n",
       "      <td>0.592564</td>\n",
       "      <td>11.35</td>\n",
       "    </tr>\n",
       "    <tr>\n",
       "      <th>1986-01-07</th>\n",
       "      <td>25.85</td>\n",
       "      <td>2446437.5</td>\n",
       "      <td>1.0</td>\n",
       "      <td>14.670693</td>\n",
       "      <td>0.566459</td>\n",
       "      <td>11.70</td>\n",
       "    </tr>\n",
       "    <tr>\n",
       "      <th>1986-01-08</th>\n",
       "      <td>25.87</td>\n",
       "      <td>2446438.5</td>\n",
       "      <td>1.0</td>\n",
       "      <td>14.672745</td>\n",
       "      <td>0.567092</td>\n",
       "      <td>12.75</td>\n",
       "    </tr>\n",
       "  </tbody>\n",
       "</table>\n",
       "</div>"
      ],
      "text/plain": [
       "            Value     Julian  const  Exponential_Model  Log_Error_Exponential  \\\n",
       "Date                                                                            \n",
       "1986-01-02  25.56  2446432.5    1.0          14.660441               0.555876   \n",
       "1986-01-03  26.00  2446433.5    1.0          14.662491               0.572804   \n",
       "1986-01-06  26.53  2446436.5    1.0          14.668642               0.592564   \n",
       "1986-01-07  25.85  2446437.5    1.0          14.670693               0.566459   \n",
       "1986-01-08  25.87  2446438.5    1.0          14.672745               0.567092   \n",
       "\n",
       "            Actual  \n",
       "Date                \n",
       "1986-01-02   10.25  \n",
       "1986-01-03   11.13  \n",
       "1986-01-06   11.35  \n",
       "1986-01-07   11.70  \n",
       "1986-01-08   12.75  "
      ]
     },
     "execution_count": 65,
     "metadata": {},
     "output_type": "execute_result"
    }
   ],
   "source": [
    "## Create a column with \"true\" (future) values\n",
    "PERIOD_MONTH = 20  #  prices are only recorded on \"business days\"\n",
    "PREDICTION_LAG = 3 * PERIOD_MONTH\n",
    "\n",
    "CUT_YEAR = 2008\n",
    "\n",
    "# Notice that the goal (what we want to predict) is the oil price shifted by the desired period of time.\n",
    "oil['Actual'] = oil['Value'].shift(-PREDICTION_LAG)\n",
    "\n",
    "oil.head()"
   ]
  },
  {
   "cell_type": "code",
   "execution_count": 66,
   "metadata": {
    "execution": {
     "iopub.execute_input": "2020-11-15T04:15:20.030302Z",
     "iopub.status.busy": "2020-11-15T04:15:20.030302Z",
     "iopub.status.idle": "2020-11-15T04:15:20.051301Z",
     "shell.execute_reply": "2020-11-15T04:15:20.049300Z",
     "shell.execute_reply.started": "2020-11-15T04:15:20.030302Z"
    },
    "slideshow": null
   },
   "outputs": [
    {
     "data": {
      "text/plain": [
       "Date\n",
       "1986-01-02    25.56\n",
       "1986-01-03    26.00\n",
       "1986-01-06    26.53\n",
       "1986-01-07    25.85\n",
       "1986-01-08    25.87\n",
       "Name: Value, dtype: float64"
      ]
     },
     "execution_count": 66,
     "metadata": {},
     "output_type": "execute_result"
    }
   ],
   "source": [
    "oil['Value'].head()"
   ]
  },
  {
   "cell_type": "code",
   "execution_count": 67,
   "metadata": {
    "execution": {
     "iopub.execute_input": "2020-11-15T04:15:20.456302Z",
     "iopub.status.busy": "2020-11-15T04:15:20.455304Z",
     "iopub.status.idle": "2020-11-15T04:15:20.475301Z",
     "shell.execute_reply": "2020-11-15T04:15:20.474302Z",
     "shell.execute_reply.started": "2020-11-15T04:15:20.456302Z"
    },
    "slideshow": null
   },
   "outputs": [
    {
     "data": {
      "text/plain": [
       "Date\n",
       "1986-01-02    26.00\n",
       "1986-01-03    26.53\n",
       "1986-01-06    25.85\n",
       "1986-01-07    25.87\n",
       "1986-01-08    26.03\n",
       "Name: Value, dtype: float64"
      ]
     },
     "execution_count": 67,
     "metadata": {},
     "output_type": "execute_result"
    }
   ],
   "source": [
    "oil['Value'].shift(-1).head()"
   ]
  },
  {
   "cell_type": "markdown",
   "metadata": {
    "slideshow": null
   },
   "source": [
    "We build a model to predict the residuals of the exponential model three months out, from the last and current residuals, as well as 3-month rolling averages for the price and its derivative."
   ]
  },
  {
   "cell_type": "code",
   "execution_count": 68,
   "metadata": {
    "execution": {
     "iopub.execute_input": "2020-11-15T04:15:35.388219Z",
     "iopub.status.busy": "2020-11-15T04:15:35.387245Z",
     "iopub.status.idle": "2020-11-15T04:15:35.418214Z",
     "shell.execute_reply": "2020-11-15T04:15:35.416214Z",
     "shell.execute_reply.started": "2020-11-15T04:15:35.388219Z"
    },
    "slideshow": null
   },
   "outputs": [],
   "source": [
    "### Cross validation -- simple model\n",
    "\n",
    "#Train/Test\n",
    "train = oil[oil.index.year < CUT_YEAR]\n",
    "test = oil[oil.index.year >= CUT_YEAR]\n",
    "\n",
    "# Reporting function\n",
    "def summarize_errors(test_me):\n",
    "    error_pct = (test_me['Actual'] - test_me['Model']) / test_me['Actual']\n",
    "\n",
    "    print(error_pct.describe())\n",
    "    error_pct.plot()\n",
    "    plt.title('% error')\n",
    "    plt.show()\n",
    "\n",
    "    error_pct.hist(bins=100, density=True, label = 'Counts')\n",
    "    x = np.arange(-1, 1, 0.001)\n",
    "    plt.plot(x, sp.stats.norm(loc=error_pct.mean(),\n",
    "                              scale=error_pct.std()).pdf(x),\n",
    "                              linewidth=3, color='red', label='Normal Dist')\n",
    "    plt.title('Histogram of % errors')\n",
    "    plt.legend()\n",
    "    plt.show()\n",
    "\n",
    "    print(sklearn.metrics.mean_squared_error(test_me['Actual'], test_me['Model']))\n",
    "\n",
    "# Train the regression\n",
    "def frame_to_feats(frame):\n",
    "    feats = pd.DataFrame()\n",
    "    \n",
    "    feats['LEE'] = frame['Log_Error_Exponential']\n",
    "    feats['LEE_1'] = frame['Log_Error_Exponential'].shift(1)\n",
    "    feats['dLEE_avg'] = pd.Series.rolling(frame['Value'].diff(), window=3*PERIOD_MONTH).mean()\n",
    "    feats['vol_avg'] = pd.Series.ewm(frame['Value'], span=3*PERIOD_MONTH).var(bias=False)\n",
    "    \n",
    "    feats['Actual_LEE'] = frame['Log_Error_Exponential'].shift(-PREDICTION_LAG)\n",
    "    return add_constant(feats)"
   ]
  },
  {
   "cell_type": "code",
   "execution_count": 69,
   "metadata": {
    "execution": {
     "iopub.execute_input": "2020-11-15T04:15:56.795523Z",
     "iopub.status.busy": "2020-11-15T04:15:56.795523Z",
     "iopub.status.idle": "2020-11-15T04:15:56.905514Z",
     "shell.execute_reply": "2020-11-15T04:15:56.904512Z",
     "shell.execute_reply.started": "2020-11-15T04:15:56.795523Z"
    },
    "slideshow": null
   },
   "outputs": [
    {
     "data": {
      "text/plain": [
       "(                 LEE     LEE_1  dLEE_avg    vol_avg  Actual_LEE  const\n",
       " Date                                                                  \n",
       " 1986-03-31 -0.370179 -0.267680 -0.255167  14.707475   -0.071713    1.0\n",
       " 1986-04-01 -0.287952 -0.370179 -0.247833  14.679926   -0.126994    1.0\n",
       " 1986-04-02 -0.268518 -0.287952 -0.253000  14.557953   -0.133960    1.0\n",
       " 1986-04-03 -0.238287 -0.268518 -0.235833  14.330118   -0.115999    1.0\n",
       " 1986-04-04 -0.152485 -0.238287 -0.218667  13.912574   -0.160735    1.0\n",
       " ...              ...       ...       ...        ...         ...    ...\n",
       " 2007-09-28  0.607166  0.622139  0.163833  33.022778    0.735978    1.0\n",
       " 2007-10-01  0.590322  0.607166  0.125167  32.703464    0.755605    1.0\n",
       " 2007-10-02  0.586314  0.590322  0.131000  32.254389    0.763153    1.0\n",
       " 2007-10-03  0.585799  0.586314  0.119500  31.771646    0.756784    1.0\n",
       " 2007-10-04  0.604366  0.585799  0.148333  31.738875    0.755531    1.0\n",
       " \n",
       " [5431 rows x 6 columns],\n",
       " LinearRegression())"
      ]
     },
     "execution_count": 69,
     "metadata": {},
     "output_type": "execute_result"
    }
   ],
   "source": [
    "feats = frame_to_feats(train).dropna(how='any')\n",
    "X_train = feats.drop('Actual_LEE', axis=1).values\n",
    "y_train = feats['Actual_LEE'].values\n",
    "regress = sklearn.linear_model.LinearRegression().fit(X_train, y_train)\n",
    "\n",
    "feats, regress"
   ]
  },
  {
   "cell_type": "code",
   "execution_count": 70,
   "metadata": {
    "execution": {
     "iopub.execute_input": "2020-11-15T04:16:17.909021Z",
     "iopub.status.busy": "2020-11-15T04:16:17.908017Z",
     "iopub.status.idle": "2020-11-15T04:16:18.042019Z",
     "shell.execute_reply": "2020-11-15T04:16:18.041020Z",
     "shell.execute_reply.started": "2020-11-15T04:16:17.909021Z"
    },
    "slideshow": null
   },
   "outputs": [
    {
     "data": {
      "text/html": [
       "<div>\n",
       "<style scoped>\n",
       "    .dataframe tbody tr th:only-of-type {\n",
       "        vertical-align: middle;\n",
       "    }\n",
       "\n",
       "    .dataframe tbody tr th {\n",
       "        vertical-align: top;\n",
       "    }\n",
       "\n",
       "    .dataframe thead th {\n",
       "        text-align: right;\n",
       "    }\n",
       "</style>\n",
       "<table border=\"1\" class=\"dataframe\">\n",
       "  <thead>\n",
       "    <tr style=\"text-align: right;\">\n",
       "      <th></th>\n",
       "      <th>LEE</th>\n",
       "      <th>LEE_1</th>\n",
       "      <th>dLEE_avg</th>\n",
       "      <th>vol_avg</th>\n",
       "      <th>Actual_LEE</th>\n",
       "      <th>const</th>\n",
       "      <th>Predicted_LEE</th>\n",
       "    </tr>\n",
       "    <tr>\n",
       "      <th>Date</th>\n",
       "      <th></th>\n",
       "      <th></th>\n",
       "      <th></th>\n",
       "      <th></th>\n",
       "      <th></th>\n",
       "      <th></th>\n",
       "      <th></th>\n",
       "    </tr>\n",
       "  </thead>\n",
       "  <tbody>\n",
       "    <tr>\n",
       "      <th>2008-03-31</th>\n",
       "      <td>0.799434</td>\n",
       "      <td>0.838964</td>\n",
       "      <td>0.031667</td>\n",
       "      <td>42.795661</td>\n",
       "      <td>1.083348</td>\n",
       "      <td>1.0</td>\n",
       "      <td>0.738019</td>\n",
       "    </tr>\n",
       "    <tr>\n",
       "      <th>2008-04-01</th>\n",
       "      <td>0.793169</td>\n",
       "      <td>0.799434</td>\n",
       "      <td>0.029167</td>\n",
       "      <td>41.181751</td>\n",
       "      <td>1.064199</td>\n",
       "      <td>1.0</td>\n",
       "      <td>0.725674</td>\n",
       "    </tr>\n",
       "    <tr>\n",
       "      <th>2008-04-02</th>\n",
       "      <td>0.831041</td>\n",
       "      <td>0.793169</td>\n",
       "      <td>0.115500</td>\n",
       "      <td>40.230716</td>\n",
       "      <td>1.100643</td>\n",
       "      <td>1.0</td>\n",
       "      <td>0.747593</td>\n",
       "    </tr>\n",
       "    <tr>\n",
       "      <th>2008-04-03</th>\n",
       "      <td>0.822183</td>\n",
       "      <td>0.831041</td>\n",
       "      <td>0.147333</td>\n",
       "      <td>39.048825</td>\n",
       "      <td>1.106103</td>\n",
       "      <td>1.0</td>\n",
       "      <td>0.747044</td>\n",
       "    </tr>\n",
       "    <tr>\n",
       "      <th>2008-04-04</th>\n",
       "      <td>0.842709</td>\n",
       "      <td>0.822183</td>\n",
       "      <td>0.161000</td>\n",
       "      <td>38.515429</td>\n",
       "      <td>1.107614</td>\n",
       "      <td>1.0</td>\n",
       "      <td>0.759151</td>\n",
       "    </tr>\n",
       "    <tr>\n",
       "      <th>...</th>\n",
       "      <td>...</td>\n",
       "      <td>...</td>\n",
       "      <td>...</td>\n",
       "      <td>...</td>\n",
       "      <td>...</td>\n",
       "      <td>...</td>\n",
       "      <td>...</td>\n",
       "    </tr>\n",
       "    <tr>\n",
       "      <th>2020-08-12</th>\n",
       "      <td>-0.700714</td>\n",
       "      <td>-0.726013</td>\n",
       "      <td>0.171667</td>\n",
       "      <td>43.845206</td>\n",
       "      <td>-0.812238</td>\n",
       "      <td>1.0</td>\n",
       "      <td>-0.625218</td>\n",
       "    </tr>\n",
       "    <tr>\n",
       "      <th>2020-08-13</th>\n",
       "      <td>-0.708868</td>\n",
       "      <td>-0.700714</td>\n",
       "      <td>0.145000</td>\n",
       "      <td>42.829872</td>\n",
       "      <td>-0.854486</td>\n",
       "      <td>1.0</td>\n",
       "      <td>-0.625374</td>\n",
       "    </tr>\n",
       "    <tr>\n",
       "      <th>2020-08-14</th>\n",
       "      <td>-0.713989</td>\n",
       "      <td>-0.708868</td>\n",
       "      <td>0.129167</td>\n",
       "      <td>41.774616</td>\n",
       "      <td>-0.774884</td>\n",
       "      <td>1.0</td>\n",
       "      <td>-0.630230</td>\n",
       "    </tr>\n",
       "    <tr>\n",
       "      <th>2020-08-17</th>\n",
       "      <td>-0.694629</td>\n",
       "      <td>-0.713989</td>\n",
       "      <td>0.156667</td>\n",
       "      <td>40.926591</td>\n",
       "      <td>-0.747199</td>\n",
       "      <td>1.0</td>\n",
       "      <td>-0.618851</td>\n",
       "    </tr>\n",
       "    <tr>\n",
       "      <th>2020-08-18</th>\n",
       "      <td>-0.694769</td>\n",
       "      <td>-0.694629</td>\n",
       "      <td>0.136500</td>\n",
       "      <td>40.072725</td>\n",
       "      <td>-0.746126</td>\n",
       "      <td>1.0</td>\n",
       "      <td>-0.614699</td>\n",
       "    </tr>\n",
       "  </tbody>\n",
       "</table>\n",
       "<p>3137 rows × 7 columns</p>\n",
       "</div>"
      ],
      "text/plain": [
       "                 LEE     LEE_1  dLEE_avg    vol_avg  Actual_LEE  const  \\\n",
       "Date                                                                     \n",
       "2008-03-31  0.799434  0.838964  0.031667  42.795661    1.083348    1.0   \n",
       "2008-04-01  0.793169  0.799434  0.029167  41.181751    1.064199    1.0   \n",
       "2008-04-02  0.831041  0.793169  0.115500  40.230716    1.100643    1.0   \n",
       "2008-04-03  0.822183  0.831041  0.147333  39.048825    1.106103    1.0   \n",
       "2008-04-04  0.842709  0.822183  0.161000  38.515429    1.107614    1.0   \n",
       "...              ...       ...       ...        ...         ...    ...   \n",
       "2020-08-12 -0.700714 -0.726013  0.171667  43.845206   -0.812238    1.0   \n",
       "2020-08-13 -0.708868 -0.700714  0.145000  42.829872   -0.854486    1.0   \n",
       "2020-08-14 -0.713989 -0.708868  0.129167  41.774616   -0.774884    1.0   \n",
       "2020-08-17 -0.694629 -0.713989  0.156667  40.926591   -0.747199    1.0   \n",
       "2020-08-18 -0.694769 -0.694629  0.136500  40.072725   -0.746126    1.0   \n",
       "\n",
       "            Predicted_LEE  \n",
       "Date                       \n",
       "2008-03-31       0.738019  \n",
       "2008-04-01       0.725674  \n",
       "2008-04-02       0.747593  \n",
       "2008-04-03       0.747044  \n",
       "2008-04-04       0.759151  \n",
       "...                   ...  \n",
       "2020-08-12      -0.625218  \n",
       "2020-08-13      -0.625374  \n",
       "2020-08-14      -0.630230  \n",
       "2020-08-17      -0.618851  \n",
       "2020-08-18      -0.614699  \n",
       "\n",
       "[3137 rows x 7 columns]"
      ]
     },
     "execution_count": 70,
     "metadata": {},
     "output_type": "execute_result"
    }
   ],
   "source": [
    "# Predict\n",
    "feats = frame_to_feats(test).dropna(how='any')\n",
    "X_test = feats.drop('Actual_LEE', axis=1).values\n",
    "y_test = feats['Actual_LEE'].values\n",
    "feats['Predicted_LEE'] = regress.predict(X_test)\n",
    "\n",
    "feats"
   ]
  },
  {
   "cell_type": "code",
   "execution_count": 71,
   "metadata": {
    "execution": {
     "iopub.execute_input": "2020-11-15T04:16:29.746977Z",
     "iopub.status.busy": "2020-11-15T04:16:29.745973Z",
     "iopub.status.idle": "2020-11-15T04:16:29.823971Z",
     "shell.execute_reply": "2020-11-15T04:16:29.822970Z",
     "shell.execute_reply.started": "2020-11-15T04:16:29.746977Z"
    },
    "slideshow": null
   },
   "outputs": [
    {
     "data": {
      "text/html": [
       "<div>\n",
       "<style scoped>\n",
       "    .dataframe tbody tr th:only-of-type {\n",
       "        vertical-align: middle;\n",
       "    }\n",
       "\n",
       "    .dataframe tbody tr th {\n",
       "        vertical-align: top;\n",
       "    }\n",
       "\n",
       "    .dataframe thead th {\n",
       "        text-align: right;\n",
       "    }\n",
       "</style>\n",
       "<table border=\"1\" class=\"dataframe\">\n",
       "  <thead>\n",
       "    <tr style=\"text-align: right;\">\n",
       "      <th></th>\n",
       "      <th>LEE</th>\n",
       "      <th>LEE_1</th>\n",
       "      <th>dLEE_avg</th>\n",
       "      <th>vol_avg</th>\n",
       "      <th>Actual_LEE</th>\n",
       "      <th>const</th>\n",
       "      <th>Predicted_LEE</th>\n",
       "      <th>Value</th>\n",
       "      <th>Julian</th>\n",
       "      <th>const_r</th>\n",
       "      <th>Exponential_Model</th>\n",
       "      <th>Log_Error_Exponential</th>\n",
       "      <th>Actual</th>\n",
       "      <th>Simple_Model</th>\n",
       "    </tr>\n",
       "    <tr>\n",
       "      <th>Date</th>\n",
       "      <th></th>\n",
       "      <th></th>\n",
       "      <th></th>\n",
       "      <th></th>\n",
       "      <th></th>\n",
       "      <th></th>\n",
       "      <th></th>\n",
       "      <th></th>\n",
       "      <th></th>\n",
       "      <th></th>\n",
       "      <th></th>\n",
       "      <th></th>\n",
       "      <th></th>\n",
       "      <th></th>\n",
       "    </tr>\n",
       "  </thead>\n",
       "  <tbody>\n",
       "    <tr>\n",
       "      <th>2008-03-31</th>\n",
       "      <td>0.799434</td>\n",
       "      <td>0.838964</td>\n",
       "      <td>0.031667</td>\n",
       "      <td>42.795661</td>\n",
       "      <td>1.083348</td>\n",
       "      <td>1.0</td>\n",
       "      <td>0.738019</td>\n",
       "      <td>101.54</td>\n",
       "      <td>2454556.5</td>\n",
       "      <td>1.0</td>\n",
       "      <td>45.650710</td>\n",
       "      <td>0.799434</td>\n",
       "      <td>136.49</td>\n",
       "      <td>95.491576</td>\n",
       "    </tr>\n",
       "    <tr>\n",
       "      <th>2008-04-01</th>\n",
       "      <td>0.793169</td>\n",
       "      <td>0.799434</td>\n",
       "      <td>0.029167</td>\n",
       "      <td>41.181751</td>\n",
       "      <td>1.064199</td>\n",
       "      <td>1.0</td>\n",
       "      <td>0.725674</td>\n",
       "      <td>100.92</td>\n",
       "      <td>2454557.5</td>\n",
       "      <td>1.0</td>\n",
       "      <td>45.657093</td>\n",
       "      <td>0.793169</td>\n",
       "      <td>133.92</td>\n",
       "      <td>94.333169</td>\n",
       "    </tr>\n",
       "    <tr>\n",
       "      <th>2008-04-02</th>\n",
       "      <td>0.831041</td>\n",
       "      <td>0.793169</td>\n",
       "      <td>0.115500</td>\n",
       "      <td>40.230716</td>\n",
       "      <td>1.100643</td>\n",
       "      <td>1.0</td>\n",
       "      <td>0.747593</td>\n",
       "      <td>104.83</td>\n",
       "      <td>2454558.5</td>\n",
       "      <td>1.0</td>\n",
       "      <td>45.663477</td>\n",
       "      <td>0.831041</td>\n",
       "      <td>138.91</td>\n",
       "      <td>96.437152</td>\n",
       "    </tr>\n",
       "    <tr>\n",
       "      <th>2008-04-03</th>\n",
       "      <td>0.822183</td>\n",
       "      <td>0.831041</td>\n",
       "      <td>0.147333</td>\n",
       "      <td>39.048825</td>\n",
       "      <td>1.106103</td>\n",
       "      <td>1.0</td>\n",
       "      <td>0.747044</td>\n",
       "      <td>103.92</td>\n",
       "      <td>2454559.5</td>\n",
       "      <td>1.0</td>\n",
       "      <td>45.669862</td>\n",
       "      <td>0.822183</td>\n",
       "      <td>139.69</td>\n",
       "      <td>96.397707</td>\n",
       "    </tr>\n",
       "    <tr>\n",
       "      <th>2008-04-04</th>\n",
       "      <td>0.842709</td>\n",
       "      <td>0.822183</td>\n",
       "      <td>0.161000</td>\n",
       "      <td>38.515429</td>\n",
       "      <td>1.107614</td>\n",
       "      <td>1.0</td>\n",
       "      <td>0.759151</td>\n",
       "      <td>106.09</td>\n",
       "      <td>2454560.5</td>\n",
       "      <td>1.0</td>\n",
       "      <td>45.676248</td>\n",
       "      <td>0.842709</td>\n",
       "      <td>139.96</td>\n",
       "      <td>97.585537</td>\n",
       "    </tr>\n",
       "    <tr>\n",
       "      <th>...</th>\n",
       "      <td>...</td>\n",
       "      <td>...</td>\n",
       "      <td>...</td>\n",
       "      <td>...</td>\n",
       "      <td>...</td>\n",
       "      <td>...</td>\n",
       "      <td>...</td>\n",
       "      <td>...</td>\n",
       "      <td>...</td>\n",
       "      <td>...</td>\n",
       "      <td>...</td>\n",
       "      <td>...</td>\n",
       "      <td>...</td>\n",
       "      <td>...</td>\n",
       "    </tr>\n",
       "    <tr>\n",
       "      <th>2020-08-12</th>\n",
       "      <td>-0.700714</td>\n",
       "      <td>-0.726013</td>\n",
       "      <td>0.171667</td>\n",
       "      <td>43.845206</td>\n",
       "      <td>-0.812238</td>\n",
       "      <td>1.0</td>\n",
       "      <td>-0.625218</td>\n",
       "      <td>42.60</td>\n",
       "      <td>2459073.5</td>\n",
       "      <td>1.0</td>\n",
       "      <td>85.847176</td>\n",
       "      <td>-0.700714</td>\n",
       "      <td>38.56</td>\n",
       "      <td>45.940686</td>\n",
       "    </tr>\n",
       "    <tr>\n",
       "      <th>2020-08-13</th>\n",
       "      <td>-0.708868</td>\n",
       "      <td>-0.700714</td>\n",
       "      <td>0.145000</td>\n",
       "      <td>42.829872</td>\n",
       "      <td>-0.854486</td>\n",
       "      <td>1.0</td>\n",
       "      <td>-0.625374</td>\n",
       "      <td>42.26</td>\n",
       "      <td>2459074.5</td>\n",
       "      <td>1.0</td>\n",
       "      <td>85.859180</td>\n",
       "      <td>-0.708868</td>\n",
       "      <td>36.97</td>\n",
       "      <td>45.939944</td>\n",
       "    </tr>\n",
       "    <tr>\n",
       "      <th>2020-08-14</th>\n",
       "      <td>-0.713989</td>\n",
       "      <td>-0.708868</td>\n",
       "      <td>0.129167</td>\n",
       "      <td>41.774616</td>\n",
       "      <td>-0.774884</td>\n",
       "      <td>1.0</td>\n",
       "      <td>-0.630230</td>\n",
       "      <td>42.05</td>\n",
       "      <td>2459075.5</td>\n",
       "      <td>1.0</td>\n",
       "      <td>85.871185</td>\n",
       "      <td>-0.713989</td>\n",
       "      <td>40.05</td>\n",
       "      <td>45.723769</td>\n",
       "    </tr>\n",
       "    <tr>\n",
       "      <th>2020-08-17</th>\n",
       "      <td>-0.694629</td>\n",
       "      <td>-0.713989</td>\n",
       "      <td>0.156667</td>\n",
       "      <td>40.926591</td>\n",
       "      <td>-0.747199</td>\n",
       "      <td>1.0</td>\n",
       "      <td>-0.618851</td>\n",
       "      <td>42.89</td>\n",
       "      <td>2459078.5</td>\n",
       "      <td>1.0</td>\n",
       "      <td>85.907212</td>\n",
       "      <td>-0.694629</td>\n",
       "      <td>41.18</td>\n",
       "      <td>46.266422</td>\n",
       "    </tr>\n",
       "    <tr>\n",
       "      <th>2020-08-18</th>\n",
       "      <td>-0.694769</td>\n",
       "      <td>-0.694629</td>\n",
       "      <td>0.136500</td>\n",
       "      <td>40.072725</td>\n",
       "      <td>-0.746126</td>\n",
       "      <td>1.0</td>\n",
       "      <td>-0.614699</td>\n",
       "      <td>42.89</td>\n",
       "      <td>2459079.5</td>\n",
       "      <td>1.0</td>\n",
       "      <td>85.919224</td>\n",
       "      <td>-0.694769</td>\n",
       "      <td>41.23</td>\n",
       "      <td>46.465450</td>\n",
       "    </tr>\n",
       "  </tbody>\n",
       "</table>\n",
       "<p>3137 rows × 14 columns</p>\n",
       "</div>"
      ],
      "text/plain": [
       "                 LEE     LEE_1  dLEE_avg    vol_avg  Actual_LEE  const  \\\n",
       "Date                                                                     \n",
       "2008-03-31  0.799434  0.838964  0.031667  42.795661    1.083348    1.0   \n",
       "2008-04-01  0.793169  0.799434  0.029167  41.181751    1.064199    1.0   \n",
       "2008-04-02  0.831041  0.793169  0.115500  40.230716    1.100643    1.0   \n",
       "2008-04-03  0.822183  0.831041  0.147333  39.048825    1.106103    1.0   \n",
       "2008-04-04  0.842709  0.822183  0.161000  38.515429    1.107614    1.0   \n",
       "...              ...       ...       ...        ...         ...    ...   \n",
       "2020-08-12 -0.700714 -0.726013  0.171667  43.845206   -0.812238    1.0   \n",
       "2020-08-13 -0.708868 -0.700714  0.145000  42.829872   -0.854486    1.0   \n",
       "2020-08-14 -0.713989 -0.708868  0.129167  41.774616   -0.774884    1.0   \n",
       "2020-08-17 -0.694629 -0.713989  0.156667  40.926591   -0.747199    1.0   \n",
       "2020-08-18 -0.694769 -0.694629  0.136500  40.072725   -0.746126    1.0   \n",
       "\n",
       "            Predicted_LEE   Value     Julian  const_r  Exponential_Model  \\\n",
       "Date                                                                       \n",
       "2008-03-31       0.738019  101.54  2454556.5      1.0          45.650710   \n",
       "2008-04-01       0.725674  100.92  2454557.5      1.0          45.657093   \n",
       "2008-04-02       0.747593  104.83  2454558.5      1.0          45.663477   \n",
       "2008-04-03       0.747044  103.92  2454559.5      1.0          45.669862   \n",
       "2008-04-04       0.759151  106.09  2454560.5      1.0          45.676248   \n",
       "...                   ...     ...        ...      ...                ...   \n",
       "2020-08-12      -0.625218   42.60  2459073.5      1.0          85.847176   \n",
       "2020-08-13      -0.625374   42.26  2459074.5      1.0          85.859180   \n",
       "2020-08-14      -0.630230   42.05  2459075.5      1.0          85.871185   \n",
       "2020-08-17      -0.618851   42.89  2459078.5      1.0          85.907212   \n",
       "2020-08-18      -0.614699   42.89  2459079.5      1.0          85.919224   \n",
       "\n",
       "            Log_Error_Exponential  Actual  Simple_Model  \n",
       "Date                                                     \n",
       "2008-03-31               0.799434  136.49     95.491576  \n",
       "2008-04-01               0.793169  133.92     94.333169  \n",
       "2008-04-02               0.831041  138.91     96.437152  \n",
       "2008-04-03               0.822183  139.69     96.397707  \n",
       "2008-04-04               0.842709  139.96     97.585537  \n",
       "...                           ...     ...           ...  \n",
       "2020-08-12              -0.700714   38.56     45.940686  \n",
       "2020-08-13              -0.708868   36.97     45.939944  \n",
       "2020-08-14              -0.713989   40.05     45.723769  \n",
       "2020-08-17              -0.694629   41.18     46.266422  \n",
       "2020-08-18              -0.694769   41.23     46.465450  \n",
       "\n",
       "[3137 rows x 14 columns]"
      ]
     },
     "execution_count": 71,
     "metadata": {},
     "output_type": "execute_result"
    }
   ],
   "source": [
    "test = feats.join(test, rsuffix='_r').dropna(how='any')\n",
    "test['Simple_Model'] = np.exp(test['Predicted_LEE']) * test['Exponential_Model']\n",
    "\n",
    "test"
   ]
  },
  {
   "cell_type": "code",
   "execution_count": 72,
   "metadata": {
    "execution": {
     "iopub.execute_input": "2020-11-15T04:16:42.279384Z",
     "iopub.status.busy": "2020-11-15T04:16:42.278384Z",
     "iopub.status.idle": "2020-11-15T04:16:42.318416Z",
     "shell.execute_reply": "2020-11-15T04:16:42.317384Z",
     "shell.execute_reply.started": "2020-11-15T04:16:42.279384Z"
    },
    "slideshow": null
   },
   "outputs": [
    {
     "data": {
      "text/html": [
       "<div>\n",
       "<style scoped>\n",
       "    .dataframe tbody tr th:only-of-type {\n",
       "        vertical-align: middle;\n",
       "    }\n",
       "\n",
       "    .dataframe tbody tr th {\n",
       "        vertical-align: top;\n",
       "    }\n",
       "\n",
       "    .dataframe thead th {\n",
       "        text-align: right;\n",
       "    }\n",
       "</style>\n",
       "<table border=\"1\" class=\"dataframe\">\n",
       "  <thead>\n",
       "    <tr style=\"text-align: right;\">\n",
       "      <th></th>\n",
       "      <th>Actual</th>\n",
       "      <th>Model</th>\n",
       "    </tr>\n",
       "    <tr>\n",
       "      <th>Date</th>\n",
       "      <th></th>\n",
       "      <th></th>\n",
       "    </tr>\n",
       "  </thead>\n",
       "  <tbody>\n",
       "    <tr>\n",
       "      <th>2008-03-31</th>\n",
       "      <td>136.49</td>\n",
       "      <td>95.491576</td>\n",
       "    </tr>\n",
       "    <tr>\n",
       "      <th>2008-04-01</th>\n",
       "      <td>133.92</td>\n",
       "      <td>94.333169</td>\n",
       "    </tr>\n",
       "    <tr>\n",
       "      <th>2008-04-02</th>\n",
       "      <td>138.91</td>\n",
       "      <td>96.437152</td>\n",
       "    </tr>\n",
       "    <tr>\n",
       "      <th>2008-04-03</th>\n",
       "      <td>139.69</td>\n",
       "      <td>96.397707</td>\n",
       "    </tr>\n",
       "    <tr>\n",
       "      <th>2008-04-04</th>\n",
       "      <td>139.96</td>\n",
       "      <td>97.585537</td>\n",
       "    </tr>\n",
       "    <tr>\n",
       "      <th>...</th>\n",
       "      <td>...</td>\n",
       "      <td>...</td>\n",
       "    </tr>\n",
       "    <tr>\n",
       "      <th>2020-08-12</th>\n",
       "      <td>38.56</td>\n",
       "      <td>45.940686</td>\n",
       "    </tr>\n",
       "    <tr>\n",
       "      <th>2020-08-13</th>\n",
       "      <td>36.97</td>\n",
       "      <td>45.939944</td>\n",
       "    </tr>\n",
       "    <tr>\n",
       "      <th>2020-08-14</th>\n",
       "      <td>40.05</td>\n",
       "      <td>45.723769</td>\n",
       "    </tr>\n",
       "    <tr>\n",
       "      <th>2020-08-17</th>\n",
       "      <td>41.18</td>\n",
       "      <td>46.266422</td>\n",
       "    </tr>\n",
       "    <tr>\n",
       "      <th>2020-08-18</th>\n",
       "      <td>41.23</td>\n",
       "      <td>46.465450</td>\n",
       "    </tr>\n",
       "  </tbody>\n",
       "</table>\n",
       "<p>3137 rows × 2 columns</p>\n",
       "</div>"
      ],
      "text/plain": [
       "            Actual      Model\n",
       "Date                         \n",
       "2008-03-31  136.49  95.491576\n",
       "2008-04-01  133.92  94.333169\n",
       "2008-04-02  138.91  96.437152\n",
       "2008-04-03  139.69  96.397707\n",
       "2008-04-04  139.96  97.585537\n",
       "...            ...        ...\n",
       "2020-08-12   38.56  45.940686\n",
       "2020-08-13   36.97  45.939944\n",
       "2020-08-14   40.05  45.723769\n",
       "2020-08-17   41.18  46.266422\n",
       "2020-08-18   41.23  46.465450\n",
       "\n",
       "[3137 rows x 2 columns]"
      ]
     },
     "execution_count": 72,
     "metadata": {},
     "output_type": "execute_result"
    }
   ],
   "source": [
    "# Report\n",
    "test_me = test[['Actual', 'Simple_Model']].dropna(how='any') \\\n",
    "                                          .rename(columns={'Simple_Model': 'Model'})\n",
    "test_me"
   ]
  },
  {
   "cell_type": "code",
   "execution_count": 73,
   "metadata": {
    "execution": {
     "iopub.execute_input": "2020-11-15T04:16:44.397989Z",
     "iopub.status.busy": "2020-11-15T04:16:44.396992Z",
     "iopub.status.idle": "2020-11-15T04:16:45.576990Z",
     "shell.execute_reply": "2020-11-15T04:16:45.575989Z",
     "shell.execute_reply.started": "2020-11-15T04:16:44.397989Z"
    },
    "slideshow": null
   },
   "outputs": [
    {
     "name": "stdout",
     "output_type": "stream",
     "text": [
      "count    3137.000000\n",
      "mean       -0.069726\n",
      "std         0.357564\n",
      "min        -5.411939\n",
      "25%        -0.110714\n",
      "50%         0.014211\n",
      "75%         0.102081\n",
      "max         0.653470\n",
      "dtype: float64\n"
     ]
    },
    {
     "data": {
      "image/png": "[encoded data removed]",
      "text/plain": [
       "<Figure size 432x288 with 1 Axes>"
      ]
     },
     "metadata": {},
     "output_type": "display_data"
    },
    {
     "data": {
      "image/png": "[encoded data removed]",
      "text/plain": [
       "<Figure size 432x288 with 1 Axes>"
      ]
     },
     "metadata": {},
     "output_type": "display_data"
    },
    {
     "name": "stdout",
     "output_type": "stream",
     "text": [
      "210.0027320796922\n"
     ]
    }
   ],
   "source": [
    "summarize_errors(test_me)"
   ]
  },
  {
   "cell_type": "markdown",
   "metadata": {
    "slideshow": null
   },
   "source": [
    "**Exercise**: Build a temperature predictor using just these other features.  Try experimenting with non-linear models like random forests as well as linear ones.  While it may not be as effective, it can add signal when combined with the above models.  *Notes*:\n",
    "1. Make sure you don't accidentally give yourself access to concurrent data: you cannot use the wind direction this hour to predict the temperature, you have to use past wind direction information.\n",
    "1. Try combining the signal using non-linear as well as linear techniques.  Is there a reason you might think that linear techniques work pretty well for aggregation of different signals?"
   ]
  },
  {
   "cell_type": "markdown",
   "metadata": {
    "slideshow": null
   },
   "source": [
    "## Using external data sources as features\n"
   ]
  },
  {
   "cell_type": "markdown",
   "metadata": {
    "slideshow": null
   },
   "source": [
    "So far, our features have all depended on the date and previous temperature.  However, we can add in other variables into our prediction. Ideally we'd like to find signal in additional data sources that accounts for some of the error; to try to conceptually explain sources of error or skews in the distribution of error; etc.  Here are examples of other data sources we might try:\n",
    "\n",
    "  - Other financial indicators (e.g., interest rates, volatilities, related commodities)\n",
    "  - Non-financial indicators (e.g., weather, indicators for weather patterns / wars, geopolitical data like GDELT (__[Global Database of Events, Language, and Tone](https://www.gdeltproject.org/)__)).\n",
    "  \n",
    "We'll show the example of trying to use natural gas futures contracts. Can you do better?"
   ]
  },
  {
   "cell_type": "code",
   "execution_count": 76,
   "metadata": {
    "execution": {
     "iopub.execute_input": "2020-11-15T04:23:26.721371Z",
     "iopub.status.busy": "2020-11-15T04:23:26.721371Z",
     "iopub.status.idle": "2020-11-15T04:23:32.016123Z",
     "shell.execute_reply": "2020-11-15T04:23:32.015121Z",
     "shell.execute_reply.started": "2020-11-15T04:23:26.721371Z"
    },
    "slideshow": null
   },
   "outputs": [],
   "source": [
    "ng_fut = get_quandl(\"CHRIS/CME_NG1\", authtoken)\n",
    "# vix = get_quandl(\"CBOE/VIX\", authtoken)\n",
    "vix = get_quandl(\"CHRIS/CBOE_VX1\", authtoken)\n",
    "\n",
    "with open('small_data/quandl_ng_fut.pkl', 'wb') as f:\n",
    "   dill.dump(ng_fut, f)  \n",
    "\n",
    "with open(\"small_data/quandl_ng_fut.pkl\", \"rb\") as fin:\n",
    "    ng_fut = dill.load(fin)\n",
    "\n",
    "oil['vix'] = vix['Close']\n",
    "oil['ng_fut'] = ng_fut['Settle']\n"
   ]
  },
  {
   "cell_type": "code",
   "execution_count": 82,
   "metadata": {
    "execution": {
     "iopub.execute_input": "2020-11-15T04:25:05.848303Z",
     "iopub.status.busy": "2020-11-15T04:25:05.847305Z",
     "iopub.status.idle": "2020-11-15T04:25:05.865323Z",
     "shell.execute_reply": "2020-11-15T04:25:05.864304Z",
     "shell.execute_reply.started": "2020-11-15T04:25:05.848303Z"
    },
    "slideshow": null
   },
   "outputs": [
    {
     "name": "stdout",
     "output_type": "stream",
     "text": [
      "0.20746234523649085\n",
      "0.5682360008407379\n"
     ]
    }
   ],
   "source": [
    "# Looking at linear correlations between new data and the stationary residual of the oil data\n",
    "print(oil['Log_Error_Exponential'].corr(oil['vix']))  # Our error term does correlate negatively with vix...\n",
    "print(oil['Log_Error_Exponential'].corr(oil['ng_fut']))"
   ]
  },
  {
   "cell_type": "code",
   "execution_count": 83,
   "metadata": {
    "execution": {
     "iopub.execute_input": "2020-11-15T04:25:15.707976Z",
     "iopub.status.busy": "2020-11-15T04:25:15.706957Z",
     "iopub.status.idle": "2020-11-15T04:25:16.372953Z",
     "shell.execute_reply": "2020-11-15T04:25:16.370982Z",
     "shell.execute_reply.started": "2020-11-15T04:25:15.707976Z"
    },
    "slideshow": null
   },
   "outputs": [
    {
     "data": {
      "image/png": "[encoded data removed]",
      "text/plain": [
       "<Figure size 432x288 with 1 Axes>"
      ]
     },
     "metadata": {},
     "output_type": "display_data"
    }
   ],
   "source": [
    "oil['vix'].plot()\n",
    "plt.show()"
   ]
  },
  {
   "cell_type": "code",
   "execution_count": 84,
   "metadata": {
    "execution": {
     "iopub.execute_input": "2020-11-15T04:25:19.792344Z",
     "iopub.status.busy": "2020-11-15T04:25:19.792344Z",
     "iopub.status.idle": "2020-11-15T04:25:20.420340Z",
     "shell.execute_reply": "2020-11-15T04:25:20.419339Z",
     "shell.execute_reply.started": "2020-11-15T04:25:19.792344Z"
    },
    "slideshow": null
   },
   "outputs": [
    {
     "data": {
      "image/png": "[encoded data removed]",
      "text/plain": [
       "<Figure size 432x288 with 1 Axes>"
      ]
     },
     "metadata": {},
     "output_type": "display_data"
    }
   ],
   "source": [
    "oil['ng_fut'].plot()\n",
    "plt.show()"
   ]
  },
  {
   "cell_type": "code",
   "execution_count": 85,
   "metadata": {
    "execution": {
     "iopub.execute_input": "2020-11-15T04:25:35.193499Z",
     "iopub.status.busy": "2020-11-15T04:25:35.192494Z",
     "iopub.status.idle": "2020-11-15T04:25:35.291494Z",
     "shell.execute_reply": "2020-11-15T04:25:35.290492Z",
     "shell.execute_reply.started": "2020-11-15T04:25:35.193499Z"
    },
    "slideshow": null
   },
   "outputs": [
    {
     "data": {
      "text/plain": [
       "(                 LEE  dLEE_avg    vol_avg  ng_fut  Actual_LEE  const\n",
       " Date                                                                \n",
       " 1990-04-03  0.105019 -0.033667   1.298413   1.635   -0.070426    1.0\n",
       " 1990-04-04  0.082384 -0.052000   1.305354   1.620   -0.078161    1.0\n",
       " 1990-04-05  0.066961 -0.061167   1.334966   1.615   -0.085053    1.0\n",
       " 1990-04-06  0.049736 -0.067000   1.393297   1.625   -0.097667    1.0\n",
       " 1990-04-09  0.005007 -0.067333   1.557477   1.637   -0.097807    1.0\n",
       " ...              ...       ...        ...     ...         ...    ...\n",
       " 2007-09-28  0.607166  0.163833  33.022778   6.870    0.735978    1.0\n",
       " 2007-10-01  0.590322  0.125167  32.703464   7.050    0.755605    1.0\n",
       " 2007-10-02  0.586314  0.131000  32.254389   7.427    0.763153    1.0\n",
       " 2007-10-03  0.585799  0.119500  31.771646   7.277    0.756784    1.0\n",
       " 2007-10-04  0.604366  0.148333  31.738875   7.412    0.755531    1.0\n",
       " \n",
       " [4381 rows x 6 columns],\n",
       " LinearRegression())"
      ]
     },
     "execution_count": 85,
     "metadata": {},
     "output_type": "execute_result"
    }
   ],
   "source": [
    "### Cross validation -- complex model -- notice that we have overfit!\n",
    "\n",
    "#Train/Test\n",
    "train = oil[oil.index.year < CUT_YEAR]\n",
    "test = oil[oil.index.year >= CUT_YEAR]\n",
    "\n",
    "\n",
    "# Train the regression\n",
    "def frame_to_feats(frame):\n",
    "    feats = pd.DataFrame()\n",
    "    \n",
    "    feats['LEE'] = frame['Log_Error_Exponential']\n",
    "    feats['dLEE_avg'] = pd.Series.rolling(frame['Value'].diff(), window=3*PERIOD_MONTH).mean()\n",
    "    feats['vol_avg'] = pd.Series.ewm(frame['Value'], span=3*PERIOD_MONTH).var(bias=False)\n",
    "    \n",
    "    feats['ng_fut'] = frame['ng_fut']\n",
    "    #feats['vix'] = frame['vix']\n",
    "    \n",
    "    feats['Actual_LEE'] = frame['Log_Error_Exponential'].shift(-PREDICTION_LAG)\n",
    "    return add_constant(feats)\n",
    "    \n",
    "\n",
    "feats = frame_to_feats(train).dropna(how='any')\n",
    "regress = sklearn.linear_model.LinearRegression().fit( \n",
    "        X=feats.drop('Actual_LEE', axis=1), \n",
    "        y=feats['Actual_LEE'])\n",
    "\n",
    "feats, regress"
   ]
  },
  {
   "cell_type": "code",
   "execution_count": 86,
   "metadata": {
    "execution": {
     "iopub.execute_input": "2020-11-15T04:25:52.054729Z",
     "iopub.status.busy": "2020-11-15T04:25:52.053728Z",
     "iopub.status.idle": "2020-11-15T04:25:52.149726Z",
     "shell.execute_reply": "2020-11-15T04:25:52.148725Z",
     "shell.execute_reply.started": "2020-11-15T04:25:52.054729Z"
    },
    "slideshow": null
   },
   "outputs": [
    {
     "data": {
      "text/html": [
       "<div>\n",
       "<style scoped>\n",
       "    .dataframe tbody tr th:only-of-type {\n",
       "        vertical-align: middle;\n",
       "    }\n",
       "\n",
       "    .dataframe tbody tr th {\n",
       "        vertical-align: top;\n",
       "    }\n",
       "\n",
       "    .dataframe thead th {\n",
       "        text-align: right;\n",
       "    }\n",
       "</style>\n",
       "<table border=\"1\" class=\"dataframe\">\n",
       "  <thead>\n",
       "    <tr style=\"text-align: right;\">\n",
       "      <th></th>\n",
       "      <th>LEE</th>\n",
       "      <th>dLEE_avg</th>\n",
       "      <th>vol_avg</th>\n",
       "      <th>ng_fut</th>\n",
       "      <th>Actual_LEE</th>\n",
       "      <th>const</th>\n",
       "      <th>Predicted_LEE</th>\n",
       "    </tr>\n",
       "    <tr>\n",
       "      <th>Date</th>\n",
       "      <th></th>\n",
       "      <th></th>\n",
       "      <th></th>\n",
       "      <th></th>\n",
       "      <th></th>\n",
       "      <th></th>\n",
       "      <th></th>\n",
       "    </tr>\n",
       "  </thead>\n",
       "  <tbody>\n",
       "    <tr>\n",
       "      <th>2008-03-31</th>\n",
       "      <td>0.799434</td>\n",
       "      <td>0.031667</td>\n",
       "      <td>42.795661</td>\n",
       "      <td>10.101</td>\n",
       "      <td>1.083348</td>\n",
       "      <td>1.0</td>\n",
       "      <td>0.750188</td>\n",
       "    </tr>\n",
       "    <tr>\n",
       "      <th>2008-04-01</th>\n",
       "      <td>0.793169</td>\n",
       "      <td>0.029167</td>\n",
       "      <td>41.181751</td>\n",
       "      <td>9.724</td>\n",
       "      <td>1.064199</td>\n",
       "      <td>1.0</td>\n",
       "      <td>0.741767</td>\n",
       "    </tr>\n",
       "    <tr>\n",
       "      <th>2008-04-02</th>\n",
       "      <td>0.831041</td>\n",
       "      <td>0.115500</td>\n",
       "      <td>40.230716</td>\n",
       "      <td>9.832</td>\n",
       "      <td>1.100643</td>\n",
       "      <td>1.0</td>\n",
       "      <td>0.769769</td>\n",
       "    </tr>\n",
       "    <tr>\n",
       "      <th>2008-04-03</th>\n",
       "      <td>0.822183</td>\n",
       "      <td>0.147333</td>\n",
       "      <td>39.048825</td>\n",
       "      <td>9.417</td>\n",
       "      <td>1.106103</td>\n",
       "      <td>1.0</td>\n",
       "      <td>0.755308</td>\n",
       "    </tr>\n",
       "    <tr>\n",
       "      <th>2008-04-04</th>\n",
       "      <td>0.842709</td>\n",
       "      <td>0.161000</td>\n",
       "      <td>38.515429</td>\n",
       "      <td>9.322</td>\n",
       "      <td>1.107614</td>\n",
       "      <td>1.0</td>\n",
       "      <td>0.771548</td>\n",
       "    </tr>\n",
       "    <tr>\n",
       "      <th>...</th>\n",
       "      <td>...</td>\n",
       "      <td>...</td>\n",
       "      <td>...</td>\n",
       "      <td>...</td>\n",
       "      <td>...</td>\n",
       "      <td>...</td>\n",
       "      <td>...</td>\n",
       "    </tr>\n",
       "    <tr>\n",
       "      <th>2020-08-12</th>\n",
       "      <td>-0.700714</td>\n",
       "      <td>0.171667</td>\n",
       "      <td>43.845206</td>\n",
       "      <td>2.152</td>\n",
       "      <td>-0.812238</td>\n",
       "      <td>1.0</td>\n",
       "      <td>-0.678664</td>\n",
       "    </tr>\n",
       "    <tr>\n",
       "      <th>2020-08-13</th>\n",
       "      <td>-0.708868</td>\n",
       "      <td>0.145000</td>\n",
       "      <td>42.829872</td>\n",
       "      <td>2.182</td>\n",
       "      <td>-0.854486</td>\n",
       "      <td>1.0</td>\n",
       "      <td>-0.682377</td>\n",
       "    </tr>\n",
       "    <tr>\n",
       "      <th>2020-08-14</th>\n",
       "      <td>-0.713989</td>\n",
       "      <td>0.129167</td>\n",
       "      <td>41.774616</td>\n",
       "      <td>2.356</td>\n",
       "      <td>-0.774884</td>\n",
       "      <td>1.0</td>\n",
       "      <td>-0.682626</td>\n",
       "    </tr>\n",
       "    <tr>\n",
       "      <th>2020-08-17</th>\n",
       "      <td>-0.694629</td>\n",
       "      <td>0.156667</td>\n",
       "      <td>40.926591</td>\n",
       "      <td>2.339</td>\n",
       "      <td>-0.747199</td>\n",
       "      <td>1.0</td>\n",
       "      <td>-0.667433</td>\n",
       "    </tr>\n",
       "    <tr>\n",
       "      <th>2020-08-18</th>\n",
       "      <td>-0.694769</td>\n",
       "      <td>0.136500</td>\n",
       "      <td>40.072725</td>\n",
       "      <td>2.417</td>\n",
       "      <td>-0.746126</td>\n",
       "      <td>1.0</td>\n",
       "      <td>-0.664209</td>\n",
       "    </tr>\n",
       "  </tbody>\n",
       "</table>\n",
       "<p>3102 rows × 7 columns</p>\n",
       "</div>"
      ],
      "text/plain": [
       "                 LEE  dLEE_avg    vol_avg  ng_fut  Actual_LEE  const  \\\n",
       "Date                                                                   \n",
       "2008-03-31  0.799434  0.031667  42.795661  10.101    1.083348    1.0   \n",
       "2008-04-01  0.793169  0.029167  41.181751   9.724    1.064199    1.0   \n",
       "2008-04-02  0.831041  0.115500  40.230716   9.832    1.100643    1.0   \n",
       "2008-04-03  0.822183  0.147333  39.048825   9.417    1.106103    1.0   \n",
       "2008-04-04  0.842709  0.161000  38.515429   9.322    1.107614    1.0   \n",
       "...              ...       ...        ...     ...         ...    ...   \n",
       "2020-08-12 -0.700714  0.171667  43.845206   2.152   -0.812238    1.0   \n",
       "2020-08-13 -0.708868  0.145000  42.829872   2.182   -0.854486    1.0   \n",
       "2020-08-14 -0.713989  0.129167  41.774616   2.356   -0.774884    1.0   \n",
       "2020-08-17 -0.694629  0.156667  40.926591   2.339   -0.747199    1.0   \n",
       "2020-08-18 -0.694769  0.136500  40.072725   2.417   -0.746126    1.0   \n",
       "\n",
       "            Predicted_LEE  \n",
       "Date                       \n",
       "2008-03-31       0.750188  \n",
       "2008-04-01       0.741767  \n",
       "2008-04-02       0.769769  \n",
       "2008-04-03       0.755308  \n",
       "2008-04-04       0.771548  \n",
       "...                   ...  \n",
       "2020-08-12      -0.678664  \n",
       "2020-08-13      -0.682377  \n",
       "2020-08-14      -0.682626  \n",
       "2020-08-17      -0.667433  \n",
       "2020-08-18      -0.664209  \n",
       "\n",
       "[3102 rows x 7 columns]"
      ]
     },
     "execution_count": 86,
     "metadata": {},
     "output_type": "execute_result"
    }
   ],
   "source": [
    "# Predict\n",
    "\n",
    "feats = frame_to_feats(test).dropna(how='any')\n",
    "feats['Predicted_LEE'] = regress.predict(feats.drop('Actual_LEE', axis=1))\n",
    "\n",
    "feats"
   ]
  },
  {
   "cell_type": "code",
   "execution_count": 87,
   "metadata": {
    "execution": {
     "iopub.execute_input": "2020-11-15T04:26:02.380015Z",
     "iopub.status.busy": "2020-11-15T04:26:02.380015Z",
     "iopub.status.idle": "2020-11-15T04:26:02.462013Z",
     "shell.execute_reply": "2020-11-15T04:26:02.460017Z",
     "shell.execute_reply.started": "2020-11-15T04:26:02.380015Z"
    },
    "slideshow": null
   },
   "outputs": [
    {
     "data": {
      "text/html": [
       "<div>\n",
       "<style scoped>\n",
       "    .dataframe tbody tr th:only-of-type {\n",
       "        vertical-align: middle;\n",
       "    }\n",
       "\n",
       "    .dataframe tbody tr th {\n",
       "        vertical-align: top;\n",
       "    }\n",
       "\n",
       "    .dataframe thead th {\n",
       "        text-align: right;\n",
       "    }\n",
       "</style>\n",
       "<table border=\"1\" class=\"dataframe\">\n",
       "  <thead>\n",
       "    <tr style=\"text-align: right;\">\n",
       "      <th></th>\n",
       "      <th>LEE</th>\n",
       "      <th>dLEE_avg</th>\n",
       "      <th>vol_avg</th>\n",
       "      <th>ng_fut</th>\n",
       "      <th>Actual_LEE</th>\n",
       "      <th>const</th>\n",
       "      <th>Predicted_LEE</th>\n",
       "      <th>Value</th>\n",
       "      <th>Julian</th>\n",
       "      <th>const_r</th>\n",
       "      <th>Exponential_Model</th>\n",
       "      <th>Log_Error_Exponential</th>\n",
       "      <th>Actual</th>\n",
       "      <th>vix</th>\n",
       "      <th>ng_fut_r</th>\n",
       "      <th>Complex_Model</th>\n",
       "    </tr>\n",
       "    <tr>\n",
       "      <th>Date</th>\n",
       "      <th></th>\n",
       "      <th></th>\n",
       "      <th></th>\n",
       "      <th></th>\n",
       "      <th></th>\n",
       "      <th></th>\n",
       "      <th></th>\n",
       "      <th></th>\n",
       "      <th></th>\n",
       "      <th></th>\n",
       "      <th></th>\n",
       "      <th></th>\n",
       "      <th></th>\n",
       "      <th></th>\n",
       "      <th></th>\n",
       "      <th></th>\n",
       "    </tr>\n",
       "  </thead>\n",
       "  <tbody>\n",
       "    <tr>\n",
       "      <th>2008-03-31</th>\n",
       "      <td>0.799434</td>\n",
       "      <td>0.031667</td>\n",
       "      <td>42.795661</td>\n",
       "      <td>10.101</td>\n",
       "      <td>1.083348</td>\n",
       "      <td>1.0</td>\n",
       "      <td>0.750188</td>\n",
       "      <td>101.54</td>\n",
       "      <td>2454556.5</td>\n",
       "      <td>1.0</td>\n",
       "      <td>45.650710</td>\n",
       "      <td>0.799434</td>\n",
       "      <td>136.49</td>\n",
       "      <td>25.92</td>\n",
       "      <td>10.101</td>\n",
       "      <td>96.660718</td>\n",
       "    </tr>\n",
       "    <tr>\n",
       "      <th>2008-04-01</th>\n",
       "      <td>0.793169</td>\n",
       "      <td>0.029167</td>\n",
       "      <td>41.181751</td>\n",
       "      <td>9.724</td>\n",
       "      <td>1.064199</td>\n",
       "      <td>1.0</td>\n",
       "      <td>0.741767</td>\n",
       "      <td>100.92</td>\n",
       "      <td>2454557.5</td>\n",
       "      <td>1.0</td>\n",
       "      <td>45.657093</td>\n",
       "      <td>0.793169</td>\n",
       "      <td>133.92</td>\n",
       "      <td>24.00</td>\n",
       "      <td>9.724</td>\n",
       "      <td>95.863596</td>\n",
       "    </tr>\n",
       "    <tr>\n",
       "      <th>2008-04-02</th>\n",
       "      <td>0.831041</td>\n",
       "      <td>0.115500</td>\n",
       "      <td>40.230716</td>\n",
       "      <td>9.832</td>\n",
       "      <td>1.100643</td>\n",
       "      <td>1.0</td>\n",
       "      <td>0.769769</td>\n",
       "      <td>104.83</td>\n",
       "      <td>2454558.5</td>\n",
       "      <td>1.0</td>\n",
       "      <td>45.663477</td>\n",
       "      <td>0.831041</td>\n",
       "      <td>138.91</td>\n",
       "      <td>24.64</td>\n",
       "      <td>9.832</td>\n",
       "      <td>98.599699</td>\n",
       "    </tr>\n",
       "    <tr>\n",
       "      <th>2008-04-03</th>\n",
       "      <td>0.822183</td>\n",
       "      <td>0.147333</td>\n",
       "      <td>39.048825</td>\n",
       "      <td>9.417</td>\n",
       "      <td>1.106103</td>\n",
       "      <td>1.0</td>\n",
       "      <td>0.755308</td>\n",
       "      <td>103.92</td>\n",
       "      <td>2454559.5</td>\n",
       "      <td>1.0</td>\n",
       "      <td>45.669862</td>\n",
       "      <td>0.822183</td>\n",
       "      <td>139.69</td>\n",
       "      <td>24.25</td>\n",
       "      <td>9.417</td>\n",
       "      <td>97.197702</td>\n",
       "    </tr>\n",
       "    <tr>\n",
       "      <th>2008-04-04</th>\n",
       "      <td>0.842709</td>\n",
       "      <td>0.161000</td>\n",
       "      <td>38.515429</td>\n",
       "      <td>9.322</td>\n",
       "      <td>1.107614</td>\n",
       "      <td>1.0</td>\n",
       "      <td>0.771548</td>\n",
       "      <td>106.09</td>\n",
       "      <td>2454560.5</td>\n",
       "      <td>1.0</td>\n",
       "      <td>45.676248</td>\n",
       "      <td>0.842709</td>\n",
       "      <td>139.96</td>\n",
       "      <td>24.00</td>\n",
       "      <td>9.322</td>\n",
       "      <td>98.802851</td>\n",
       "    </tr>\n",
       "    <tr>\n",
       "      <th>...</th>\n",
       "      <td>...</td>\n",
       "      <td>...</td>\n",
       "      <td>...</td>\n",
       "      <td>...</td>\n",
       "      <td>...</td>\n",
       "      <td>...</td>\n",
       "      <td>...</td>\n",
       "      <td>...</td>\n",
       "      <td>...</td>\n",
       "      <td>...</td>\n",
       "      <td>...</td>\n",
       "      <td>...</td>\n",
       "      <td>...</td>\n",
       "      <td>...</td>\n",
       "      <td>...</td>\n",
       "      <td>...</td>\n",
       "    </tr>\n",
       "    <tr>\n",
       "      <th>2020-08-12</th>\n",
       "      <td>-0.700714</td>\n",
       "      <td>0.171667</td>\n",
       "      <td>43.845206</td>\n",
       "      <td>2.152</td>\n",
       "      <td>-0.812238</td>\n",
       "      <td>1.0</td>\n",
       "      <td>-0.678664</td>\n",
       "      <td>42.60</td>\n",
       "      <td>2459073.5</td>\n",
       "      <td>1.0</td>\n",
       "      <td>85.847176</td>\n",
       "      <td>-0.700714</td>\n",
       "      <td>38.56</td>\n",
       "      <td>23.35</td>\n",
       "      <td>2.152</td>\n",
       "      <td>43.549775</td>\n",
       "    </tr>\n",
       "    <tr>\n",
       "      <th>2020-08-13</th>\n",
       "      <td>-0.708868</td>\n",
       "      <td>0.145000</td>\n",
       "      <td>42.829872</td>\n",
       "      <td>2.182</td>\n",
       "      <td>-0.854486</td>\n",
       "      <td>1.0</td>\n",
       "      <td>-0.682377</td>\n",
       "      <td>42.26</td>\n",
       "      <td>2459074.5</td>\n",
       "      <td>1.0</td>\n",
       "      <td>85.859180</td>\n",
       "      <td>-0.708868</td>\n",
       "      <td>36.97</td>\n",
       "      <td>23.20</td>\n",
       "      <td>2.182</td>\n",
       "      <td>43.394437</td>\n",
       "    </tr>\n",
       "    <tr>\n",
       "      <th>2020-08-14</th>\n",
       "      <td>-0.713989</td>\n",
       "      <td>0.129167</td>\n",
       "      <td>41.774616</td>\n",
       "      <td>2.356</td>\n",
       "      <td>-0.774884</td>\n",
       "      <td>1.0</td>\n",
       "      <td>-0.682626</td>\n",
       "      <td>42.05</td>\n",
       "      <td>2459075.5</td>\n",
       "      <td>1.0</td>\n",
       "      <td>85.871185</td>\n",
       "      <td>-0.713989</td>\n",
       "      <td>40.05</td>\n",
       "      <td>23.29</td>\n",
       "      <td>2.356</td>\n",
       "      <td>43.389704</td>\n",
       "    </tr>\n",
       "    <tr>\n",
       "      <th>2020-08-17</th>\n",
       "      <td>-0.694629</td>\n",
       "      <td>0.156667</td>\n",
       "      <td>40.926591</td>\n",
       "      <td>2.339</td>\n",
       "      <td>-0.747199</td>\n",
       "      <td>1.0</td>\n",
       "      <td>-0.667433</td>\n",
       "      <td>42.89</td>\n",
       "      <td>2459078.5</td>\n",
       "      <td>1.0</td>\n",
       "      <td>85.907212</td>\n",
       "      <td>-0.694629</td>\n",
       "      <td>41.18</td>\n",
       "      <td>21.90</td>\n",
       "      <td>2.339</td>\n",
       "      <td>44.072430</td>\n",
       "    </tr>\n",
       "    <tr>\n",
       "      <th>2020-08-18</th>\n",
       "      <td>-0.694769</td>\n",
       "      <td>0.136500</td>\n",
       "      <td>40.072725</td>\n",
       "      <td>2.417</td>\n",
       "      <td>-0.746126</td>\n",
       "      <td>1.0</td>\n",
       "      <td>-0.664209</td>\n",
       "      <td>42.89</td>\n",
       "      <td>2459079.5</td>\n",
       "      <td>1.0</td>\n",
       "      <td>85.919224</td>\n",
       "      <td>-0.694769</td>\n",
       "      <td>41.23</td>\n",
       "      <td>21.95</td>\n",
       "      <td>2.417</td>\n",
       "      <td>44.220949</td>\n",
       "    </tr>\n",
       "  </tbody>\n",
       "</table>\n",
       "<p>3094 rows × 16 columns</p>\n",
       "</div>"
      ],
      "text/plain": [
       "                 LEE  dLEE_avg    vol_avg  ng_fut  Actual_LEE  const  \\\n",
       "Date                                                                   \n",
       "2008-03-31  0.799434  0.031667  42.795661  10.101    1.083348    1.0   \n",
       "2008-04-01  0.793169  0.029167  41.181751   9.724    1.064199    1.0   \n",
       "2008-04-02  0.831041  0.115500  40.230716   9.832    1.100643    1.0   \n",
       "2008-04-03  0.822183  0.147333  39.048825   9.417    1.106103    1.0   \n",
       "2008-04-04  0.842709  0.161000  38.515429   9.322    1.107614    1.0   \n",
       "...              ...       ...        ...     ...         ...    ...   \n",
       "2020-08-12 -0.700714  0.171667  43.845206   2.152   -0.812238    1.0   \n",
       "2020-08-13 -0.708868  0.145000  42.829872   2.182   -0.854486    1.0   \n",
       "2020-08-14 -0.713989  0.129167  41.774616   2.356   -0.774884    1.0   \n",
       "2020-08-17 -0.694629  0.156667  40.926591   2.339   -0.747199    1.0   \n",
       "2020-08-18 -0.694769  0.136500  40.072725   2.417   -0.746126    1.0   \n",
       "\n",
       "            Predicted_LEE   Value     Julian  const_r  Exponential_Model  \\\n",
       "Date                                                                       \n",
       "2008-03-31       0.750188  101.54  2454556.5      1.0          45.650710   \n",
       "2008-04-01       0.741767  100.92  2454557.5      1.0          45.657093   \n",
       "2008-04-02       0.769769  104.83  2454558.5      1.0          45.663477   \n",
       "2008-04-03       0.755308  103.92  2454559.5      1.0          45.669862   \n",
       "2008-04-04       0.771548  106.09  2454560.5      1.0          45.676248   \n",
       "...                   ...     ...        ...      ...                ...   \n",
       "2020-08-12      -0.678664   42.60  2459073.5      1.0          85.847176   \n",
       "2020-08-13      -0.682377   42.26  2459074.5      1.0          85.859180   \n",
       "2020-08-14      -0.682626   42.05  2459075.5      1.0          85.871185   \n",
       "2020-08-17      -0.667433   42.89  2459078.5      1.0          85.907212   \n",
       "2020-08-18      -0.664209   42.89  2459079.5      1.0          85.919224   \n",
       "\n",
       "            Log_Error_Exponential  Actual    vix  ng_fut_r  Complex_Model  \n",
       "Date                                                                       \n",
       "2008-03-31               0.799434  136.49  25.92    10.101      96.660718  \n",
       "2008-04-01               0.793169  133.92  24.00     9.724      95.863596  \n",
       "2008-04-02               0.831041  138.91  24.64     9.832      98.599699  \n",
       "2008-04-03               0.822183  139.69  24.25     9.417      97.197702  \n",
       "2008-04-04               0.842709  139.96  24.00     9.322      98.802851  \n",
       "...                           ...     ...    ...       ...            ...  \n",
       "2020-08-12              -0.700714   38.56  23.35     2.152      43.549775  \n",
       "2020-08-13              -0.708868   36.97  23.20     2.182      43.394437  \n",
       "2020-08-14              -0.713989   40.05  23.29     2.356      43.389704  \n",
       "2020-08-17              -0.694629   41.18  21.90     2.339      44.072430  \n",
       "2020-08-18              -0.694769   41.23  21.95     2.417      44.220949  \n",
       "\n",
       "[3094 rows x 16 columns]"
      ]
     },
     "execution_count": 87,
     "metadata": {},
     "output_type": "execute_result"
    }
   ],
   "source": [
    "test = feats.join(test, rsuffix='_r').dropna(how='any')\n",
    "test['Complex_Model'] = np.exp (test['Predicted_LEE']) * test['Exponential_Model']\n",
    "\n",
    "test"
   ]
  },
  {
   "cell_type": "code",
   "execution_count": 88,
   "metadata": {
    "execution": {
     "iopub.execute_input": "2020-11-15T04:26:15.093409Z",
     "iopub.status.busy": "2020-11-15T04:26:15.093409Z",
     "iopub.status.idle": "2020-11-15T04:26:15.130398Z",
     "shell.execute_reply": "2020-11-15T04:26:15.129397Z",
     "shell.execute_reply.started": "2020-11-15T04:26:15.093409Z"
    },
    "slideshow": null
   },
   "outputs": [
    {
     "data": {
      "text/html": [
       "<div>\n",
       "<style scoped>\n",
       "    .dataframe tbody tr th:only-of-type {\n",
       "        vertical-align: middle;\n",
       "    }\n",
       "\n",
       "    .dataframe tbody tr th {\n",
       "        vertical-align: top;\n",
       "    }\n",
       "\n",
       "    .dataframe thead th {\n",
       "        text-align: right;\n",
       "    }\n",
       "</style>\n",
       "<table border=\"1\" class=\"dataframe\">\n",
       "  <thead>\n",
       "    <tr style=\"text-align: right;\">\n",
       "      <th></th>\n",
       "      <th>Actual</th>\n",
       "      <th>Model</th>\n",
       "    </tr>\n",
       "    <tr>\n",
       "      <th>Date</th>\n",
       "      <th></th>\n",
       "      <th></th>\n",
       "    </tr>\n",
       "  </thead>\n",
       "  <tbody>\n",
       "    <tr>\n",
       "      <th>2008-03-31</th>\n",
       "      <td>136.49</td>\n",
       "      <td>96.660718</td>\n",
       "    </tr>\n",
       "    <tr>\n",
       "      <th>2008-04-01</th>\n",
       "      <td>133.92</td>\n",
       "      <td>95.863596</td>\n",
       "    </tr>\n",
       "    <tr>\n",
       "      <th>2008-04-02</th>\n",
       "      <td>138.91</td>\n",
       "      <td>98.599699</td>\n",
       "    </tr>\n",
       "    <tr>\n",
       "      <th>2008-04-03</th>\n",
       "      <td>139.69</td>\n",
       "      <td>97.197702</td>\n",
       "    </tr>\n",
       "    <tr>\n",
       "      <th>2008-04-04</th>\n",
       "      <td>139.96</td>\n",
       "      <td>98.802851</td>\n",
       "    </tr>\n",
       "    <tr>\n",
       "      <th>...</th>\n",
       "      <td>...</td>\n",
       "      <td>...</td>\n",
       "    </tr>\n",
       "    <tr>\n",
       "      <th>2020-08-12</th>\n",
       "      <td>38.56</td>\n",
       "      <td>43.549775</td>\n",
       "    </tr>\n",
       "    <tr>\n",
       "      <th>2020-08-13</th>\n",
       "      <td>36.97</td>\n",
       "      <td>43.394437</td>\n",
       "    </tr>\n",
       "    <tr>\n",
       "      <th>2020-08-14</th>\n",
       "      <td>40.05</td>\n",
       "      <td>43.389704</td>\n",
       "    </tr>\n",
       "    <tr>\n",
       "      <th>2020-08-17</th>\n",
       "      <td>41.18</td>\n",
       "      <td>44.072430</td>\n",
       "    </tr>\n",
       "    <tr>\n",
       "      <th>2020-08-18</th>\n",
       "      <td>41.23</td>\n",
       "      <td>44.220949</td>\n",
       "    </tr>\n",
       "  </tbody>\n",
       "</table>\n",
       "<p>3094 rows × 2 columns</p>\n",
       "</div>"
      ],
      "text/plain": [
       "            Actual      Model\n",
       "Date                         \n",
       "2008-03-31  136.49  96.660718\n",
       "2008-04-01  133.92  95.863596\n",
       "2008-04-02  138.91  98.599699\n",
       "2008-04-03  139.69  97.197702\n",
       "2008-04-04  139.96  98.802851\n",
       "...            ...        ...\n",
       "2020-08-12   38.56  43.549775\n",
       "2020-08-13   36.97  43.394437\n",
       "2020-08-14   40.05  43.389704\n",
       "2020-08-17   41.18  44.072430\n",
       "2020-08-18   41.23  44.220949\n",
       "\n",
       "[3094 rows x 2 columns]"
      ]
     },
     "execution_count": 88,
     "metadata": {},
     "output_type": "execute_result"
    }
   ],
   "source": [
    "# Report\n",
    "test_me = test[['Actual', 'Complex_Model']].dropna(how='any') \\\n",
    "                                           .rename(columns = {'Complex_Model': 'Model'})\n",
    "\n",
    "test_me"
   ]
  },
  {
   "cell_type": "code",
   "execution_count": 89,
   "metadata": {
    "execution": {
     "iopub.execute_input": "2020-11-15T04:26:18.497161Z",
     "iopub.status.busy": "2020-11-15T04:26:18.496160Z",
     "iopub.status.idle": "2020-11-15T04:26:19.931157Z",
     "shell.execute_reply": "2020-11-15T04:26:19.930159Z",
     "shell.execute_reply.started": "2020-11-15T04:26:18.497161Z"
    },
    "slideshow": null
   },
   "outputs": [
    {
     "name": "stdout",
     "output_type": "stream",
     "text": [
      "count    3094.000000\n",
      "mean       -0.015270\n",
      "std         0.338812\n",
      "min        -5.277557\n",
      "25%        -0.073258\n",
      "50%         0.049622\n",
      "75%         0.138620\n",
      "max         0.758314\n",
      "dtype: float64\n"
     ]
    },
    {
     "data": {
      "image/png": "[encoded data removed]",
      "text/plain": [
       "<Figure size 432x288 with 1 Axes>"
      ]
     },
     "metadata": {},
     "output_type": "display_data"
    },
    {
     "data": {
      "image/png": "[encoded data removed]",
      "text/plain": [
       "<Figure size 432x288 with 1 Axes>"
      ]
     },
     "metadata": {},
     "output_type": "display_data"
    },
    {
     "name": "stdout",
     "output_type": "stream",
     "text": [
      "198.97380750385804\n"
     ]
    }
   ],
   "source": [
    "summarize_errors(test_me)"
   ]
  },
  {
   "cell_type": "markdown",
   "metadata": {
    "slideshow": null
   },
   "source": [
    "### Open-ended brainstorming / exercises\n"
   ]
  },
  {
   "cell_type": "markdown",
   "metadata": {
    "slideshow": null
   },
   "source": [
    "1. What happens to the results above if we change our \"cut point\" to say 2010?  What's the moral of this story...\n",
    "\n",
    "2. Play around with the previous \"Complex\" model, and see if you can improve it.  What happens, for instance, if you get rid of the 'VIX' signal.  Why do you think this might be the case?\n",
    "\n",
    "3. What are some other \"simplest\" models we could have tried? e .g., linear regression just on 'Value' rather than going through this log stuff.  Try some of them -- how do they perform?\n",
    "\n",
    "4. Carry out a similar analysis for the temperature data."
   ]
  },
  {
   "cell_type": "markdown",
   "metadata": {
    "slideshow": null
   },
   "source": [
    "## More advanced time series modeling frameworks"
   ]
  },
  {
   "cell_type": "markdown",
   "metadata": {
    "slideshow": null
   },
   "source": [
    "If a time series can be made stationary (trendless) by differencing or by the methods above, it is common to model it using some combination of auto-regressive terms (weighted average over some recent values) and moving average terms (weighted average over some recent errors) of different orders. The number of terms can be determined through various methods and rules of thumb. [Read more.](http://people.duke.edu/~rnau/411arim.htm)\n",
    "\n",
    "There is an entire literature on [auto-regressive models](https://en.wikipedia.org/wiki/Autoregressive_model) as well as [auto-regressive moving average models](https://en.wikipedia.org/wiki/Autoregressive%E2%80%93moving-average_model).  Read up about them on Wikipedia to get a better idea.  In python, they are implemented in [`Statsmodels`](https://github.com/statsmodels/statsmodels/).\n",
    "\n",
    "* **Moving Average (MA) model**. This model works under the assumption that the output variable depends linearly on the current and past values of noise. \n",
    "$$ X_t = \\mu + \\varepsilon_t + \\sum_{s=1}^q \\theta_s \\varepsilon_{t-s} $$\n",
    "\n",
    "Here, $\\mu$ is the mean of the time series, the $\\varepsilon$'s are the noise, and the $\\theta$'s are the model parameters. We choose $q$ based on the where the autocorrelation function of MA($q$) becomes zero at lag $q+1$. We can fit the model parameters $\\theta$ using least squares regression or maximum likelihood estimation. \n",
    "\n",
    "* **Auto-regressive Model (AR)**.  Informally, auto-regressive processes \"regress to the mean\".  This model works under the assumption that the output depends linearly on the previous values and a stochastic term. \n",
    "\n",
    "$$ X_t = c + \\sum_{r=1}^p \\varphi_r X_{t-r} + \\varepsilon_t $$\n",
    "\n",
    "Here, $c$ is a constant and the $\\varphi$'s are the model parameters. The parameters can be found using least squares regression, maximum likelihood estimation, or the autocorrelation function:\n",
    "\n",
    "$$ \\rho(\\tau) = \\sum_{s=1}^p \\varphi_s \\rho(s - \\tau) $$\n",
    "  \n",
    "* **ARMA**.  This is just a combination of auto-regressive and moving average structures.  An $ARMA(p,q)$ process is given by the equations\n",
    "$$ X_t = \\sum_{r=1}^p \\varphi_r X_{t-r} + \\varepsilon_t + \\sum_{s=1}^q \\theta_s \\varepsilon_{t-s} $$\n",
    "Because we like mathematical shorthand, we will define a \"lag operator\" as\n",
    "$$ L(X)_t = X_{t-1} $$\n",
    "so that $L^2(X)_t = X_{t-2}$, etc ...\n",
    "Then we can rewrite the ARMA equation in terms of the lag operator as\n",
    "$$ \\varphi(L) X = \\theta(L) \\epsilon $$\n",
    "where the polynomials are given by \n",
    "$$\\varphi(z) = 1-\\sum_{r=1}^p \\varphi_r z^r$$\n",
    "and\n",
    "$$\\theta(z) = 1+\\sum_{s=1}^q\\theta_s z^s \\, .$$  It turns out this fancy notation will be useful later on. You can use a 2-step regression to estimate the model parameters. Alternatively you can use maximum likelihood estimation or Yule-Walker estimation. \n",
    "\n",
    "* **ARIMA**.  While ARMA is useful for handling stationary processes, it does not handle non-stationary processes well.  Sometimes we can remove drift and seasonality directly, especially when there is a clear physical interpretation.  Other times, it is easier to just do so automatically by \"differentiating\".  We'll define the operator $\\nabla= (1-L)$ so that\n",
    "$$ (\\nabla X)_t = X_t - X_{t-1} $$\n",
    "Notice that\n",
    "$$ (\\nabla^2 X)_t = (1-L)^2  X_t = (1-2L+L^2)X_t = X_t - 2X_{t-1} + X_{t-2}. $$\n",
    "$ARIMA(p, d, q)$ is just $ARMA(p,q)$ applied to $(\\nabla^d X)_t$.  In our operator notation\n",
    "$$ (\\varphi \\circ \\nabla^d) (L) X = \\theta (L) \\varepsilon\\,. $$\n",
    "Notice that we can just rewrite $\\varphi' = \\varphi \\circ \\nabla^d$ as\n",
    "$$ \\varphi'(z) = 1- \\sum_{r=1}^{p+d} \\varphi'_r z^r = \\left(1-\\sum_{r=1}^p \\varphi_r z^r\\right) (1-z)^d $$\n",
    "and so we have that $ARIMA(p, d, q)$ is (basically) just an $ARMA(p+d,q)$.\n",
    "\n",
    "**Exercise**: Write a *residual regressor* that takes your best model and tries to fit and AR or ARMA model on the residuals using `Statsmodels`.  *Notes:*\n",
    "1.  We should always first remove seasonality and \"last data point\" features (the low-hanging fruit) before trying to perform analysis on the residuals.\n",
    "1.  It is not always natural to fit `Statsmodels` into the framework\n",
    "1.  While the previous models could be tested by training models on the entire training set and then validating, for these autocorrelation models, we have to use sliding-window validation method mentioned above."
   ]
  },
  {
   "cell_type": "markdown",
   "metadata": {
    "slideshow": null
   },
   "source": [
    "### Stochastic auto-regressive models\n"
   ]
  },
  {
   "cell_type": "markdown",
   "metadata": {
    "slideshow": null
   },
   "source": [
    "Our time series has, very clearly, time-varying volatility.  To accurately model these effects, one often uses stochastic models.  To start you Googling, the basic auto-regressive examples are **ARCH/GARCH**.  \n",
    "\n",
    "Let us say just a little about these, leaving an example as an exercise to the reader.  In this type of model, the next time tick's value is drawn from a _distribution_ whose mean **and** standard deviation are modeled over time (and can, in general, be auto-regressive):\n",
    "\n",
    "$$ t_{i+1} = M(\\text{..factors..}) + \\sigma(\\text{..factors..}) \\epsilon_t $$\n",
    "\n",
    "where \n",
    "  - $M$ is some model for the mean (e.g., a linear model depending on some number of time lags of $t_{i}$ and moving averages in GARCH models);\n",
    "  - $\\sigma$ is some model for the standard deviation (as above in GARCH);\n",
    "  - and, $\\epsilon_t$ is a draw from a distribution having (conditional on the factors..) mean equal to zero, and standard deviation equal to one.  (In ARCH, this is a normal distribution.)\n",
    "  \n",
    "Stochastic models allow us to generate a range of future paths, for instance for modeling \"value at risk.\""
   ]
  },
  {
   "cell_type": "markdown",
   "metadata": {
    "slideshow": null
   },
   "source": [
    "### Exit Tickets"
   ]
  },
  {
   "cell_type": "markdown",
   "metadata": {
    "slideshow": null
   },
   "source": [
    "1. Describe how you would cross-validate a time series model.\n",
    "1. Describe the difference between auto-regressive and moving average terms in an ARMA model.\n",
    "1. Explain an FFT to a layperson."
   ]
  },
  {
   "cell_type": "markdown",
   "metadata": {
    "slideshow": null
   },
   "source": [
    "*Copyright &copy; 2020 Pragmatic Institute. This content is licensed solely for personal use. Redistribution or publication of this material is strictly prohibited.*"
   ]
  }
 ],
 "metadata": {
  "kernelspec": {
   "display_name": "Python 3",
   "language": "python",
   "name": "python3"
  },
  "language_info": {
   "codemirror_mode": {
    "name": "ipython",
    "version": 3
   },
   "file_extension": ".py",
   "mimetype": "text/x-python",
   "name": "python",
   "nbconvert_exporter": "python",
   "pygments_lexer": "ipython3",
   "version": "3.7.8"
  },
  "nbclean": true,
  "varInspector": {
   "cols": {
    "lenName": 16,
    "lenType": 16,
    "lenVar": 40
   },
   "kernels_config": {
    "python": {
     "delete_cmd_postfix": "",
     "delete_cmd_prefix": "del ",
     "library": "var_list.py",
     "varRefreshCmd": "print(var_dic_list())"
    },
    "r": {
     "delete_cmd_postfix": ") ",
     "delete_cmd_prefix": "rm(",
     "library": "var_list.r",
     "varRefreshCmd": "cat(var_dic_list()) "
    }
   },
   "types_to_exclude": [
    "module",
    "function",
    "builtin_function_or_method",
    "instance",
    "_Feature"
   ],
   "window_display": false
  }
 },
 "nbformat": 4,
 "nbformat_minor": 4
}
