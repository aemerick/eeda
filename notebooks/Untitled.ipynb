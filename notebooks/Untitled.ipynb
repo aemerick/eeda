{
 "cells": [
  {
   "cell_type": "markdown",
   "metadata": {},
   "source": []
  },
  {
   "cell_type": "code",
   "execution_count": null,
   "metadata": {},
   "outputs": [],
   "source": []
  },
  {
   "cell_type": "markdown",
   "metadata": {},
   "source": [
    "task  - > DS\n",
    "\n",
    "ML Is key do some modeling\n",
    "\n",
    "Don't need data. DE pointed to some nice pile of data\n",
    "\n",
    "general questions so far\n",
    "\n",
    "look at class imbalance if class or regression. Dist. of targets\n",
    "\n",
    "set expectations about performance\n",
    "\n",
    "\n",
    "What classes of ML are available?\n",
    "1) prediction\n",
    "2) clustering\n",
    "supervised and unsupervised \n",
    "\n",
    "\n",
    "What types of 1) depends on coninuous or categorical (reg or class)\n",
    "\n",
    "Binary:\n",
    "    \n",
    "    \n",
    "    unsupervised to do clustering. what happens now?\n",
    "    clustering analysis could be used as feature engineering to generate new features to help the classification\n",
    "    dimentionality reduction is key here. Figuring out which onces are important (PCA)\n",
    "    \n",
    "    linear regression \n",
    "    forests\n",
    "    make sure you know SVM\n",
    "    \n",
    "    precision or recall!\n",
    "    \n",
    "    \n",
    "    does test represent reality??"
   ]
  }
 ],
 "metadata": {
  "kernelspec": {
   "display_name": "Python 3",
   "language": "python",
   "name": "python3"
  },
  "language_info": {
   "codemirror_mode": {
    "name": "ipython",
    "version": 3
   },
   "file_extension": ".py",
   "mimetype": "text/x-python",
   "name": "python",
   "nbconvert_exporter": "python",
   "pygments_lexer": "ipython3",
   "version": "3.7.3"
  },
  "varInspector": {
   "cols": {
    "lenName": 16,
    "lenType": 16,
    "lenVar": 40
   },
   "kernels_config": {
    "python": {
     "delete_cmd_postfix": "",
     "delete_cmd_prefix": "del ",
     "library": "var_list.py",
     "varRefreshCmd": "print(var_dic_list())"
    },
    "r": {
     "delete_cmd_postfix": ") ",
     "delete_cmd_prefix": "rm(",
     "library": "var_list.r",
     "varRefreshCmd": "cat(var_dic_list()) "
    }
   },
   "types_to_exclude": [
    "module",
    "function",
    "builtin_function_or_method",
    "instance",
    "_Feature"
   ],
   "window_display": false
  }
 },
 "nbformat": 4,
 "nbformat_minor": 2
}
